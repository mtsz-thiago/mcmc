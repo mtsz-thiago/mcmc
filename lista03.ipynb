{
 "cells": [
  {
   "cell_type": "markdown",
   "metadata": {},
   "source": [
    "Lista #3 MCMC\n",
    "===\n",
    "\n",
    "Thiago da Mota Souza - thiagosz@cos.ufrj.br"
   ]
  },
  {
   "cell_type": "markdown",
   "metadata": {},
   "source": [
    "## Imports"
   ]
  },
  {
   "cell_type": "code",
   "execution_count": 1,
   "metadata": {},
   "outputs": [],
   "source": [
    "import math\n",
    "import numpy as np\n",
    "import random\n",
    "import time\n",
    "from sklearn.model_selection import KFold\n",
    "import matplotlib.pyplot as plt\n",
    "import requests\n",
    "import scipy.special\n",
    "from multiprocessing import Pool\n",
    "from tqdm import tqdm "
   ]
  },
  {
   "cell_type": "markdown",
   "metadata": {},
   "source": [
    "## Questão 1"
   ]
  },
  {
   "cell_type": "markdown",
   "metadata": {},
   "source": [
    "Usando a mesma ideia da utilizada em sala de aula, podemos considerar o sorteio de pontos dentro de um quadrado de lado unitário que estão contidos em um triângulo $ABC$ de lados $\\overline{AB}=1$, $\\overline{AC}=1$ e $\\angle{BAC} = \\alpha = \\pi/4$. A área desse triângulo é:\n",
    "\n",
    "$$\n",
    "\\begin{equation}\n",
    "Area(ABC) = \\frac{\\sin{(\\alpha)}x1x1}{2} = \\frac{\\sqrt{2}}{4}\n",
    "\\end{equation}\n",
    "$$"
   ]
  },
  {
   "cell_type": "markdown",
   "metadata": {},
   "source": [
    "### Questão 1.1\n",
    "\n",
    "Estabelecendo o vértice A como a origem do sistema de coordenadas, o eixo $x$ congruente ao lado $AC$ e o eixo $y$ perpendicular ao eixo $x$ como o de costume. Assim temos: $A = (0,0)$, $B=\\sqrt{2}/2(1,1)$ e $C=(1,0)$\n",
    "\n",
    "Podemos definir as funções determinísticas, $f_{AB}$ e $f_{BC}$, que descrevem os lados $AB$ e $BC$ respectivamente nos nos intervalos $x \\in [0,1/2]$ e $x \\in [1/2,1]$\n",
    "\n",
    "$$\n",
    "\\begin{equation}\n",
    "f_{AB} = \\sqrt{2}x\n",
    "\\end{equation}\n",
    "$$\n",
    "\n",
    "$$\n",
    "\\begin{equation}\n",
    "f_{BC} = -\\sqrt{2}x + \\sqrt{2}\n",
    "\\end{equation}\n",
    "$$\n",
    "\n",
    "E portanto vamos definir a função $g$ que descreve da sequinte forma\n",
    "\n",
    "$$\n",
    "g(x) = \n",
    "     \\begin{cases}\n",
    "       \\sqrt{2}x & 0 \\geq x < 1/2 \\\\\n",
    "       -\\sqrt{2}x + \\sqrt{2}, & 1/2 < x \\leq 1 \\\\\n",
    "     \\end{cases}\n",
    "$$\n",
    "\n",
    "> OBS: eu entendo que devido as constantes da função g, o que segue tem uma falha que é eu ter que usar o valor de $\\sqrt{2}$ no computo de g. Não tenho tempo para bolar uma outra forma geométrica que escape à isso e vou seguir a questão ignorando esse fato que não altera o uso de Monte Carlo em si.\n",
    "\n",
    "Utilizando a mesma ideia da usada para achar $\\pi$ em sala de aula, podemos estimar a área em baixo dda função $g$ no intervalo $[0,1]$ Para isso devemos definir: $X,Y \\sim Uniforme(0,1)$. Por tanto:\n",
    "\n",
    "$$\n",
    "\\begin{equation}\n",
    "\\label{eq:Q-1-area-int}\n",
    "Area(ABC) = \\int_{x=0}^{1}g(x)dx = E[g(X)] = \\frac{\\sqrt(2)}{4}\n",
    "\\end{equation}\n",
    "$$\n"
   ]
  },
  {
   "cell_type": "markdown",
   "metadata": {},
   "source": [
    "### Questão 1.2\n",
    "\n",
    "da questão anterior, temos que:\n",
    "\n",
    "$$\n",
    "\\begin{equation}\n",
    "\\sigma_{g(X)}^2 = E[(g(X)- \\mu_{g(x)})^2] = E[g(X)^2] - \\mu_{g(X)}^2\n",
    "\\end{equation}\n",
    "$$\n",
    "\n",
    "A média, $\\mu_{g(X)}$ foi construida a partir da área do triângulo e portanto já sabemos que seu valor é $\\sqrt{2}{4}$, mas isso pode ser verificado por:\n",
    "\n",
    "$$\n",
    "\\begin{multline}\n",
    "\\mu_{g(X)} = E[g(X)] = \\int_{0}^{1/2}\\sqrt{2}xdx + \\int_{1/2}^{1}(-\\sqrt{2}x + \\sqrt{2})dx = \\\\\n",
    "\\frac{\\sqrt{2}}{2}x^2\\bigg\\rvert_{0}^{1/2} + \\sqrt(2)\\left(-1/2x^2 + x\\right)\\bigg\\rvert_{1/2}^{1} = \\frac{\\sqrt{2}}{8} \\frac{\\sqrt{2}}{8} = \\frac{\\sqrt{2}}{4}\n",
    "\\end{multline}\n",
    "$$\n",
    "\n",
    "Para o cálculo de $\\sigma_{g(X)}^2$, temos:\n",
    "\n",
    "$$\n",
    "\\begin{multline}\n",
    "E[g(X)^2] = \\int_{0}^{1/2}2x^2dx + \\int_{1/2}^{1}(x^2 -4x + 2)dx = \\\\\n",
    "\\frac{2}{3}x^3\\bigg\\rvert_{0}^{1/2} + (1/3x^3 -2x^2 + 2x)\\bigg\\rvert_{1/2}^{1} = \\frac{2}{24} + \\frac{19}{24} = \\frac{7}{8}\n",
    "\\end{multline}\n",
    "$$\n",
    "\n",
    "logo:\n",
    "$$\n",
    "\\begin{equation}\n",
    "\\sigma_{g(X)}^2 = E[(g(X)- \\mu_{g(x)})^2] = E[g(X)^2] - \\mu_{g(X)}^2 = \\frac{7}{8} - \\frac{1}{8} = \\frac{3}{4}\n",
    "\\end{equation}\n",
    "$$\n"
   ]
  },
  {
   "cell_type": "markdown",
   "metadata": {},
   "source": [
    "### Questão 1.3\n",
    "\n",
    "da documentação da biblioteca [numpy](https://numpy.org/doc/stable/reference/random/bit_generators/mt19937.html) do python, temos que a função ```numpy.random.MT19937``` usa o algoritmo de Mersenne Twister."
   ]
  },
  {
   "cell_type": "code",
   "execution_count": 2,
   "metadata": {},
   "outputs": [],
   "source": [
    "def generate_sample(g_fun, sample_sz, a=0,b=1):\n",
    "    \"\"\"Gerador genérico de amostras da função g aplicada sobre uma distribuição uniforme X no intervalo [a,b]\"\"\"\n",
    "    vectorized_g_fun = np.vectorize(g_fun)\n",
    "    \n",
    "    x_list = np.random.uniform(a,b,sample_sz)\n",
    "    \n",
    "    return vectorized_g_fun(x_list), x_list"
   ]
  },
  {
   "cell_type": "code",
   "execution_count": 3,
   "metadata": {},
   "outputs": [],
   "source": [
    "def g_fun(x):\n",
    "    if x < 0.5:\n",
    "        return math.sqrt(2)*x\n",
    "    return math.sqrt(2)*(-x+1)"
   ]
  },
  {
   "cell_type": "markdown",
   "metadata": {},
   "source": [
    "### Questão 1.4\n",
    "\n",
    "fazendo a correção para a definção de erro do meu estimador, uma vez que a V.A. que eu estou gerando não tem expectativa $\\sqrt(2)$, mas sim $\\sqrt(2)/4$ \n",
    "\n",
    "$$\n",
    "\\begin{equation}\n",
    "\\hat{e}_{n} = \\frac{|M_n - \\sqrt{2}/4|}{\\sqrt{2}/4}\n",
    "\\end{equation}\n",
    "$$\n",
    "\n",
    "Essa é a função de erro MAE (Mean absolute error)\n",
    "\n",
    "> Como sabemos que a média amostral tem uma variância, vou utilizar K-folds para visualizar a variância do estimador"
   ]
  },
  {
   "cell_type": "code",
   "execution_count": 4,
   "metadata": {},
   "outputs": [],
   "source": [
    "def mae(y_true, y_pred):\n",
    "    return abs(y_true - y_pred)/y_true\n",
    "mae = np.vectorize(mae)"
   ]
  },
  {
   "cell_type": "code",
   "execution_count": 5,
   "metadata": {},
   "outputs": [],
   "source": [
    "def sanple_mean_estimator(values):\n",
    "    return np.mean(values)"
   ]
  },
  {
   "cell_type": "code",
   "execution_count": 6,
   "metadata": {},
   "outputs": [],
   "source": [
    "def run_mc_estimator(sample_gen, sample_size, mae, estimator, true_val, num_folds=5):\n",
    "    \n",
    "    sample_sz_compansate_folds = math.ceil((num_folds+1)*sample_size/num_folds)\n",
    "    samples,_ = sample_gen(sample_sz_compansate_folds)\n",
    "    \n",
    "    num_folds = min(sample_sz_compansate_folds, num_folds)\n",
    "    \n",
    "    kf = KFold(n_splits=num_folds, shuffle=False)\n",
    "    estimate_sample = []\n",
    "    error_sample = []\n",
    "    for fold,_ in kf.split(samples):\n",
    "        data = samples[fold]\n",
    "        estimate = estimator(data)\n",
    "        estimate_sample.append(estimate)\n",
    "        if true_val:\n",
    "            error = mae(true_val, estimate)\n",
    "            error_sample.append(error)\n",
    "        \n",
    "    return estimate_sample, error_sample"
   ]
  },
  {
   "cell_type": "code",
   "execution_count": 7,
   "metadata": {},
   "outputs": [],
   "source": [
    "def g_sample_generator(sample_sz):\n",
    "    global g_fun\n",
    "    return generate_sample(g_fun, sample_sz, 0,1)\n",
    "\n",
    "def run_experiments(min_sample_sz, max_sample_sz):\n",
    "    global g_sample_generator, run_mc_estimator, mae, sanple_mean_estimator\n",
    "    \n",
    "    true_val = math.sqrt(2)/4\n",
    "    range_len = max_sample_sz - min_sample_sz + 1\n",
    "    estimates = np.zeros([5, range_len])\n",
    "    errors = np.zeros([5, range_len])\n",
    "    \n",
    "    for i,sample_sz in enumerate(tqdm(range(min_sample_sz, max_sample_sz + 1))):\n",
    "        estimates_for_n, error_samples_for_n = run_mc_estimator(g_sample_generator, sample_sz, mae, sanple_mean_estimator, true_val)\n",
    "        estimates[:,i] = estimates_for_n\n",
    "        errors[:,i] = error_samples_for_n\n",
    "    return estimates, errors"
   ]
  },
  {
   "cell_type": "code",
   "execution_count": 8,
   "metadata": {},
   "outputs": [
    {
     "name": "stderr",
     "output_type": "stream",
     "text": [
      "100%|██████████| 9996/9996 [00:18<00:00, 546.47it/s] "
     ]
    },
    {
     "name": "stdout",
     "output_type": "stream",
     "text": [
      "CPU times: user 18.3 s, sys: 52.5 ms, total: 18.3 s\n",
      "Wall time: 18.3 s\n"
     ]
    },
    {
     "name": "stderr",
     "output_type": "stream",
     "text": [
      "\n"
     ]
    }
   ],
   "source": [
    "%%time\n",
    "max_sample_size = int(1e4)\n",
    "estimates, errors = run_experiments(5,max_sample_size)"
   ]
  },
  {
   "cell_type": "code",
   "execution_count": 9,
   "metadata": {},
   "outputs": [],
   "source": [
    "def plot_experiment1(estimates, error):\n",
    "\n",
    "    true_val = true_val = math.sqrt(2)/4\n",
    "    \n",
    "    fig = plt.figure(figsize=(10, 8))\n",
    "    plt.title('estimativa usando MC')\n",
    "    plt.subplot(2,1,1)\n",
    "    plt.plot(estimates.T, 'x', color='blue');\n",
    "    plt.axhline(y=true_val, color='r', linestyle='-')\n",
    "    plt.grid(True)\n",
    "    plt.xlabel('tamanho da amostra')\n",
    "    plt.ylabel('estimativa')\n",
    "    \n",
    "    plt.subplot(2,1,2)\n",
    "    plt.plot(error.T, 'x', color='blue');\n",
    "    plt.axhline(y=0, color='r', linestyle='-')\n",
    "    plt.grid(True)\n",
    "    plt.xlabel('tamanho da amostra')\n",
    "    plt.ylabel('mae')\n",
    "    \n",
    "    fig.subplots_adjust(top=0.85)\n",
    "    plt.show()"
   ]
  },
  {
   "cell_type": "code",
   "execution_count": 10,
   "metadata": {},
   "outputs": [
    {
     "data": {
      "image/png": "[encoded data removed]",
      "text/plain": [
       "<Figure size 720x576 with 2 Axes>"
      ]
     },
     "metadata": {
      "needs_background": "light"
     },
     "output_type": "display_data"
    }
   ],
   "source": [
    "plot_experiment1(estimates, errors)"
   ]
  },
  {
   "cell_type": "markdown",
   "metadata": {},
   "source": [
    "## Questão 2"
   ]
  },
  {
   "cell_type": "markdown",
   "metadata": {},
   "source": [
    "### Questão 2.1\n",
    "\n",
    "$$\n",
    "\\begin{equation}\n",
    "f_X(x) = \\lambda e^{-\\lambda x} \\implies F_X(x) = -e^{-\\lambda x}\n",
    "\\end{equation}\n",
    "$$\n",
    "\n",
    "Logo\n",
    "\n",
    "$$\n",
    "\\begin{equation}\n",
    "F_X^{-}1(x) = \\frac{1}{-\\lambda}ln(x)\n",
    "\\end{equation}\n",
    "$$"
   ]
  },
  {
   "cell_type": "code",
   "execution_count": 35,
   "metadata": {},
   "outputs": [],
   "source": [
    "def direct_q2_1(x,lam):\n",
    "    return lam*math.exp(-lam*x)\n",
    "def inversa_q2_1(x, lam):\n",
    "    return -(math.log(x)/lam)"
   ]
  },
  {
   "cell_type": "markdown",
   "metadata": {},
   "source": [
    "Usando o método da inversa podemos criar o seguinte função geradora de amostrar para a distribuição"
   ]
  },
  {
   "cell_type": "code",
   "execution_count": 36,
   "metadata": {},
   "outputs": [],
   "source": [
    "def sample_generator_q_21(sample_sz, lam):\n",
    "        \n",
    "    def param_inv(x):\n",
    "        global inversa_q2_1\n",
    "        return inversa_q2_1(x, lam)\n",
    "    \n",
    "    sample, x = generate_sample(param_inv, sample_sz, 0,1)\n",
    "    return sample, x"
   ]
  },
  {
   "cell_type": "code",
   "execution_count": 73,
   "metadata": {},
   "outputs": [],
   "source": [
    "len_sample = 1000\n",
    "par_q21 = 4\n",
    "sample_q21, x = np.array(sample_generator_q_21(len_sample, par_q21))\n",
    "ran = np.linspace(np.min(sample_q21),np.max(sample_q21),num=len_sample)\n",
    "distribution_q21 = [direct_q2_1(a, par_q21) for a in ran]"
   ]
  },
  {
   "cell_type": "code",
   "execution_count": 76,
   "metadata": {},
   "outputs": [],
   "source": [
    "def plot_hist(sample, expected, ran):\n",
    "    fig = plt.figure()\n",
    "    ax = plt.hist(sample,density=True)\n",
    "    plt.plot(ran, expected, '-r')\n",
    "    plt.title(\"histograma da ddistribuição\")\n",
    "    plt.xlabel(\"X\")\n",
    "    plt.ylabel(\"freq\")\n",
    "    plt.grid(True)\n",
    "    plt.show()"
   ]
  },
  {
   "cell_type": "code",
   "execution_count": 77,
   "metadata": {},
   "outputs": [
    {
     "data": {
      "image/png": "[encoded data removed]",
      "text/plain": [
       "<Figure size 432x288 with 1 Axes>"
      ]
     },
     "metadata": {
      "needs_background": "light"
     },
     "output_type": "display_data"
    }
   ],
   "source": [
    "plot_hist(sample_q21,distribution_q21,ran)"
   ]
  },
  {
   "cell_type": "markdown",
   "metadata": {},
   "source": [
    "### Questão 2.2\n",
    "\n",
    "$$\n",
    "\\begin{equation}\n",
    "f_X(x) = \\begin{cases}\n",
    "\\frac{\\alpha x_0^\\alpha}{x^{\\alpha+1}} & x > x_0 \\\\\n",
    "0 & \\text{caso contrário}\n",
    "\\end{cases} \n",
    "\\implies F_X(x) = \\begin{cases}\n",
    "1 - \\left(\\frac{x_0^\\alpha}{x}\\right)^\\alpha & x > x_0 \\\\\n",
    "0 & \\text{caso contrário}\n",
    "\\end{cases}\n",
    "\\end{equation} \n",
    "$$\n",
    "\n",
    "logo\n",
    "\n",
    "$$\n",
    "\\begin{equation}\n",
    "F_X^{-1}(x) =\n",
    "\\frac{x_0}{(x-1)^{1/\\alpha}}, x \\in [0,1]\n",
    "\\end{equation}\n",
    "$$\n",
    "\n",
    "No intervalo $[0,x_0)$ a função não é de fato inversível, mas isso não importa uma vez que a distribuição de massa neste invervalo é 0."
   ]
  },
  {
   "cell_type": "code",
   "execution_count": 118,
   "metadata": {},
   "outputs": [],
   "source": [
    "def direct_q2_2(x, alpha, x0):\n",
    "    if x < x0:\n",
    "        return 0\n",
    "    return alpha*(x0**alpha)/(x**(alpha+1))\n",
    "def inversa_q2_2(x, alpha, x0):\n",
    "    return x0/((1-x)**(1/alpha))"
   ]
  },
  {
   "cell_type": "code",
   "execution_count": 129,
   "metadata": {},
   "outputs": [],
   "source": [
    "def sample_generator_q_22(sample_sz, alpha, x0):\n",
    "    global inversa_q2_2\n",
    "    \n",
    "    def param_inv(x):\n",
    "        return inversa_q2_2(x, alpha, x0)\n",
    "    \n",
    "    sample, x = generate_sample(param_inv, sample_sz)\n",
    "    return sample, x"
   ]
  },
  {
   "cell_type": "code",
   "execution_count": 131,
   "metadata": {},
   "outputs": [],
   "source": [
    "len_sample = 1000\n",
    "par_q22_1 = 4\n",
    "par_q22_2 = 2\n",
    "sample_q22, x = np.array(sample_generator_q_22(len_sample, par_q22_1, par_q22_2))\n",
    "ran2 = np.linspace(np.min(sample_q22),np.max(sample_q22),num=len_sample)\n",
    "distribution_q22 = [direct_q2_2(a, par_q22_1,par_q22_2) for a in ran]"
   ]
  },
  {
   "cell_type": "code",
   "execution_count": 132,
   "metadata": {},
   "outputs": [
    {
     "data": {
      "image/png": "[encoded data removed]",
      "text/plain": [
       "<Figure size 432x288 with 1 Axes>"
      ]
     },
     "metadata": {
      "needs_background": "light"
     },
     "output_type": "display_data"
    }
   ],
   "source": [
    "plot_hist(sample_q22,distribution_q22,ran2)"
   ]
  },
  {
   "cell_type": "markdown",
   "metadata": {},
   "source": [
    "## Questão 3\n",
    "\n",
    "Sendo I uma V.A indicadora que atribuí 1 caso se escolha um domínio existe do conjunto, D, de todos os possíveis domínios de tamanho k e 0 caso contrário. Sendo N o número de domínios existentes, podemos escrever que:\n",
    "\n",
    "$$\n",
    "\\begin{equation}\n",
    "I_i \\sim Indicadora(p=\\frac{1}{N}), i \\in D\n",
    "\\end{equation}\n",
    "$$\n",
    "\n",
    "Definindo $X \\sim Uniforme(1,|D|)$\n",
    "\n",
    "$$\n",
    "\\begin{equation}\n",
    "E[I(X)] = \\frac{N}{|D|} \\implies N = |D|E[I(X)]\n",
    "\\end{equation}\n",
    "$$\n",
    "\n",
    "Um método de monte carlo neste caso é aproximar a expectativa da equação acima pela média amostral"
   ]
  },
  {
   "cell_type": "code",
   "execution_count": 133,
   "metadata": {},
   "outputs": [],
   "source": [
    "def assert_url_exists(url):\n",
    "    try:\n",
    "        r = requests.get(url)\n",
    "        if r.status_code == 200:\n",
    "            return True\n",
    "        return False\n",
    "    except:\n",
    "        return False\n",
    "\n",
    "def assert_url_exists_parallel(urls):\n",
    "    pool = Pool(processes=3)\n",
    "    return np.array(pool.map(assert_url_exists, urls))"
   ]
  },
  {
   "cell_type": "code",
   "execution_count": 134,
   "metadata": {},
   "outputs": [],
   "source": [
    "def gen_k_size_string(shape):\n",
    "    \n",
    "    def to_string(v):\n",
    "        to_char = [chr(i) for i in v]\n",
    "        return ''.join(to_char)\n",
    "    \n",
    "    def shorten_string(s):\n",
    "        l = len(s) + 1\n",
    "        size = np.random.randint(1,l)\n",
    "        return s[0:size]\n",
    "\n",
    "    rands = np.random.randint(97,122, shape)\n",
    "    rands_shorten = [shorten_string(s) for s in rands]\n",
    "    rands_char = [to_string(s) for s in rands_shorten]\n",
    "    \n",
    "    return rands_char, rands_shorten"
   ]
  },
  {
   "cell_type": "code",
   "execution_count": 135,
   "metadata": {},
   "outputs": [],
   "source": [
    "def sample_urls(sample_sz, k):\n",
    "    shape = (sample_sz, k)\n",
    "    rands, x = gen_k_size_string(shape)\n",
    "    return [\"http://www.\" + d + \".ufrj.br\" for d in rands], x\n",
    "\n",
    "def sample_url_exists(sample_sz):\n",
    "    url_sampĺe, _ = sample_urls(sample_sz,4)\n",
    "    return assert_url_exists_parallel(url_sampĺe), url_sampĺe"
   ]
  },
  {
   "cell_type": "code",
   "execution_count": 138,
   "metadata": {},
   "outputs": [],
   "source": [
    "cardD = 26**4 + 26**3 + 26**2 + 26\n",
    "\n",
    "def N_estimator(sample):\n",
    "    global cardD\n",
    "    return cardD*sanple_mean_estimator(sample)"
   ]
  },
  {
   "cell_type": "code",
   "execution_count": 139,
   "metadata": {},
   "outputs": [],
   "source": [
    "def run_url_experiments(min_sample_sz, max_sample_sz):\n",
    "    global sample_url_exists, run_mc_estimator, mae, N_estimator\n",
    "    \n",
    "    range_len = max_sample_sz - min_sample_sz + 1\n",
    "    estimates = np.zeros([5, range_len])\n",
    "    \n",
    "    for i,sample_sz in enumerate(tqdm(range(min_sample_sz, max_sample_sz + 1))):\n",
    "        url_sampĺe, _ = run_mc_estimator(sample_url_exists, sample_sz, mae, N_estimator, None, num_folds=5)\n",
    "        estimates_for_n = assert_url_exists(url_sampĺe)\n",
    "        estimates[:,i] = estimates_for_n\n",
    "    \n",
    "    return estimates"
   ]
  },
  {
   "cell_type": "code",
   "execution_count": 140,
   "metadata": {},
   "outputs": [
    {
     "name": "stderr",
     "output_type": "stream",
     "text": [
      "\n",
      "  0%|          | 0/96 [00:00<?, ?it/s]\u001b[A\n",
      "  1%|          | 1/96 [00:00<00:30,  3.08it/s]\u001b[A\n",
      "  2%|▏         | 2/96 [00:00<00:32,  2.85it/s]\u001b[A\n",
      "  3%|▎         | 3/96 [00:01<00:33,  2.80it/s]\u001b[A\n",
      "  4%|▍         | 4/96 [00:01<00:32,  2.80it/s]\u001b[A\n",
      "  5%|▌         | 5/96 [00:01<00:30,  2.94it/s]\u001b[A\n",
      "  6%|▋         | 6/96 [00:02<00:33,  2.71it/s]\u001b[A\n",
      "  7%|▋         | 7/96 [00:02<00:36,  2.41it/s]\u001b[A\n",
      "  8%|▊         | 8/96 [00:03<00:36,  2.39it/s]\u001b[A\n",
      "  9%|▉         | 9/96 [00:03<00:39,  2.19it/s]\u001b[A\n",
      " 10%|█         | 10/96 [00:04<00:46,  1.85it/s]\u001b[A\n",
      " 11%|█▏        | 11/96 [00:04<00:43,  1.96it/s]\u001b[A\n",
      " 12%|█▎        | 12/96 [00:05<00:45,  1.86it/s]\u001b[A\n",
      " 14%|█▎        | 13/96 [00:06<00:51,  1.62it/s]\u001b[A\n",
      " 15%|█▍        | 14/96 [00:07<00:56,  1.46it/s]\u001b[A\n",
      " 16%|█▌        | 15/96 [00:07<00:52,  1.53it/s]\u001b[A\n",
      " 17%|█▋        | 16/96 [00:08<00:58,  1.36it/s]\u001b[A\n",
      " 18%|█▊        | 17/96 [00:09<01:00,  1.32it/s]\u001b[A\n",
      " 19%|█▉        | 18/96 [00:10<01:03,  1.23it/s]\u001b[A\n",
      " 20%|█▉        | 19/96 [00:11<00:58,  1.32it/s]\u001b[A\n",
      " 21%|██        | 20/96 [00:11<00:58,  1.30it/s]\u001b[A\n",
      " 22%|██▏       | 21/96 [00:12<01:00,  1.24it/s]\u001b[A\n",
      " 23%|██▎       | 22/96 [00:13<01:03,  1.17it/s]\u001b[A\n",
      " 24%|██▍       | 23/96 [00:14<01:09,  1.05it/s]\u001b[A\n",
      " 25%|██▌       | 24/96 [00:15<01:11,  1.00it/s]\u001b[A\n",
      " 26%|██▌       | 25/96 [00:17<01:11,  1.01s/it]\u001b[A\n",
      " 27%|██▋       | 26/96 [00:18<01:16,  1.09s/it]\u001b[A\n",
      " 28%|██▊       | 27/96 [02:28<45:50, 39.86s/it]\u001b[A\n",
      " 29%|██▉       | 28/96 [02:29<32:01, 28.25s/it]\u001b[A\n",
      " 30%|███       | 29/96 [02:31<22:35, 20.23s/it]\u001b[A\n",
      " 31%|███▏      | 30/96 [02:33<16:09, 14.69s/it]\u001b[A\n",
      " 32%|███▏      | 31/96 [02:34<11:34, 10.69s/it]\u001b[A\n",
      " 33%|███▎      | 32/96 [02:35<08:27,  7.94s/it]\u001b[A\n",
      " 34%|███▍      | 33/96 [02:37<06:15,  5.96s/it]\u001b[A\n",
      " 35%|███▌      | 34/96 [02:40<05:11,  5.02s/it]\u001b[A\n",
      " 36%|███▋      | 35/96 [02:42<04:11,  4.12s/it]\u001b[A\n",
      " 38%|███▊      | 36/96 [02:44<03:29,  3.50s/it]\u001b[A\n",
      " 39%|███▊      | 37/96 [02:46<03:07,  3.17s/it]\u001b[A\n",
      " 40%|███▉      | 38/96 [02:48<02:45,  2.86s/it]\u001b[A\n",
      " 41%|████      | 39/96 [02:50<02:27,  2.59s/it]\u001b[A\n",
      " 42%|████▏     | 40/96 [02:53<02:21,  2.52s/it]\u001b[A\n",
      " 43%|████▎     | 41/96 [02:56<02:27,  2.68s/it]\u001b[A\n",
      " 44%|████▍     | 42/96 [02:58<02:16,  2.52s/it]\u001b[A\n",
      " 45%|████▍     | 43/96 [03:02<02:34,  2.92s/it]\u001b[A\n",
      " 46%|████▌     | 44/96 [03:04<02:20,  2.71s/it]\u001b[A\n",
      " 47%|████▋     | 45/96 [03:06<02:09,  2.54s/it]\u001b[A\n",
      " 48%|████▊     | 46/96 [03:08<02:05,  2.51s/it]\u001b[A\n",
      " 49%|████▉     | 47/96 [03:12<02:19,  2.84s/it]\u001b[A\n",
      " 50%|█████     | 48/96 [03:15<02:13,  2.78s/it]\u001b[A\n",
      " 51%|█████     | 49/96 [03:17<02:06,  2.70s/it]\u001b[A\n",
      " 52%|█████▏    | 50/96 [03:20<01:59,  2.61s/it]\u001b[A\n",
      " 53%|█████▎    | 51/96 [03:22<01:58,  2.63s/it]\u001b[A\n",
      " 54%|█████▍    | 52/96 [03:25<01:59,  2.71s/it]\u001b[A\n",
      " 55%|█████▌    | 53/96 [03:28<01:52,  2.62s/it]\u001b[A\n",
      " 56%|█████▋    | 54/96 [03:31<01:57,  2.80s/it]\u001b[A\n",
      " 57%|█████▋    | 55/96 [03:33<01:53,  2.77s/it]\u001b[A\n",
      " 58%|█████▊    | 56/96 [03:37<02:01,  3.03s/it]\u001b[A\n",
      " 59%|█████▉    | 57/96 [03:40<01:55,  2.95s/it]\u001b[AProcess ForkPoolWorker-588:\n",
      "Process ForkPoolWorker-600:\n",
      "Process ForkPoolWorker-571:\n",
      "Process ForkPoolWorker-643:\n",
      "Process ForkPoolWorker-712:\n",
      "Process ForkPoolWorker-667:\n",
      "Process ForkPoolWorker-686:\n",
      "Process ForkPoolWorker-674:\n",
      "Process ForkPoolWorker-698:\n",
      "Process ForkPoolWorker-710:\n",
      "Process ForkPoolWorker-719:\n",
      "Process ForkPoolWorker-590:\n",
      "Process ForkPoolWorker-701:\n",
      "Process ForkPoolWorker-559:\n",
      "Process ForkPoolWorker-685:\n",
      "Process ForkPoolWorker-681:\n",
      "Process ForkPoolWorker-567:\n",
      "Process ForkPoolWorker-626:\n",
      "Process ForkPoolWorker-637:\n",
      "Process ForkPoolWorker-641:\n",
      "Process ForkPoolWorker-640:\n",
      "Process ForkPoolWorker-671:\n",
      "Process ForkPoolWorker-631:\n",
      "Process ForkPoolWorker-606:\n",
      "Process ForkPoolWorker-722:\n",
      "Process ForkPoolWorker-639:\n",
      "Process ForkPoolWorker-707:\n",
      "Process ForkPoolWorker-617:\n",
      "Process ForkPoolWorker-552:\n"
     ]
    },
    {
     "ename": "KeyboardInterrupt",
     "evalue": "",
     "output_type": "error",
     "traceback": [
      "\u001b[0;31m---------------------------------------------------------------------------\u001b[0m",
      "\u001b[0;31mKeyboardInterrupt\u001b[0m                         Traceback (most recent call last)",
      "\u001b[0;32m<timed exec>\u001b[0m in \u001b[0;36m<module>\u001b[0;34m\u001b[0m\n",
      "\u001b[0;32m<ipython-input-139-0b375017bdb9>\u001b[0m in \u001b[0;36mrun_url_experiments\u001b[0;34m(min_sample_sz, max_sample_sz)\u001b[0m\n\u001b[1;32m      6\u001b[0m \u001b[0;34m\u001b[0m\u001b[0m\n\u001b[1;32m      7\u001b[0m     \u001b[0;32mfor\u001b[0m \u001b[0mi\u001b[0m\u001b[0;34m,\u001b[0m\u001b[0msample_sz\u001b[0m \u001b[0;32min\u001b[0m \u001b[0menumerate\u001b[0m\u001b[0;34m(\u001b[0m\u001b[0mtqdm\u001b[0m\u001b[0;34m(\u001b[0m\u001b[0mrange\u001b[0m\u001b[0;34m(\u001b[0m\u001b[0mmin_sample_sz\u001b[0m\u001b[0;34m,\u001b[0m \u001b[0mmax_sample_sz\u001b[0m \u001b[0;34m+\u001b[0m \u001b[0;36m1\u001b[0m\u001b[0;34m)\u001b[0m\u001b[0;34m)\u001b[0m\u001b[0;34m)\u001b[0m\u001b[0;34m:\u001b[0m\u001b[0;34m\u001b[0m\u001b[0;34m\u001b[0m\u001b[0m\n\u001b[0;32m----> 8\u001b[0;31m         \u001b[0murl_sampĺe\u001b[0m\u001b[0;34m,\u001b[0m \u001b[0m_\u001b[0m \u001b[0;34m=\u001b[0m \u001b[0mrun_mc_estimator\u001b[0m\u001b[0;34m(\u001b[0m\u001b[0msample_url_exists\u001b[0m\u001b[0;34m,\u001b[0m \u001b[0msample_sz\u001b[0m\u001b[0;34m,\u001b[0m \u001b[0mmae\u001b[0m\u001b[0;34m,\u001b[0m \u001b[0mN_estimator\u001b[0m\u001b[0;34m,\u001b[0m \u001b[0;32mNone\u001b[0m\u001b[0;34m,\u001b[0m \u001b[0mnum_folds\u001b[0m\u001b[0;34m=\u001b[0m\u001b[0;36m5\u001b[0m\u001b[0;34m)\u001b[0m\u001b[0;34m\u001b[0m\u001b[0;34m\u001b[0m\u001b[0m\n\u001b[0m\u001b[1;32m      9\u001b[0m         \u001b[0mestimates_for_n\u001b[0m \u001b[0;34m=\u001b[0m \u001b[0massert_url_exists\u001b[0m\u001b[0;34m(\u001b[0m\u001b[0murl_sampĺe\u001b[0m\u001b[0;34m)\u001b[0m\u001b[0;34m\u001b[0m\u001b[0;34m\u001b[0m\u001b[0m\n\u001b[1;32m     10\u001b[0m         \u001b[0mestimates\u001b[0m\u001b[0;34m[\u001b[0m\u001b[0;34m:\u001b[0m\u001b[0;34m,\u001b[0m\u001b[0mi\u001b[0m\u001b[0;34m]\u001b[0m \u001b[0;34m=\u001b[0m \u001b[0mestimates_for_n\u001b[0m\u001b[0;34m\u001b[0m\u001b[0;34m\u001b[0m\u001b[0m\n",
      "\u001b[0;32m<ipython-input-6-2e0fe99556e6>\u001b[0m in \u001b[0;36mrun_mc_estimator\u001b[0;34m(sample_gen, sample_size, mae, estimator, true_val, num_folds)\u001b[0m\n\u001b[1;32m      2\u001b[0m \u001b[0;34m\u001b[0m\u001b[0m\n\u001b[1;32m      3\u001b[0m     \u001b[0msample_sz_compansate_folds\u001b[0m \u001b[0;34m=\u001b[0m \u001b[0mmath\u001b[0m\u001b[0;34m.\u001b[0m\u001b[0mceil\u001b[0m\u001b[0;34m(\u001b[0m\u001b[0;34m(\u001b[0m\u001b[0mnum_folds\u001b[0m\u001b[0;34m+\u001b[0m\u001b[0;36m1\u001b[0m\u001b[0;34m)\u001b[0m\u001b[0;34m*\u001b[0m\u001b[0msample_size\u001b[0m\u001b[0;34m/\u001b[0m\u001b[0mnum_folds\u001b[0m\u001b[0;34m)\u001b[0m\u001b[0;34m\u001b[0m\u001b[0;34m\u001b[0m\u001b[0m\n\u001b[0;32m----> 4\u001b[0;31m     \u001b[0msamples\u001b[0m\u001b[0;34m,\u001b[0m\u001b[0m_\u001b[0m \u001b[0;34m=\u001b[0m \u001b[0msample_gen\u001b[0m\u001b[0;34m(\u001b[0m\u001b[0msample_sz_compansate_folds\u001b[0m\u001b[0;34m)\u001b[0m\u001b[0;34m\u001b[0m\u001b[0;34m\u001b[0m\u001b[0m\n\u001b[0m\u001b[1;32m      5\u001b[0m \u001b[0;34m\u001b[0m\u001b[0m\n\u001b[1;32m      6\u001b[0m     \u001b[0mnum_folds\u001b[0m \u001b[0;34m=\u001b[0m \u001b[0mmin\u001b[0m\u001b[0;34m(\u001b[0m\u001b[0msample_sz_compansate_folds\u001b[0m\u001b[0;34m,\u001b[0m \u001b[0mnum_folds\u001b[0m\u001b[0;34m)\u001b[0m\u001b[0;34m\u001b[0m\u001b[0;34m\u001b[0m\u001b[0m\n",
      "\u001b[0;32m<ipython-input-135-243a0c69727b>\u001b[0m in \u001b[0;36msample_url_exists\u001b[0;34m(sample_sz)\u001b[0m\n\u001b[1;32m      6\u001b[0m \u001b[0;32mdef\u001b[0m \u001b[0msample_url_exists\u001b[0m\u001b[0;34m(\u001b[0m\u001b[0msample_sz\u001b[0m\u001b[0;34m)\u001b[0m\u001b[0;34m:\u001b[0m\u001b[0;34m\u001b[0m\u001b[0;34m\u001b[0m\u001b[0m\n\u001b[1;32m      7\u001b[0m     \u001b[0murl_sampĺe\u001b[0m\u001b[0;34m,\u001b[0m \u001b[0m_\u001b[0m \u001b[0;34m=\u001b[0m \u001b[0msample_urls\u001b[0m\u001b[0;34m(\u001b[0m\u001b[0msample_sz\u001b[0m\u001b[0;34m,\u001b[0m\u001b[0;36m4\u001b[0m\u001b[0;34m)\u001b[0m\u001b[0;34m\u001b[0m\u001b[0;34m\u001b[0m\u001b[0m\n\u001b[0;32m----> 8\u001b[0;31m     \u001b[0;32mreturn\u001b[0m \u001b[0massert_url_exists_parallel\u001b[0m\u001b[0;34m(\u001b[0m\u001b[0murl_sampĺe\u001b[0m\u001b[0;34m)\u001b[0m\u001b[0;34m,\u001b[0m \u001b[0murl_sampĺe\u001b[0m\u001b[0;34m\u001b[0m\u001b[0;34m\u001b[0m\u001b[0m\n\u001b[0m",
      "\u001b[0;32m<ipython-input-133-d76f8b13f4c9>\u001b[0m in \u001b[0;36massert_url_exists_parallel\u001b[0;34m(urls)\u001b[0m\n\u001b[1;32m     10\u001b[0m \u001b[0;32mdef\u001b[0m \u001b[0massert_url_exists_parallel\u001b[0m\u001b[0;34m(\u001b[0m\u001b[0murls\u001b[0m\u001b[0;34m)\u001b[0m\u001b[0;34m:\u001b[0m\u001b[0;34m\u001b[0m\u001b[0;34m\u001b[0m\u001b[0m\n\u001b[1;32m     11\u001b[0m     \u001b[0mpool\u001b[0m \u001b[0;34m=\u001b[0m \u001b[0mPool\u001b[0m\u001b[0;34m(\u001b[0m\u001b[0mprocesses\u001b[0m\u001b[0;34m=\u001b[0m\u001b[0;36m3\u001b[0m\u001b[0;34m)\u001b[0m\u001b[0;34m\u001b[0m\u001b[0;34m\u001b[0m\u001b[0m\n\u001b[0;32m---> 12\u001b[0;31m     \u001b[0;32mreturn\u001b[0m \u001b[0mnp\u001b[0m\u001b[0;34m.\u001b[0m\u001b[0marray\u001b[0m\u001b[0;34m(\u001b[0m\u001b[0mpool\u001b[0m\u001b[0;34m.\u001b[0m\u001b[0mmap\u001b[0m\u001b[0;34m(\u001b[0m\u001b[0massert_url_exists\u001b[0m\u001b[0;34m,\u001b[0m \u001b[0murls\u001b[0m\u001b[0;34m)\u001b[0m\u001b[0;34m)\u001b[0m\u001b[0;34m\u001b[0m\u001b[0;34m\u001b[0m\u001b[0m\n\u001b[0m",
      "\u001b[0;32m~/anaconda3/lib/python3.7/multiprocessing/pool.py\u001b[0m in \u001b[0;36mmap\u001b[0;34m(self, func, iterable, chunksize)\u001b[0m\n\u001b[1;32m    266\u001b[0m         \u001b[0;32min\u001b[0m \u001b[0ma\u001b[0m \u001b[0mlist\u001b[0m \u001b[0mthat\u001b[0m \u001b[0;32mis\u001b[0m \u001b[0mreturned\u001b[0m\u001b[0;34m.\u001b[0m\u001b[0;34m\u001b[0m\u001b[0;34m\u001b[0m\u001b[0m\n\u001b[1;32m    267\u001b[0m         '''\n\u001b[0;32m--> 268\u001b[0;31m         \u001b[0;32mreturn\u001b[0m \u001b[0mself\u001b[0m\u001b[0;34m.\u001b[0m\u001b[0m_map_async\u001b[0m\u001b[0;34m(\u001b[0m\u001b[0mfunc\u001b[0m\u001b[0;34m,\u001b[0m \u001b[0miterable\u001b[0m\u001b[0;34m,\u001b[0m \u001b[0mmapstar\u001b[0m\u001b[0;34m,\u001b[0m \u001b[0mchunksize\u001b[0m\u001b[0;34m)\u001b[0m\u001b[0;34m.\u001b[0m\u001b[0mget\u001b[0m\u001b[0;34m(\u001b[0m\u001b[0;34m)\u001b[0m\u001b[0;34m\u001b[0m\u001b[0;34m\u001b[0m\u001b[0m\n\u001b[0m\u001b[1;32m    269\u001b[0m \u001b[0;34m\u001b[0m\u001b[0m\n\u001b[1;32m    270\u001b[0m     \u001b[0;32mdef\u001b[0m \u001b[0mstarmap\u001b[0m\u001b[0;34m(\u001b[0m\u001b[0mself\u001b[0m\u001b[0;34m,\u001b[0m \u001b[0mfunc\u001b[0m\u001b[0;34m,\u001b[0m \u001b[0miterable\u001b[0m\u001b[0;34m,\u001b[0m \u001b[0mchunksize\u001b[0m\u001b[0;34m=\u001b[0m\u001b[0;32mNone\u001b[0m\u001b[0;34m)\u001b[0m\u001b[0;34m:\u001b[0m\u001b[0;34m\u001b[0m\u001b[0;34m\u001b[0m\u001b[0m\n",
      "\u001b[0;32m~/anaconda3/lib/python3.7/multiprocessing/pool.py\u001b[0m in \u001b[0;36mget\u001b[0;34m(self, timeout)\u001b[0m\n\u001b[1;32m    649\u001b[0m \u001b[0;34m\u001b[0m\u001b[0m\n\u001b[1;32m    650\u001b[0m     \u001b[0;32mdef\u001b[0m \u001b[0mget\u001b[0m\u001b[0;34m(\u001b[0m\u001b[0mself\u001b[0m\u001b[0;34m,\u001b[0m \u001b[0mtimeout\u001b[0m\u001b[0;34m=\u001b[0m\u001b[0;32mNone\u001b[0m\u001b[0;34m)\u001b[0m\u001b[0;34m:\u001b[0m\u001b[0;34m\u001b[0m\u001b[0;34m\u001b[0m\u001b[0m\n\u001b[0;32m--> 651\u001b[0;31m         \u001b[0mself\u001b[0m\u001b[0;34m.\u001b[0m\u001b[0mwait\u001b[0m\u001b[0;34m(\u001b[0m\u001b[0mtimeout\u001b[0m\u001b[0;34m)\u001b[0m\u001b[0;34m\u001b[0m\u001b[0;34m\u001b[0m\u001b[0m\n\u001b[0m\u001b[1;32m    652\u001b[0m         \u001b[0;32mif\u001b[0m \u001b[0;32mnot\u001b[0m \u001b[0mself\u001b[0m\u001b[0;34m.\u001b[0m\u001b[0mready\u001b[0m\u001b[0;34m(\u001b[0m\u001b[0;34m)\u001b[0m\u001b[0;34m:\u001b[0m\u001b[0;34m\u001b[0m\u001b[0;34m\u001b[0m\u001b[0m\n\u001b[1;32m    653\u001b[0m             \u001b[0;32mraise\u001b[0m \u001b[0mTimeoutError\u001b[0m\u001b[0;34m\u001b[0m\u001b[0;34m\u001b[0m\u001b[0m\n",
      "\u001b[0;32m~/anaconda3/lib/python3.7/multiprocessing/pool.py\u001b[0m in \u001b[0;36mwait\u001b[0;34m(self, timeout)\u001b[0m\n\u001b[1;32m    646\u001b[0m \u001b[0;34m\u001b[0m\u001b[0m\n\u001b[1;32m    647\u001b[0m     \u001b[0;32mdef\u001b[0m \u001b[0mwait\u001b[0m\u001b[0;34m(\u001b[0m\u001b[0mself\u001b[0m\u001b[0;34m,\u001b[0m \u001b[0mtimeout\u001b[0m\u001b[0;34m=\u001b[0m\u001b[0;32mNone\u001b[0m\u001b[0;34m)\u001b[0m\u001b[0;34m:\u001b[0m\u001b[0;34m\u001b[0m\u001b[0;34m\u001b[0m\u001b[0m\n\u001b[0;32m--> 648\u001b[0;31m         \u001b[0mself\u001b[0m\u001b[0;34m.\u001b[0m\u001b[0m_event\u001b[0m\u001b[0;34m.\u001b[0m\u001b[0mwait\u001b[0m\u001b[0;34m(\u001b[0m\u001b[0mtimeout\u001b[0m\u001b[0;34m)\u001b[0m\u001b[0;34m\u001b[0m\u001b[0;34m\u001b[0m\u001b[0m\n\u001b[0m\u001b[1;32m    649\u001b[0m \u001b[0;34m\u001b[0m\u001b[0m\n\u001b[1;32m    650\u001b[0m     \u001b[0;32mdef\u001b[0m \u001b[0mget\u001b[0m\u001b[0;34m(\u001b[0m\u001b[0mself\u001b[0m\u001b[0;34m,\u001b[0m \u001b[0mtimeout\u001b[0m\u001b[0;34m=\u001b[0m\u001b[0;32mNone\u001b[0m\u001b[0;34m)\u001b[0m\u001b[0;34m:\u001b[0m\u001b[0;34m\u001b[0m\u001b[0;34m\u001b[0m\u001b[0m\n",
      "\u001b[0;32m~/anaconda3/lib/python3.7/threading.py\u001b[0m in \u001b[0;36mwait\u001b[0;34m(self, timeout)\u001b[0m\n\u001b[1;32m    550\u001b[0m             \u001b[0msignaled\u001b[0m \u001b[0;34m=\u001b[0m \u001b[0mself\u001b[0m\u001b[0;34m.\u001b[0m\u001b[0m_flag\u001b[0m\u001b[0;34m\u001b[0m\u001b[0;34m\u001b[0m\u001b[0m\n\u001b[1;32m    551\u001b[0m             \u001b[0;32mif\u001b[0m \u001b[0;32mnot\u001b[0m \u001b[0msignaled\u001b[0m\u001b[0;34m:\u001b[0m\u001b[0;34m\u001b[0m\u001b[0;34m\u001b[0m\u001b[0m\n\u001b[0;32m--> 552\u001b[0;31m                 \u001b[0msignaled\u001b[0m \u001b[0;34m=\u001b[0m \u001b[0mself\u001b[0m\u001b[0;34m.\u001b[0m\u001b[0m_cond\u001b[0m\u001b[0;34m.\u001b[0m\u001b[0mwait\u001b[0m\u001b[0;34m(\u001b[0m\u001b[0mtimeout\u001b[0m\u001b[0;34m)\u001b[0m\u001b[0;34m\u001b[0m\u001b[0;34m\u001b[0m\u001b[0m\n\u001b[0m\u001b[1;32m    553\u001b[0m             \u001b[0;32mreturn\u001b[0m \u001b[0msignaled\u001b[0m\u001b[0;34m\u001b[0m\u001b[0;34m\u001b[0m\u001b[0m\n\u001b[1;32m    554\u001b[0m \u001b[0;34m\u001b[0m\u001b[0m\n",
      "\u001b[0;32m~/anaconda3/lib/python3.7/threading.py\u001b[0m in \u001b[0;36mwait\u001b[0;34m(self, timeout)\u001b[0m\n\u001b[1;32m    294\u001b[0m         \u001b[0;32mtry\u001b[0m\u001b[0;34m:\u001b[0m    \u001b[0;31m# restore state no matter what (e.g., KeyboardInterrupt)\u001b[0m\u001b[0;34m\u001b[0m\u001b[0;34m\u001b[0m\u001b[0m\n\u001b[1;32m    295\u001b[0m             \u001b[0;32mif\u001b[0m \u001b[0mtimeout\u001b[0m \u001b[0;32mis\u001b[0m \u001b[0;32mNone\u001b[0m\u001b[0;34m:\u001b[0m\u001b[0;34m\u001b[0m\u001b[0;34m\u001b[0m\u001b[0m\n\u001b[0;32m--> 296\u001b[0;31m                 \u001b[0mwaiter\u001b[0m\u001b[0;34m.\u001b[0m\u001b[0macquire\u001b[0m\u001b[0;34m(\u001b[0m\u001b[0;34m)\u001b[0m\u001b[0;34m\u001b[0m\u001b[0;34m\u001b[0m\u001b[0m\n\u001b[0m\u001b[1;32m    297\u001b[0m                 \u001b[0mgotit\u001b[0m \u001b[0;34m=\u001b[0m \u001b[0;32mTrue\u001b[0m\u001b[0;34m\u001b[0m\u001b[0;34m\u001b[0m\u001b[0m\n\u001b[1;32m    298\u001b[0m             \u001b[0;32melse\u001b[0m\u001b[0;34m:\u001b[0m\u001b[0;34m\u001b[0m\u001b[0;34m\u001b[0m\u001b[0m\n",
      "\u001b[0;31mKeyboardInterrupt\u001b[0m: "
     ]
    },
    {
     "name": "stderr",
     "output_type": "stream",
     "text": [
      "Process ForkPoolWorker-716:\n",
      "Process ForkPoolWorker-670:\n",
      "Process ForkPoolWorker-720:\n",
      "Process ForkPoolWorker-693:\n",
      "Process ForkPoolWorker-601:\n",
      "Process ForkPoolWorker-607:\n",
      "Process ForkPoolWorker-625:\n",
      "Process ForkPoolWorker-695:\n",
      "Process ForkPoolWorker-633:\n",
      "Process ForkPoolWorker-705:\n",
      "Process ForkPoolWorker-721:\n",
      "Process ForkPoolWorker-708:\n",
      "Process ForkPoolWorker-672:\n",
      "Process ForkPoolWorker-609:\n",
      "Process ForkPoolWorker-709:\n",
      "Process ForkPoolWorker-593:\n",
      "Process ForkPoolWorker-564:\n",
      "Process ForkPoolWorker-605:\n",
      "Process ForkPoolWorker-676:\n",
      "Process ForkPoolWorker-599:\n",
      "Process ForkPoolWorker-596:\n",
      "Process ForkPoolWorker-675:\n",
      "Process ForkPoolWorker-669:\n",
      "Process ForkPoolWorker-611:\n",
      "Process ForkPoolWorker-584:\n",
      "Process ForkPoolWorker-612:\n",
      "Process ForkPoolWorker-684:\n",
      "Process ForkPoolWorker-691:\n",
      "Process ForkPoolWorker-683:\n",
      "Process ForkPoolWorker-680:\n",
      "Process ForkPoolWorker-714:\n",
      "Process ForkPoolWorker-586:\n",
      "Process ForkPoolWorker-642:\n",
      "Process ForkPoolWorker-694:\n",
      "Process ForkPoolWorker-700:\n",
      "Process ForkPoolWorker-703:\n",
      "Process ForkPoolWorker-665:\n",
      "Process ForkPoolWorker-713:\n",
      "Process ForkPoolWorker-678:\n",
      "Process ForkPoolWorker-654:\n",
      "Process ForkPoolWorker-615:\n",
      "Process ForkPoolWorker-619:\n",
      "Process ForkPoolWorker-689:\n",
      "Process ForkPoolWorker-572:\n",
      "Process ForkPoolWorker-699:\n",
      "Process ForkPoolWorker-687:\n",
      "Process ForkPoolWorker-663:\n",
      "Process ForkPoolWorker-568:\n",
      "Process ForkPoolWorker-563:\n",
      "Process ForkPoolWorker-657:\n",
      "Process ForkPoolWorker-570:\n",
      "Process ForkPoolWorker-656:\n",
      "Process ForkPoolWorker-718:\n",
      "Process ForkPoolWorker-717:\n",
      "Process ForkPoolWorker-660:\n",
      "Process ForkPoolWorker-647:\n",
      "Process ForkPoolWorker-704:\n",
      "Process ForkPoolWorker-696:\n",
      "Process ForkPoolWorker-632:\n",
      "Process ForkPoolWorker-664:\n",
      "Process ForkPoolWorker-589:\n",
      "Process ForkPoolWorker-577:\n",
      "Process ForkPoolWorker-653:\n",
      "Process ForkPoolWorker-690:\n",
      "Process ForkPoolWorker-668:\n",
      "Process ForkPoolWorker-688:\n",
      "Process ForkPoolWorker-662:\n",
      "Process ForkPoolWorker-652:\n",
      "Process ForkPoolWorker-594:\n",
      "Process ForkPoolWorker-702:\n",
      "Process ForkPoolWorker-624:\n",
      "Traceback (most recent call last):\n",
      "Traceback (most recent call last):\n",
      "Traceback (most recent call last):\n",
      "Traceback (most recent call last):\n",
      "Traceback (most recent call last):\n",
      "Traceback (most recent call last):\n",
      "Traceback (most recent call last):\n",
      "Traceback (most recent call last):\n",
      "Traceback (most recent call last):\n",
      "Traceback (most recent call last):\n",
      "Traceback (most recent call last):\n",
      "Traceback (most recent call last):\n",
      "Traceback (most recent call last):\n",
      "Traceback (most recent call last):\n",
      "Traceback (most recent call last):\n",
      "Traceback (most recent call last):\n",
      "Traceback (most recent call last):\n",
      "Traceback (most recent call last):\n",
      "Traceback (most recent call last):\n",
      "Traceback (most recent call last):\n",
      "Traceback (most recent call last):\n",
      "Traceback (most recent call last):\n",
      "Traceback (most recent call last):\n",
      "Traceback (most recent call last):\n",
      "Traceback (most recent call last):\n",
      "Traceback (most recent call last):\n",
      "Traceback (most recent call last):\n",
      "Traceback (most recent call last):\n",
      "Traceback (most recent call last):\n",
      "Traceback (most recent call last):\n",
      "Traceback (most recent call last):\n",
      "Traceback (most recent call last):\n",
      "  File \"/home/thiago-souza/anaconda3/lib/python3.7/multiprocessing/process.py\", line 297, in _bootstrap\n",
      "    self.run()\n",
      "Traceback (most recent call last):\n",
      "Traceback (most recent call last):\n",
      "Traceback (most recent call last):\n",
      "Traceback (most recent call last):\n",
      "Traceback (most recent call last):\n",
      "  File \"/home/thiago-souza/anaconda3/lib/python3.7/multiprocessing/process.py\", line 297, in _bootstrap\n",
      "    self.run()\n",
      "  File \"/home/thiago-souza/anaconda3/lib/python3.7/multiprocessing/process.py\", line 297, in _bootstrap\n",
      "    self.run()\n",
      "  File \"/home/thiago-souza/anaconda3/lib/python3.7/multiprocessing/process.py\", line 297, in _bootstrap\n",
      "    self.run()\n",
      "  File \"/home/thiago-souza/anaconda3/lib/python3.7/multiprocessing/process.py\", line 297, in _bootstrap\n",
      "    self.run()\n",
      "  File \"/home/thiago-souza/anaconda3/lib/python3.7/multiprocessing/process.py\", line 297, in _bootstrap\n",
      "    self.run()\n",
      "  File \"/home/thiago-souza/anaconda3/lib/python3.7/multiprocessing/process.py\", line 297, in _bootstrap\n",
      "    self.run()\n",
      "  File \"/home/thiago-souza/anaconda3/lib/python3.7/multiprocessing/process.py\", line 297, in _bootstrap\n",
      "    self.run()\n",
      "  File \"/home/thiago-souza/anaconda3/lib/python3.7/multiprocessing/process.py\", line 297, in _bootstrap\n",
      "    self.run()\n",
      "  File \"/home/thiago-souza/anaconda3/lib/python3.7/multiprocessing/process.py\", line 297, in _bootstrap\n",
      "    self.run()\n",
      "  File \"/home/thiago-souza/anaconda3/lib/python3.7/multiprocessing/process.py\", line 297, in _bootstrap\n",
      "    self.run()\n",
      "  File \"/home/thiago-souza/anaconda3/lib/python3.7/multiprocessing/process.py\", line 297, in _bootstrap\n",
      "    self.run()\n",
      "Traceback (most recent call last):\n",
      "  File \"/home/thiago-souza/anaconda3/lib/python3.7/multiprocessing/process.py\", line 297, in _bootstrap\n",
      "    self.run()\n",
      "  File \"/home/thiago-souza/anaconda3/lib/python3.7/multiprocessing/process.py\", line 297, in _bootstrap\n",
      "    self.run()\n",
      "  File \"/home/thiago-souza/anaconda3/lib/python3.7/multiprocessing/process.py\", line 297, in _bootstrap\n",
      "    self.run()\n",
      "  File \"/home/thiago-souza/anaconda3/lib/python3.7/multiprocessing/process.py\", line 297, in _bootstrap\n",
      "    self.run()\n",
      "  File \"/home/thiago-souza/anaconda3/lib/python3.7/multiprocessing/process.py\", line 297, in _bootstrap\n",
      "    self.run()\n",
      "Traceback (most recent call last):\n",
      "  File \"/home/thiago-souza/anaconda3/lib/python3.7/multiprocessing/process.py\", line 297, in _bootstrap\n",
      "    self.run()\n",
      "  File \"/home/thiago-souza/anaconda3/lib/python3.7/multiprocessing/process.py\", line 297, in _bootstrap\n",
      "    self.run()\n",
      "  File \"/home/thiago-souza/anaconda3/lib/python3.7/multiprocessing/process.py\", line 297, in _bootstrap\n",
      "    self.run()\n",
      "  File \"/home/thiago-souza/anaconda3/lib/python3.7/multiprocessing/process.py\", line 297, in _bootstrap\n",
      "    self.run()\n",
      "  File \"/home/thiago-souza/anaconda3/lib/python3.7/multiprocessing/process.py\", line 297, in _bootstrap\n",
      "    self.run()\n",
      "  File \"/home/thiago-souza/anaconda3/lib/python3.7/multiprocessing/process.py\", line 297, in _bootstrap\n",
      "    self.run()\n",
      "  File \"/home/thiago-souza/anaconda3/lib/python3.7/multiprocessing/process.py\", line 297, in _bootstrap\n",
      "    self.run()\n",
      "  File \"/home/thiago-souza/anaconda3/lib/python3.7/multiprocessing/process.py\", line 297, in _bootstrap\n",
      "    self.run()\n",
      "  File \"/home/thiago-souza/anaconda3/lib/python3.7/multiprocessing/process.py\", line 99, in run\n",
      "    self._target(*self._args, **self._kwargs)\n",
      "  File \"/home/thiago-souza/anaconda3/lib/python3.7/multiprocessing/process.py\", line 297, in _bootstrap\n",
      "    self.run()\n",
      "  File \"/home/thiago-souza/anaconda3/lib/python3.7/multiprocessing/process.py\", line 297, in _bootstrap\n",
      "    self.run()\n",
      "  File \"/home/thiago-souza/anaconda3/lib/python3.7/multiprocessing/process.py\", line 297, in _bootstrap\n",
      "    self.run()\n",
      "  File \"/home/thiago-souza/anaconda3/lib/python3.7/multiprocessing/process.py\", line 297, in _bootstrap\n",
      "    self.run()\n",
      "  File \"/home/thiago-souza/anaconda3/lib/python3.7/multiprocessing/process.py\", line 99, in run\n",
      "    self._target(*self._args, **self._kwargs)\n",
      "  File \"/home/thiago-souza/anaconda3/lib/python3.7/multiprocessing/process.py\", line 99, in run\n",
      "    self._target(*self._args, **self._kwargs)\n",
      "  File \"/home/thiago-souza/anaconda3/lib/python3.7/multiprocessing/process.py\", line 297, in _bootstrap\n",
      "    self.run()\n",
      "  File \"/home/thiago-souza/anaconda3/lib/python3.7/multiprocessing/process.py\", line 99, in run\n",
      "    self._target(*self._args, **self._kwargs)\n",
      "  File \"/home/thiago-souza/anaconda3/lib/python3.7/multiprocessing/process.py\", line 99, in run\n",
      "    self._target(*self._args, **self._kwargs)\n",
      "  File \"/home/thiago-souza/anaconda3/lib/python3.7/multiprocessing/process.py\", line 297, in _bootstrap\n",
      "    self.run()\n",
      "  File \"/home/thiago-souza/anaconda3/lib/python3.7/multiprocessing/process.py\", line 297, in _bootstrap\n",
      "    self.run()\n",
      "  File \"/home/thiago-souza/anaconda3/lib/python3.7/multiprocessing/process.py\", line 297, in _bootstrap\n",
      "    self.run()\n",
      "  File \"/home/thiago-souza/anaconda3/lib/python3.7/multiprocessing/process.py\", line 99, in run\n",
      "    self._target(*self._args, **self._kwargs)\n",
      "  File \"/home/thiago-souza/anaconda3/lib/python3.7/multiprocessing/process.py\", line 99, in run\n",
      "    self._target(*self._args, **self._kwargs)\n",
      "  File \"/home/thiago-souza/anaconda3/lib/python3.7/multiprocessing/process.py\", line 297, in _bootstrap\n",
      "    self.run()\n",
      "  File \"/home/thiago-souza/anaconda3/lib/python3.7/multiprocessing/process.py\", line 99, in run\n",
      "    self._target(*self._args, **self._kwargs)\n",
      "  File \"/home/thiago-souza/anaconda3/lib/python3.7/multiprocessing/process.py\", line 99, in run\n",
      "    self._target(*self._args, **self._kwargs)\n",
      "  File \"/home/thiago-souza/anaconda3/lib/python3.7/multiprocessing/process.py\", line 99, in run\n",
      "    self._target(*self._args, **self._kwargs)\n",
      "  File \"/home/thiago-souza/anaconda3/lib/python3.7/multiprocessing/process.py\", line 99, in run\n",
      "    self._target(*self._args, **self._kwargs)\n",
      "  File \"/home/thiago-souza/anaconda3/lib/python3.7/multiprocessing/process.py\", line 99, in run\n",
      "    self._target(*self._args, **self._kwargs)\n",
      "  File \"/home/thiago-souza/anaconda3/lib/python3.7/multiprocessing/process.py\", line 297, in _bootstrap\n",
      "    self.run()\n"
     ]
    }
   ],
   "source": [
    "%%time\n",
    "max_sample_sz = int(1e2)\n",
    "estimates = run_url_experiments(5,max_sample_sz)"
   ]
  },
  {
   "cell_type": "code",
   "execution_count": 31,
   "metadata": {},
   "outputs": [],
   "source": [
    "def plot_experiment2(estimates):\n",
    "    \n",
    "    fig = plt.figure(figsize=(10, 8))\n",
    "    plt.title('estimativa usando MC')\n",
    "    plt.plot(estimates.T, 'x', color='blue');\n",
    "    plt.grid(True)\n",
    "    plt.xlabel('tamanho da amostra')\n",
    "    plt.ylabel('estimativa')\n",
    "    \n",
    "    plt.show()"
   ]
  },
  {
   "cell_type": "code",
   "execution_count": 32,
   "metadata": {},
   "outputs": [
    {
     "data": {
      "image/png": "[encoded data removed]",
      "text/plain": [
       "<Figure size 720x576 with 1 Axes>"
      ]
     },
     "metadata": {
      "needs_background": "light"
     },
     "output_type": "display_data"
    }
   ],
   "source": [
    "plot_experiment2(estimates)"
   ]
  },
  {
   "cell_type": "code",
   "execution_count": null,
   "metadata": {},
   "outputs": [],
   "source": []
  }
 ],
 "metadata": {
  "kernelspec": {
   "display_name": "Python 3",
   "language": "python",
   "name": "python3"
  },
  "language_info": {
   "codemirror_mode": {
    "name": "ipython",
    "version": 3
   },
   "file_extension": ".py",
   "mimetype": "text/x-python",
   "name": "python",
   "nbconvert_exporter": "python",
   "pygments_lexer": "ipython3",
   "version": "3.7.3"
  }
 },
 "nbformat": 4,
 "nbformat_minor": 4
}
