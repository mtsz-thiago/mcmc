{
 "cells": [
  {
   "cell_type": "markdown",
   "metadata": {},
   "source": [
    "Lista #3 MCMC\n",
    "===\n",
    "\n",
    "Thiago da Mota Souza - thiagosz@cos.ufrj.br"
   ]
  },
  {
   "cell_type": "markdown",
   "metadata": {},
   "source": [
    "## Imports"
   ]
  },
  {
   "cell_type": "code",
   "execution_count": 1,
   "metadata": {},
   "outputs": [],
   "source": [
    "import math\n",
    "import numpy as np\n",
    "import random\n",
    "import time\n",
    "from sklearn.model_selection import KFold\n",
    "import matplotlib.pyplot as plt\n",
    "import requests\n",
    "import scipy.special\n",
    "from multiprocessing import Pool\n",
    "from tqdm import tqdm\n",
    "from decimal import Decimal"
   ]
  },
  {
   "cell_type": "markdown",
   "metadata": {},
   "source": [
    "## Questão 1"
   ]
  },
  {
   "cell_type": "markdown",
   "metadata": {},
   "source": [
    "Usando a mesma ideia da utilizada em sala de aula, podemos considerar o sorteio de pontos dentro de um quadrado de lado unitário que estão contidos em um triângulo $ABC$ de lados $\\overline{AB}=1$, $\\overline{AC}=1$ e $\\angle{BAC} = \\alpha = \\pi/4$. A área desse triângulo é:\n",
    "\n",
    "$$\n",
    "\\begin{equation}\n",
    "Area(ABC) = \\frac{\\sin{(\\alpha)}x1x1}{2} = \\frac{\\sqrt{2}}{4}\n",
    "\\end{equation}\n",
    "$$"
   ]
  },
  {
   "cell_type": "markdown",
   "metadata": {},
   "source": [
    "### Questão 1.1\n",
    "\n",
    "Estabelecendo o vértice A como a origem do sistema de coordenadas, o eixo $x$ congruente ao lado $AC$ e o eixo $y$ perpendicular ao eixo $x$ como o de costume. Assim temos: $A = (0,0)$, $B=\\sqrt{2}/2(1,1)$ e $C=(1,0)$\n",
    "\n",
    "Podemos definir as funções determinísticas, $f_{AB}$ e $f_{BC}$, que descrevem os lados $AB$ e $BC$ respectivamente nos nos intervalos $x \\in [0,1/2]$ e $x \\in [1/2,1]$\n",
    "\n",
    "$$\n",
    "\\begin{equation}\n",
    "f_{AB} = \\sqrt{2}x\n",
    "\\end{equation}\n",
    "$$\n",
    "\n",
    "$$\n",
    "\\begin{equation}\n",
    "f_{BC} = -\\sqrt{2}x + \\sqrt{2}\n",
    "\\end{equation}\n",
    "$$\n",
    "\n",
    "E portanto vamos definir a função $g$ que descreve da sequinte forma\n",
    "\n",
    "$$\n",
    "g(x) = \n",
    "     \\begin{cases}\n",
    "       \\sqrt{2}x & 0 \\geq x < 1/2 \\\\\n",
    "       -\\sqrt{2}x + \\sqrt{2}, & 1/2 < x \\leq 1 \\\\\n",
    "     \\end{cases}\n",
    "$$\n",
    "\n",
    "> OBS: eu entendo que devido as constantes da função g, o que segue tem uma falha que é eu ter que usar o valor de $\\sqrt{2}$ no computo de g. Não tenho tempo para bolar uma outra forma geométrica que escape à isso e vou seguir a questão ignorando esse fato que não altera o uso de Monte Carlo em si.\n",
    "\n",
    "Utilizando a mesma ideia da usada para achar $\\pi$ em sala de aula, podemos estimar a área em baixo dda função $g$ no intervalo $[0,1]$ Para isso devemos definir: $X,Y \\sim Uniforme(0,1)$. Por tanto:\n",
    "\n",
    "$$\n",
    "\\begin{equation}\n",
    "\\label{eq:Q-1-area-int}\n",
    "Area(ABC) = \\int_{x=0}^{1}g(x)dx = E[g(X)] = \\frac{\\sqrt(2)}{4}\n",
    "\\end{equation}\n",
    "$$\n"
   ]
  },
  {
   "cell_type": "markdown",
   "metadata": {},
   "source": [
    "### Questão 1.2\n",
    "\n",
    "da questão anterior, temos que:\n",
    "\n",
    "$$\n",
    "\\begin{equation}\n",
    "\\sigma_{g(X)}^2 = E[(g(X)- \\mu_{g(x)})^2] = E[g(X)^2] - \\mu_{g(X)}^2\n",
    "\\end{equation}\n",
    "$$\n",
    "\n",
    "A média, $\\mu_{g(X)}$ foi construida a partir da área do triângulo e portanto já sabemos que seu valor é $\\sqrt{2}{4}$, mas isso pode ser verificado por:\n",
    "\n",
    "$$\n",
    "\\begin{multline}\n",
    "\\mu_{g(X)} = E[g(X)] = \\int_{0}^{1/2}\\sqrt{2}xdx + \\int_{1/2}^{1}(-\\sqrt{2}x + \\sqrt{2})dx = \\\\\n",
    "\\frac{\\sqrt{2}}{2}x^2\\bigg\\rvert_{0}^{1/2} + \\sqrt(2)\\left(-1/2x^2 + x\\right)\\bigg\\rvert_{1/2}^{1} = \\frac{\\sqrt{2}}{8} \\frac{\\sqrt{2}}{8} = \\frac{\\sqrt{2}}{4}\n",
    "\\end{multline}\n",
    "$$\n",
    "\n",
    "Para o cálculo de $\\sigma_{g(X)}^2$, temos:\n",
    "\n",
    "$$\n",
    "\\begin{multline}\n",
    "E[g(X)^2] = \\int_{0}^{1/2}2x^2dx + \\int_{1/2}^{1}(x^2 -4x + 2)dx = \\\\\n",
    "\\frac{2}{3}x^3\\bigg\\rvert_{0}^{1/2} + (1/3x^3 -2x^2 + 2x)\\bigg\\rvert_{1/2}^{1} = \\frac{2}{24} + \\frac{19}{24} = \\frac{7}{8}\n",
    "\\end{multline}\n",
    "$$\n",
    "\n",
    "logo:\n",
    "$$\n",
    "\\begin{equation}\n",
    "\\sigma_{g(X)}^2 = E[(g(X)- \\mu_{g(x)})^2] = E[g(X)^2] - \\mu_{g(X)}^2 = \\frac{7}{8} - \\frac{1}{8} = \\frac{3}{4}\n",
    "\\end{equation}\n",
    "$$\n"
   ]
  },
  {
   "cell_type": "markdown",
   "metadata": {},
   "source": [
    "### Questão 1.3\n",
    "\n",
    "da documentação da biblioteca [numpy](https://numpy.org/doc/stable/reference/random/bit_generators/mt19937.html) do python, temos que a função ```numpy.random.MT19937``` usa o algoritmo de Mersenne Twister."
   ]
  },
  {
   "cell_type": "code",
   "execution_count": 2,
   "metadata": {},
   "outputs": [],
   "source": [
    "def generate_sample(g_fun, sample_sz, a=0,b=1):\n",
    "    \"\"\"Gerador genérico de amostras da função g aplicada sobre uma distribuição uniforme X no intervalo [a,b]\"\"\"\n",
    "    vectorized_g_fun = np.vectorize(g_fun)\n",
    "    \n",
    "    x_list = np.random.uniform(a,b,sample_sz)\n",
    "    \n",
    "    return vectorized_g_fun(x_list), x_list"
   ]
  },
  {
   "cell_type": "code",
   "execution_count": 3,
   "metadata": {},
   "outputs": [],
   "source": [
    "def g_fun(x):\n",
    "    if x < 0.5:\n",
    "        return math.sqrt(2)*x\n",
    "    return math.sqrt(2)*(-x+1)"
   ]
  },
  {
   "cell_type": "markdown",
   "metadata": {},
   "source": [
    "### Questão 1.4\n",
    "\n",
    "fazendo a correção para a definção de erro do meu estimador, uma vez que a V.A. que eu estou gerando não tem expectativa $\\sqrt(2)$, mas sim $\\sqrt(2)/4$ \n",
    "\n",
    "$$\n",
    "\\begin{equation}\n",
    "\\hat{e}_{n} = \\frac{|M_n - \\sqrt{2}/4|}{\\sqrt{2}/4}\n",
    "\\end{equation}\n",
    "$$\n",
    "\n",
    "Essa é a função de erro MAE (Mean absolute error)\n",
    "\n",
    "> Como sabemos que a média amostral tem uma variância, vou utilizar K-folds para visualizar a variância do estimador"
   ]
  },
  {
   "cell_type": "code",
   "execution_count": 4,
   "metadata": {},
   "outputs": [],
   "source": [
    "def mae(y_true, y_pred):\n",
    "    return abs(y_true - y_pred)/y_true\n",
    "mae = np.vectorize(mae)"
   ]
  },
  {
   "cell_type": "code",
   "execution_count": 5,
   "metadata": {},
   "outputs": [],
   "source": [
    "def sanple_mean_estimator(values):\n",
    "    return np.mean(values)"
   ]
  },
  {
   "cell_type": "code",
   "execution_count": 6,
   "metadata": {},
   "outputs": [],
   "source": [
    "def run_mc_estimator(sample_gen, sample_size, mae, estimator, true_val, num_folds=5):\n",
    "    \n",
    "    sample_sz_compansate_folds = math.ceil((num_folds+1)*sample_size/num_folds)\n",
    "    samples,_ = sample_gen(sample_sz_compansate_folds)\n",
    "    \n",
    "    num_folds = min(sample_sz_compansate_folds, num_folds)\n",
    "    \n",
    "    kf = KFold(n_splits=num_folds, shuffle=False)\n",
    "    estimate_sample = []\n",
    "    error_sample = []\n",
    "    for fold,_ in kf.split(samples):\n",
    "        data = samples[fold]\n",
    "        estimate = estimator(data)\n",
    "        estimate_sample.append(estimate)\n",
    "        if true_val:\n",
    "            error = mae(true_val, estimate)\n",
    "            error_sample.append(error)\n",
    "        \n",
    "    return estimate_sample, error_sample"
   ]
  },
  {
   "cell_type": "code",
   "execution_count": 7,
   "metadata": {},
   "outputs": [],
   "source": [
    "def g_sample_generator(sample_sz):\n",
    "    global g_fun\n",
    "    return generate_sample(g_fun, sample_sz, 0,1)\n",
    "\n",
    "def run_experiments(min_sample_sz, max_sample_sz):\n",
    "    global g_sample_generator, run_mc_estimator, mae, sanple_mean_estimator\n",
    "    \n",
    "    true_val = math.sqrt(2)/4\n",
    "    range_len = max_sample_sz - min_sample_sz + 1\n",
    "    estimates = np.zeros([5, range_len])\n",
    "    errors = np.zeros([5, range_len])\n",
    "    \n",
    "    for i,sample_sz in enumerate(tqdm(range(min_sample_sz, max_sample_sz + 1))):\n",
    "        estimates_for_n, error_samples_for_n = run_mc_estimator(g_sample_generator, sample_sz, mae, sanple_mean_estimator, true_val)\n",
    "        estimates[:,i] = estimates_for_n\n",
    "        errors[:,i] = error_samples_for_n\n",
    "    return estimates, errors"
   ]
  },
  {
   "cell_type": "code",
   "execution_count": 8,
   "metadata": {},
   "outputs": [
    {
     "name": "stderr",
     "output_type": "stream",
     "text": [
      "100%|██████████| 9996/9996 [00:18<00:00, 546.47it/s] "
     ]
    },
    {
     "name": "stdout",
     "output_type": "stream",
     "text": [
      "CPU times: user 18.3 s, sys: 52.5 ms, total: 18.3 s\n",
      "Wall time: 18.3 s\n"
     ]
    },
    {
     "name": "stderr",
     "output_type": "stream",
     "text": [
      "\n"
     ]
    }
   ],
   "source": [
    "%%time\n",
    "max_sample_size = int(1e4)\n",
    "estimates, errors = run_experiments(5,max_sample_size)"
   ]
  },
  {
   "cell_type": "code",
   "execution_count": 26,
   "metadata": {},
   "outputs": [],
   "source": [
    "def plot_experiment1(estimates, error, true_val):\n",
    "    \n",
    "    fig = plt.figure(figsize=(10, 8))\n",
    "    plt.title('estimativa usando MC')\n",
    "    plt.subplot(2,1,1)\n",
    "    plt.plot(estimates.T, 'x', color='blue');\n",
    "    plt.axhline(y=true_val, color='r', linestyle='-')\n",
    "    plt.grid(True)\n",
    "    plt.xlabel('tamanho da amostra')\n",
    "    plt.ylabel('estimativa')\n",
    "    \n",
    "    plt.subplot(2,1,2)\n",
    "    plt.plot(error.T, 'x', color='blue');\n",
    "    plt.axhline(y=0, color='r', linestyle='-')\n",
    "    plt.grid(True)\n",
    "    plt.xlabel('tamanho da amostra')\n",
    "    plt.ylabel('mae')\n",
    "    \n",
    "    fig.subplots_adjust(top=0.85)\n",
    "    plt.show()"
   ]
  },
  {
   "cell_type": "code",
   "execution_count": 10,
   "metadata": {},
   "outputs": [
    {
     "data": {
      "image/png": "[encoded data removed]",
      "text/plain": [
       "<Figure size 720x576 with 2 Axes>"
      ]
     },
     "metadata": {
      "needs_background": "light"
     },
     "output_type": "display_data"
    }
   ],
   "source": [
    "plot_experiment1(estimates, errors, math.sqrt(2)/4)"
   ]
  },
  {
   "cell_type": "markdown",
   "metadata": {},
   "source": [
    "## Questão 2"
   ]
  },
  {
   "cell_type": "markdown",
   "metadata": {},
   "source": [
    "### Questão 2.1\n",
    "\n",
    "$$\n",
    "\\begin{equation}\n",
    "f_X(x) = \\lambda e^{-\\lambda x} \\implies F_X(x) = -e^{-\\lambda x}\n",
    "\\end{equation}\n",
    "$$\n",
    "\n",
    "Logo\n",
    "\n",
    "$$\n",
    "\\begin{equation}\n",
    "F_X^{-}1(x) = \\frac{1}{-\\lambda}ln(x)\n",
    "\\end{equation}\n",
    "$$"
   ]
  },
  {
   "cell_type": "code",
   "execution_count": 35,
   "metadata": {},
   "outputs": [],
   "source": [
    "def direct_q2_1(x,lam):\n",
    "    return lam*math.exp(-lam*x)\n",
    "def inversa_q2_1(x, lam):\n",
    "    return -(math.log(x)/lam)"
   ]
  },
  {
   "cell_type": "markdown",
   "metadata": {},
   "source": [
    "Usando o método da inversa podemos criar o seguinte função geradora de amostrar para a distribuição"
   ]
  },
  {
   "cell_type": "code",
   "execution_count": 36,
   "metadata": {},
   "outputs": [],
   "source": [
    "def sample_generator_q_21(sample_sz, lam):\n",
    "        \n",
    "    def param_inv(x):\n",
    "        global inversa_q2_1\n",
    "        return inversa_q2_1(x, lam)\n",
    "    \n",
    "    sample, x = generate_sample(param_inv, sample_sz, 0,1)\n",
    "    return sample, x"
   ]
  },
  {
   "cell_type": "code",
   "execution_count": 73,
   "metadata": {},
   "outputs": [],
   "source": [
    "len_sample = 1000\n",
    "par_q21 = 4\n",
    "sample_q21, x = np.array(sample_generator_q_21(len_sample, par_q21))\n",
    "ran = np.linspace(np.min(sample_q21),np.max(sample_q21),num=len_sample)\n",
    "distribution_q21 = [direct_q2_1(a, par_q21) for a in ran]"
   ]
  },
  {
   "cell_type": "code",
   "execution_count": 76,
   "metadata": {},
   "outputs": [],
   "source": [
    "def plot_hist(sample, expected, ran):\n",
    "    fig = plt.figure()\n",
    "    ax = plt.hist(sample,density=True)\n",
    "    plt.plot(ran, expected, '-r')\n",
    "    plt.title(\"histograma da ddistribuição\")\n",
    "    plt.xlabel(\"X\")\n",
    "    plt.ylabel(\"freq\")\n",
    "    plt.grid(True)\n",
    "    plt.show()"
   ]
  },
  {
   "cell_type": "code",
   "execution_count": 77,
   "metadata": {},
   "outputs": [
    {
     "data": {
      "image/png": "[encoded data removed]",
      "text/plain": [
       "<Figure size 432x288 with 1 Axes>"
      ]
     },
     "metadata": {
      "needs_background": "light"
     },
     "output_type": "display_data"
    }
   ],
   "source": [
    "plot_hist(sample_q21,distribution_q21,ran)"
   ]
  },
  {
   "cell_type": "markdown",
   "metadata": {},
   "source": [
    "### Questão 2.2\n",
    "\n",
    "$$\n",
    "\\begin{equation}\n",
    "f_X(x) = \\begin{cases}\n",
    "\\frac{\\alpha x_0^\\alpha}{x^{\\alpha+1}} & x > x_0 \\\\\n",
    "0 & \\text{caso contrário}\n",
    "\\end{cases} \n",
    "\\implies F_X(x) = \\begin{cases}\n",
    "1 - \\left(\\frac{x_0^\\alpha}{x}\\right)^\\alpha & x > x_0 \\\\\n",
    "0 & \\text{caso contrário}\n",
    "\\end{cases}\n",
    "\\end{equation} \n",
    "$$\n",
    "\n",
    "logo\n",
    "\n",
    "$$\n",
    "\\begin{equation}\n",
    "F_X^{-1}(x) =\n",
    "\\frac{x_0}{(x-1)^{1/\\alpha}}, x \\in [0,1]\n",
    "\\end{equation}\n",
    "$$\n",
    "\n",
    "No intervalo $[0,x_0)$ a função não é de fato inversível, mas isso não importa uma vez que a distribuição de massa neste invervalo é 0."
   ]
  },
  {
   "cell_type": "code",
   "execution_count": 118,
   "metadata": {},
   "outputs": [],
   "source": [
    "def direct_q2_2(x, alpha, x0):\n",
    "    if x < x0:\n",
    "        return 0\n",
    "    return alpha*(x0**alpha)/(x**(alpha+1))\n",
    "def inversa_q2_2(x, alpha, x0):\n",
    "    return x0/((1-x)**(1/alpha))"
   ]
  },
  {
   "cell_type": "code",
   "execution_count": 129,
   "metadata": {},
   "outputs": [],
   "source": [
    "def sample_generator_q_22(sample_sz, alpha, x0):\n",
    "    global inversa_q2_2\n",
    "    \n",
    "    def param_inv(x):\n",
    "        return inversa_q2_2(x, alpha, x0)\n",
    "    \n",
    "    sample, x = generate_sample(param_inv, sample_sz)\n",
    "    return sample, x"
   ]
  },
  {
   "cell_type": "code",
   "execution_count": 131,
   "metadata": {},
   "outputs": [],
   "source": [
    "len_sample = 1000\n",
    "par_q22_1 = 4\n",
    "par_q22_2 = 2\n",
    "sample_q22, x = np.array(sample_generator_q_22(len_sample, par_q22_1, par_q22_2))\n",
    "ran2 = np.linspace(np.min(sample_q22),np.max(sample_q22),num=len_sample)\n",
    "distribution_q22 = [direct_q2_2(a, par_q22_1,par_q22_2) for a in ran]"
   ]
  },
  {
   "cell_type": "code",
   "execution_count": 132,
   "metadata": {},
   "outputs": [
    {
     "data": {
      "image/png": "[encoded data removed]",
      "text/plain": [
       "<Figure size 432x288 with 1 Axes>"
      ]
     },
     "metadata": {
      "needs_background": "light"
     },
     "output_type": "display_data"
    }
   ],
   "source": [
    "plot_hist(sample_q22,distribution_q22,ran2)"
   ]
  },
  {
   "cell_type": "markdown",
   "metadata": {},
   "source": [
    "## Questão 3\n",
    "\n",
    "Sendo I uma V.A indicadora que atribuí 1 caso se escolha um domínio existe do conjunto, D, de todos os possíveis domínios de tamanho k e 0 caso contrário. Sendo N o número de domínios existentes, podemos escrever que:\n",
    "\n",
    "$$\n",
    "\\begin{equation}\n",
    "I_i \\sim Indicadora(p=\\frac{1}{N}), i \\in D\n",
    "\\end{equation}\n",
    "$$\n",
    "\n",
    "Definindo $X \\sim Uniforme(1,|D|)$\n",
    "\n",
    "$$\n",
    "\\begin{equation}\n",
    "E[I(X)] = \\frac{N}{|D|} \\implies N = |D|E[I(X)]\n",
    "\\end{equation}\n",
    "$$\n",
    "\n",
    "Um método de Monte Carlo neste caso é aproximar a expectativa da equação acima pela média amostral. Infelizmene o uso da distribuição uniforme vai fazer o estimador bastante ineficiente já que o número de domínios existentes deve ser muito menor que o número de possíveis domínios."
   ]
  },
  {
   "cell_type": "code",
   "execution_count": 10,
   "metadata": {},
   "outputs": [],
   "source": [
    "def assert_url_exists(url):\n",
    "    try:\n",
    "        r = requests.get(url)\n",
    "        return True\n",
    "    except:\n",
    "        return False\n",
    "\n",
    "def assert_url_exists_parallel(urls):\n",
    "    return np.array([ assert_url_exists(u) for u in urls])"
   ]
  },
  {
   "cell_type": "code",
   "execution_count": 15,
   "metadata": {},
   "outputs": [],
   "source": [
    "def gen_k_size_string(shape):\n",
    "    \n",
    "    def to_string(v):\n",
    "        to_char = [chr(i) for i in v]\n",
    "        return ''.join(to_char)\n",
    "    \n",
    "    def shorten_string(s):\n",
    "        l = len(s) + 1\n",
    "        size = np.random.randint(1,l)\n",
    "        return s[0:size]\n",
    "\n",
    "    rands = np.random.randint(97,122, shape)\n",
    "    rands_shorten = [shorten_string(s) for s in rands]\n",
    "    rands_char = [to_string(s) for s in rands_shorten]\n",
    "    \n",
    "    return rands_char, rands_shorten"
   ]
  },
  {
   "cell_type": "code",
   "execution_count": 16,
   "metadata": {},
   "outputs": [],
   "source": [
    "def sample_urls(sample_sz, k):\n",
    "    shape = (sample_sz, k)\n",
    "    rands, x = gen_k_size_string(shape)\n",
    "    return [\"http://www.\" + d + \".ufrj.br\" for d in rands], x\n",
    "\n",
    "def sample_url_exists(sample_sz):\n",
    "    url_sampĺe, _ = sample_urls(sample_sz,4)\n",
    "    return assert_url_exists_parallel(url_sampĺe), url_sampĺe"
   ]
  },
  {
   "cell_type": "code",
   "execution_count": 17,
   "metadata": {},
   "outputs": [],
   "source": [
    "cardD = 26**4 + 26**3 + 26**2 + 26\n",
    "\n",
    "def N_estimator(sample):\n",
    "    global cardD\n",
    "    return cardD*sanple_mean_estimator(sample)"
   ]
  },
  {
   "cell_type": "code",
   "execution_count": 18,
   "metadata": {},
   "outputs": [],
   "source": [
    "def run_url_experiments(min_sample_sz, max_sample_sz):\n",
    "    global sample_url_exists, run_mc_estimator, mae, N_estimator\n",
    "    \n",
    "    range_len = max_sample_sz - min_sample_sz + 1\n",
    "    estimates = np.zeros([5, range_len])\n",
    "    \n",
    "    for i,sample_sz in enumerate(tqdm(range(min_sample_sz, max_sample_sz + 1))):\n",
    "        url_sampĺe, _ = run_mc_estimator(sample_url_exists, sample_sz, mae, N_estimator, None, num_folds=5)\n",
    "        estimates_for_n = assert_url_exists(url_sampĺe)\n",
    "        estimates[:,i] = estimates_for_n\n",
    "    \n",
    "    return estimates"
   ]
  },
  {
   "cell_type": "code",
   "execution_count": 22,
   "metadata": {},
   "outputs": [
    {
     "name": "stderr",
     "output_type": "stream",
     "text": [
      "100%|██████████| 96/96 [21:33<00:00, 19.88s/it]"
     ]
    },
    {
     "name": "stdout",
     "output_type": "stream",
     "text": [
      "CPU times: user 19.6 s, sys: 605 ms, total: 20.2 s\n",
      "Wall time: 21min 33s\n"
     ]
    },
    {
     "name": "stderr",
     "output_type": "stream",
     "text": [
      "\n"
     ]
    }
   ],
   "source": [
    "%%time\n",
    "max_sample_sz = int(1e2)\n",
    "estimates = run_url_experiments(5,max_sample_sz)"
   ]
  },
  {
   "cell_type": "code",
   "execution_count": 25,
   "metadata": {},
   "outputs": [],
   "source": [
    "def plot_experiment2(estimates):\n",
    "    \n",
    "    fig = plt.figure(figsize=(10, 8))\n",
    "    plt.title('estimativa usando MC')\n",
    "    plt.plot(estimates.T, 'x', color='blue');\n",
    "    plt.grid(True)\n",
    "    plt.xlabel('tamanho da amostra')\n",
    "    plt.ylabel('estimativa')\n",
    "    \n",
    "    plt.show()"
   ]
  },
  {
   "cell_type": "code",
   "execution_count": 24,
   "metadata": {},
   "outputs": [
    {
     "data": {
      "image/png": "[encoded data removed]",
      "text/plain": [
       "<Figure size 720x576 with 1 Axes>"
      ]
     },
     "metadata": {
      "needs_background": "light"
     },
     "output_type": "display_data"
    }
   ],
   "source": [
    "plot_experiment2(estimates)"
   ]
  },
  {
   "cell_type": "markdown",
   "metadata": {},
   "source": [
    "## Questão 5\n",
    "<!-- \n",
    "Sabemos que, se utilizarmos a distribuição h(i) para amostrar a função $g(i)/h(i)$ temos que:\n",
    "\n",
    "$$\n",
    "\\begin{equation}\n",
    "\\sigma_{estimador} = \\sum_{i=1}^N\\frac{g(i)^2}{h(i)}\n",
    "\\end{equation}\n",
    "$$\n",
    "\n",
    "O melhor estimador é aquele de variância mínima, logo:\n",
    "\n",
    "$$\n",
    "\\begin{equation}\n",
    "\\frac{d\\sigma_{estimador}}{di} = \\sum_{i=1}^N\\left(\\frac{2g(i)g(i)'}{h(i)} - \\frac{g(i)^2}{h(i)^2}h(i)'\\right)\n",
    "\\end{equation}\n",
    "$$\n",
    "\n",
    "onde $h(i)' = \\frac{dh(i)}{di}$ e $g(i)' = \\frac{dg(i)}{di}$. O estimador de variância mínima terá:\n",
    "\n",
    "$$\n",
    "\\begin{equation}\n",
    "0 = \\frac{d\\sigma_{\\text{melhor estimador}}}{di} \\implies \\sum_{i=1}^N\\left(\\frac{2g(i)g(i)'}{h(i)} - \\frac{g(i)^2}{h(i)^2}h(i)'\\right) = 0\n",
    "\\end{equation}\n",
    "$$\n",
    "\n",
    "Para o caso particular $g(i) = i log(i)$ e $g(i)' = 1 + log(i)$ \n",
    "\n",
    "$$\n",
    "\\begin{equation}\n",
    "0 = \\sum_{i=1}^N\\left(\\frac{2i\\log(i)(1+ log(i))}{h(i)} - \\frac{(i\\log(i))^2}{h(i)^2}h(i)'\\right)\n",
    "\\end{equation}\n",
    "$$\n",
    "\n",
    "Em particular, $h(i) = k i\\log i$, é solução para a equação acima. Onde podemos escolher o valor da constante k, tal que a a função h(i) seja uma função de densidade válida\n",
    "\n",
    "$$\n",
    "\\begin{equation}\n",
    "1 = \\sum_{i=1}^N k i\\log i = k\\sum_{i=1}^N i\\log i \\implies k = \\frac{1}{\\sum_{i=1}^N i\\log i}\n",
    "\\end{equation}\n",
    "$$\n",
    "\n",
    "Para essa escolha de h(i):\n",
    "\n",
    "$$\n",
    "\\begin{equation}\n",
    "\\sigma_{estimador} = \\sum_{i=1}^N\\frac{i\\log i}{k}\n",
    "\\end{equation}\n",
    "$$\n",
    "\n",
    "Para essa distribuição gerar amostrar usando o método da função inver\n",
    "\n",
    "$$\n",
    "\\begin{equation}\n",
    "F_{h(i)} = \n",
    "\\end{equation}\n",
    "$$ -->"
   ]
  },
  {
   "cell_type": "code",
   "execution_count": 45,
   "metadata": {},
   "outputs": [],
   "source": [
    "def fun_h (x):\n",
    "    return x*math.log(x)"
   ]
  },
  {
   "cell_type": "code",
   "execution_count": 49,
   "metadata": {},
   "outputs": [],
   "source": [
    "def plot_fun_g_q5():\n",
    "    interval1N = np.linspace(0.1,5,100)\n",
    "    fun_h_sample = [fun_h(i) for i in interval1N]\n",
    "    plt.plot(interval1N,fun_h_sample)\n",
    "    plt.grid(True)\n",
    "    plt.show()"
   ]
  },
  {
   "cell_type": "code",
   "execution_count": 50,
   "metadata": {},
   "outputs": [
    {
     "data": {
      "image/png": "[encoded data removed]",
      "text/plain": [
       "<Figure size 432x288 with 1 Axes>"
      ]
     },
     "metadata": {
      "needs_background": "light"
     },
     "output_type": "display_data"
    }
   ],
   "source": [
    "plot_fun_g_q5()"
   ]
  },
  {
   "cell_type": "markdown",
   "metadata": {},
   "source": [
    "o gráfico lembra uma parábola de zeros em 0 e 1. Isso motiva minha escolha de h(i):\n",
    "\n",
    "$$\n",
    "\\begin{equation}\n",
    "h(i) = k(x^2 - x)\n",
    "\\end{equation}\n",
    "$$\n",
    "\n",
    "para o cálculo de k, utilizaremos a restrição que h(i) seja uma densidade de probabilidade no intervalo [0,1]\n",
    "\n",
    "$$\n",
    "\\begin{equation}\n",
    "1 = \\sum_{i=1}^N(x^2 - x)k \\implies k = \\frac{1}{\\sum_{i=1}^N(x^2 - x)}\n",
    "\\end{equation}\n",
    "$$\n",
    "\n",
    "Usando as somas das séries de potência:\n",
    "\n",
    "$$\n",
    "\\begin{equation}\n",
    "    S_1(n) = \\sum_{i=1}^{n}i = \\frac{n(n+1)}{2}\n",
    "\\end{equation}\n",
    "$$\n",
    "$$\n",
    "\\begin{equation}\n",
    "    S_2(n) = \\sum_{i=1}^{n}i^2 = \\frac{n(n+1)(2n+1)}{6}\n",
    "\\end{equation}\n",
    "$$\n",
    "\n",
    "$$\n",
    "\\begin{equation}\n",
    "k = \\frac{1}{\\frac{N(N+1)(2N+1)}{6} - \\frac{N(N+1)}{2}} = \\frac{6}{N(N+1)(2N+1) - 3N(N+1)} = \\frac{3}{N(N^2-1)}\n",
    "\\end{equation}\n",
    "$$"
   ]
  },
  {
   "cell_type": "markdown",
   "metadata": {},
   "source": [
    "### Questão 5.1\n",
    "\n",
    "Para essa escolha de h(i), e excluindo o valor em i=1, que gera uma singularidade:\n",
    "\n",
    "$$\n",
    "\\begin{equation}\n",
    "\\sigma_{estimador}^2 = E\\left[\\frac{g(i)^2}{h(i)}\\right[ = E\\left[\\frac{(i\\log i)^2}{k(i^2 - i)}\\right]\n",
    "\\end{equation}\n",
    "$$\n",
    "\n",
    "Para $N = 10^6 \\implies k = 2.999999999997\\times 10^{-18}$\n"
   ]
  },
  {
   "cell_type": "code",
   "execution_count": 12,
   "metadata": {},
   "outputs": [],
   "source": [
    "N = int(1e6)\n",
    "k = 2.999999999997e-18"
   ]
  },
  {
   "cell_type": "code",
   "execution_count": 13,
   "metadata": {},
   "outputs": [],
   "source": [
    "def g2_por_h(x):\n",
    "    return x*math.log(x)/(2.999999999997e-18*(x**2 - x))\n",
    "\n",
    "def fun_h_q5(x):\n",
    "    return (x**2 - x)*2.999999999997e-18\n",
    "\n",
    "var_estimador = np.sum([g2_por_h(x)*fun_h_q5(x) for x in range(2,N+1)])"
   ]
  },
  {
   "cell_type": "code",
   "execution_count": 14,
   "metadata": {},
   "outputs": [
    {
     "name": "stdout",
     "output_type": "stream",
     "text": [
      "O valor da variância do estimador para a escolha de h(i) é de 6.66E+12\n"
     ]
    }
   ],
   "source": [
    "print(f\"O valor da variância do estimador para a escolha de h(i) é de {'%.2E' % Decimal(var_estimador)}\")"
   ]
  },
  {
   "cell_type": "code",
   "execution_count": 15,
   "metadata": {},
   "outputs": [],
   "source": [
    "var_estimador_uniforme = np.mean([g2_por_h(x) for x in range(2,N+1)])"
   ]
  },
  {
   "cell_type": "code",
   "execution_count": 16,
   "metadata": {},
   "outputs": [
    {
     "name": "stdout",
     "output_type": "stream",
     "text": [
      "A variância do estimador uniforme é 3.22E+13\n"
     ]
    }
   ],
   "source": [
    "print(f\"A variância do estimador uniforme é {'%.2E' % Decimal(var_estimador_uniforme)}\")"
   ]
  },
  {
   "cell_type": "markdown",
   "metadata": {},
   "source": [
    "### Questão 5.2\n",
    "\n",
    "infelizmente a função h(i) é complicada de ser amostrada, embora a cumulativa seja uma cúbica e por existir uma fórmiula fechada para as raízes eu acredito que seja possível usar isso para criar amostras pelo método da inversa. Como alternativa vou utilizar o método de rejection sampling a partir da univorme, o que não é computacionalmente eficiente"
   ]
  },
  {
   "cell_type": "code",
   "execution_count": 17,
   "metadata": {},
   "outputs": [],
   "source": [
    "def rejection_sampling(sample_sz, target_fun, envelop_fun, envelop_fun_sample_gen, max_loop_size=int(1e8)):\n",
    "    accepted = []\n",
    "    x_generator = []\n",
    "    for i in range(0,max_loop_size):\n",
    "        if (len(accepted) >= sample_sz):\n",
    "            break\n",
    "        x = envelop_fun_sample_gen()\n",
    "        q_i = target_fun(x)\n",
    "        u = np.random.uniform(0, envelop_fun(x))\n",
    "        if u < q_i:\n",
    "            x_generator.append(u)\n",
    "            accepted.append(x)\n",
    "    return np.array(accepted), x_generator"
   ]
  },
  {
   "cell_type": "code",
   "execution_count": 18,
   "metadata": {},
   "outputs": [],
   "source": [
    "c = N*k*(N**2-N)"
   ]
  },
  {
   "cell_type": "code",
   "execution_count": 19,
   "metadata": {},
   "outputs": [],
   "source": [
    "def uniform_envelop_fun(x):\n",
    "    return c/N\n",
    "\n",
    "def envelop_fun_sample_gen():\n",
    "    return np.random.randint(1,N)"
   ]
  },
  {
   "cell_type": "code",
   "execution_count": 20,
   "metadata": {},
   "outputs": [],
   "source": [
    "def importance_sampling_estimator(h_sample):\n",
    "    return np.mean([g2_por_h(x) for x in h_sample])"
   ]
  },
  {
   "cell_type": "code",
   "execution_count": 21,
   "metadata": {},
   "outputs": [],
   "source": [
    "def h_sample_gen(sample_sz):\n",
    "    global  fun_h_q5, uniform_envelop_fun, envelop_fun_sample_gen\n",
    "    return rejection_sampling(sample_sz, fun_h_q5, uniform_envelop_fun, envelop_fun_sample_gen)"
   ]
  },
  {
   "cell_type": "code",
   "execution_count": 22,
   "metadata": {},
   "outputs": [],
   "source": [
    "q5_true_val = np.sum([x*math.log(x) for x in range(1, N+1)])"
   ]
  },
  {
   "cell_type": "code",
   "execution_count": 23,
   "metadata": {},
   "outputs": [],
   "source": [
    "def run_experiments_q5(min_sample_sz, max_sample_sz):\n",
    "    global h_sample_gen, importance_sampling_estimator, mae, q5_true_val\n",
    "    \n",
    "    true_val = q5_true_val\n",
    "    range_len = max_sample_sz - min_sample_sz + 1\n",
    "    estimates = np.zeros([5, range_len])\n",
    "    errors = np.zeros([5, range_len])\n",
    "    for i,sample_sz in enumerate(tqdm(range(min_sample_sz, max_sample_sz + 1))):\n",
    "        estimates_for_n, error_samples_for_n = run_mc_estimator(h_sample_gen, sample_sz, mae, importance_sampling_estimator, true_val)\n",
    "        estimates[:,i] = estimates_for_n\n",
    "        errors[:,i] = error_samples_for_n\n",
    "    return estimates, errors"
   ]
  },
  {
   "cell_type": "code",
   "execution_count": 24,
   "metadata": {},
   "outputs": [
    {
     "name": "stderr",
     "output_type": "stream",
     "text": [
      "100%|██████████| 9996/9996 [33:39<00:00,  2.43it/s]\n"
     ]
    }
   ],
   "source": [
    "estimates_q5, error_q5 = run_experiments_q5(5,int(1e4))"
   ]
  },
  {
   "cell_type": "markdown",
   "metadata": {},
   "source": [
    "Os gráficos abaixo demonstram a convergência do estimador criado a partir da distribuiçao h(i) quadrática amostrada pelo método de rejection sampling."
   ]
  },
  {
   "cell_type": "code",
   "execution_count": 27,
   "metadata": {},
   "outputs": [
    {
     "data": {
      "image/png": "[encoded data removed]",
      "text/plain": [
       "<Figure size 720x576 with 2 Axes>"
      ]
     },
     "metadata": {
      "needs_background": "light"
     },
     "output_type": "display_data"
    }
   ],
   "source": [
    "plot_experiment1(estimates_q5, error_q5, q5_true_val)"
   ]
  },
  {
   "cell_type": "code",
   "execution_count": null,
   "metadata": {},
   "outputs": [],
   "source": []
  }
 ],
 "metadata": {
  "kernelspec": {
   "display_name": "Python 3",
   "language": "python",
   "name": "python3"
  },
  "language_info": {
   "codemirror_mode": {
    "name": "ipython",
    "version": 3
   },
   "file_extension": ".py",
   "mimetype": "text/x-python",
   "name": "python",
   "nbconvert_exporter": "python",
   "pygments_lexer": "ipython3",
   "version": "3.7.3"
  }
 },
 "nbformat": 4,
 "nbformat_minor": 4
}
