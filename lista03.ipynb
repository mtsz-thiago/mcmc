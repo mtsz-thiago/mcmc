{
 "cells": [
  {
   "cell_type": "markdown",
   "metadata": {},
   "source": [
    "Lista #3 MCMC\n",
    "===\n",
    "\n",
    "Thiago da Mota Souza - thiagosz@cos.ufrj.br"
   ]
  },
  {
   "cell_type": "markdown",
   "metadata": {},
   "source": [
    "## Imports"
   ]
  },
  {
   "cell_type": "code",
   "execution_count": 227,
   "metadata": {},
   "outputs": [],
   "source": [
    "import math\n",
    "import numpy as np\n",
    "import random\n",
    "import time\n",
    "from sklearn.model_selection import KFold\n",
    "import matplotlib.pyplot as plt"
   ]
  },
  {
   "cell_type": "markdown",
   "metadata": {},
   "source": [
    "## Questão 1"
   ]
  },
  {
   "cell_type": "markdown",
   "metadata": {},
   "source": [
    "Usando a mesma ideia da utilizada em sala de aula, podemos considerar o sorteio de pontos dentro de um quadrado de lado unitário que estão contidos em um triângulo $ABC$ de lados $\\overline{AB}=1$, $\\overline{AC}=1$ e $\\angle{BAC} = \\alpha = \\pi/4$. A área desse triângulo é:\n",
    "\n",
    "$$\n",
    "\\begin{equation}\n",
    "Area(ABC) = \\frac{\\sin{(\\alpha)}x1x1}{2} = \\frac{\\sqrt{2}}{4}\n",
    "\\end{equation}\n",
    "$$"
   ]
  },
  {
   "cell_type": "markdown",
   "metadata": {},
   "source": [
    "### Questão 1.1\n",
    "\n",
    "Estabelecendo o vértice A como a origem do sistema de coordenadas, o eixo $x$ congruente ao lado $AC$ e o eixo $y$ perpendicular ao eixo $x$ como o de costume. Assim temos: $A = (0,0)$, $B=\\sqrt{2}/2(1,1)$ e $C=(1,0)$\n",
    "\n",
    "Podemos definir as funções determinísticas, $f_{AB}$ e $f_{BC}$, que descrevem os lados $AB$ e $BC$ respectivamente nos nos intervalos $x \\in [0,1/2]$ e $x \\in [1/2,1]$\n",
    "\n",
    "$$\n",
    "\\begin{equation}\n",
    "f_{AB} = \\sqrt{2}x\n",
    "\\end{equation}\n",
    "$$\n",
    "\n",
    "$$\n",
    "\\begin{equation}\n",
    "f_{BC} = -\\sqrt{2}x + \\sqrt{2}\n",
    "\\end{equation}\n",
    "$$\n",
    "\n",
    "E portanto vamos definir a função $g$ que descreve da sequinte forma\n",
    "\n",
    "$$\n",
    "g(x) = \n",
    "     \\begin{cases}\n",
    "       \\sqrt{2}x & 0 \\geq x < 1/2 \\\\\n",
    "       -\\sqrt{2}x + \\sqrt{2}, & 1/2 < x \\leq 1 \\\\\n",
    "     \\end{cases}\n",
    "$$\n",
    "\n",
    "> OBS: eu entendo que devido as constantes da função g, o que segue tem uma falha que é eu ter que usar o valor de $\\sqrt{2}$ no computo de g. Não tenho tempo para bolar uma outra forma geométrica que escape à isso e vou seguir a questão ignorando esse fato que não altera o uso de Monte Carlo em si.\n",
    "\n",
    "Utilizando a mesma ideia da usada para achar $\\pi$ em sala de aula, podemos estimar a área em baixo dda função $g$ no intervalo $[0,1]$ Para isso devemos definir: $X,Y \\sim Uniforme(0,1)$. Por tanto:\n",
    "\n",
    "$$\n",
    "\\begin{equation}\n",
    "\\label{eq:Q-1-area-int}\n",
    "Area(ABC) = \\int_{x=0}^{1}g(x)dx = E[g(X)] = \\frac{\\sqrt(2)}{4}\n",
    "\\end{equation}\n",
    "$$\n"
   ]
  },
  {
   "cell_type": "markdown",
   "metadata": {},
   "source": [
    "### Questão 1.2\n",
    "\n",
    "da questão anterior, temos que:\n",
    "\n",
    "$$\n",
    "\\begin{equation}\n",
    "\\sigma_{g(X)}^2 = E[(g(X)- \\mu_{g(x)})^2] = E[g(X)^2] - \\mu_{g(X)}^2\n",
    "\\end{equation}\n",
    "$$\n",
    "\n",
    "A média, $\\mu_{g(X)}$ foi construida a partir da área do triângulo e portanto já sabemos que seu valor é $\\sqrt{2}{4}$, mas isso pode ser verificado por:\n",
    "\n",
    "$$\n",
    "\\begin{multline}\n",
    "\\mu_{g(X)} = E[g(X)] = \\int_{0}^{1/2}\\sqrt{2}xdx + \\int_{1/2}^{1}(-\\sqrt{2}x + \\sqrt{2})dx = \\\\\n",
    "\\frac{\\sqrt{2}}{2}x^2\\bigg\\rvert_{0}^{1/2} + \\sqrt(2)\\left(-1/2x^2 + x\\right)\\bigg\\rvert_{1/2}^{1} = \\frac{\\sqrt{2}}{8} \\frac{\\sqrt{2}}{8} = \\frac{\\sqrt{2}}{4}\n",
    "\\end{multline}\n",
    "$$\n",
    "\n",
    "Para o cálculo de $\\sigma_{g(X)}^2$, temos:\n",
    "\n",
    "$$\n",
    "\\begin{multline}\n",
    "E[g(X)^2] = \\int_{0}^{1/2}2x^2dx + \\int_{1/2}^{1}(x^2 -4x + 2)dx = \\\\\n",
    "\\frac{2}{3}x^3\\bigg\\rvert_{0}^{1/2} + (1/3x^3 -2x^2 + 2x)\\bigg\\rvert_{1/2}^{1} = \\frac{2}{24} + \\frac{19}{24} = \\frac{7}{8}\n",
    "\\end{multline}\n",
    "$$\n",
    "\n",
    "logo:\n",
    "$$\n",
    "\\begin{equation}\n",
    "\\sigma_{g(X)}^2 = E[(g(X)- \\mu_{g(x)})^2] = E[g(X)^2] - \\mu_{g(X)}^2 = \\frac{7}{8} - \\frac{1}{8} = \\frac{3}{4}\n",
    "\\end{equation}\n",
    "$$\n"
   ]
  },
  {
   "cell_type": "markdown",
   "metadata": {},
   "source": [
    "### Questão 1.3\n",
    "\n",
    "da documentação da biblioteca [numpy](https://numpy.org/doc/stable/reference/random/bit_generators/mt19937.html) do python, temos que a função ```numpy.random.MT19937``` usa o algoritmo de Mersenne Twister."
   ]
  },
  {
   "cell_type": "code",
   "execution_count": 205,
   "metadata": {},
   "outputs": [],
   "source": [
    "def generate_sample(g_fun, sample_sz, a=0,b=1):\n",
    "    \"\"\"Gerador gnérico de amostras da função g aplicada sobre uma distribuição unbiforme X no intervalo [a,b]\"\"\"\n",
    "    vectorized_g_fun = np.vectorize(g_fun)\n",
    "    \n",
    "    x_list = np.random.uniform(a,b,sample_sz)\n",
    "    \n",
    "    return vectorized_g_fun(x_list), x_list"
   ]
  },
  {
   "cell_type": "code",
   "execution_count": 216,
   "metadata": {},
   "outputs": [],
   "source": [
    "def g_fun(x):\n",
    "    if x < 0.5:\n",
    "        return math.sqrt(2)*x\n",
    "    return math.sqrt(2)*(-x+1)"
   ]
  },
  {
   "cell_type": "markdown",
   "metadata": {},
   "source": [
    "### Questão 1.4\n",
    "\n",
    "fazendo a correção para a definção de erro do meu estimador, uma vez que a V.A. que eu estou gerando não tem expectativa $\\sqrt(2)$, mas sim $\\sqrt(2)/4$ \n",
    "\n",
    "$$\n",
    "\\begin{equation}\n",
    "\\hat{e}_{n} = \\frac{|M_n - \\sqrt{2}/4|}{\\sqrt{2}/4}\n",
    "\\end{equation}\n",
    "$$\n",
    "\n",
    "Essa é a função de erro MAE (Mean absolute error)\n",
    "\n",
    "> Como sabemos que a média amostral tem uma variância, vou utilizar K-folds para visualizar a variância do estimador"
   ]
  },
  {
   "cell_type": "code",
   "execution_count": 217,
   "metadata": {},
   "outputs": [],
   "source": [
    "def mae(y_true, y_pred):\n",
    "    return abs(y_true - y_pred)/y_true\n",
    "mae = np.vectorize(mae)"
   ]
  },
  {
   "cell_type": "code",
   "execution_count": 218,
   "metadata": {},
   "outputs": [],
   "source": [
    "def sanple_mean_estimator(values):\n",
    "    return np.mean(values)"
   ]
  },
  {
   "cell_type": "code",
   "execution_count": 219,
   "metadata": {},
   "outputs": [],
   "source": [
    "def run_mc_estimator(sample_gen, sample_size, mae, estimator, true_val, num_folds=5):\n",
    "    \n",
    "    samples,_ = sample_gen(num_folds*sample_size)\n",
    "    \n",
    "    kf = KFold(n_splits=num_folds, shuffle=False)\n",
    "    estimate_sample = []\n",
    "    error_sample = []\n",
    "    for fold,_ in kf.split(samples):\n",
    "        data = samples[fold]\n",
    "        estimate = estimator(data)\n",
    "        error = mae(true_val, estimate)\n",
    "    \n",
    "        estimate_sample.append(estimate)\n",
    "        error_sample.append(error)\n",
    "        \n",
    "    return estimate_sample, error_sample"
   ]
  },
  {
   "cell_type": "code",
   "execution_count": 220,
   "metadata": {},
   "outputs": [],
   "source": [
    "def g_sample_generator(sample_sz):\n",
    "    global g_fun\n",
    "    return generate_sample(g_fun, sample_sz, 0,1)\n",
    "\n",
    "def run_experiments(min_sample_sz, max_sample_sz):\n",
    "    global g_sample_generator, run_mc_estimator, mae, sanple_mean_estimator\n",
    "    \n",
    "    true_val = math.sqrt(2)/4\n",
    "    range_len = max_sample_sz - min_sample_sz + 1\n",
    "    estimates = np.zeros([5, range_len])\n",
    "    errors = np.zeros([5, range_len])\n",
    "    \n",
    "    for i,sample_sz in enumerate(range(min_sample_sz, max_sample_sz + 1)):\n",
    "        estimates_for_n, error_samples_for_n = run_mc_estimator(g_sample_generator, sample_sz, mae, sanple_mean_estimator, true_val)\n",
    "        estimates[:,i] = estimates_for_n\n",
    "        errors[:,i] = error_samples_for_n\n",
    "    return estimates, errors"
   ]
  },
  {
   "cell_type": "code",
   "execution_count": null,
   "metadata": {},
   "outputs": [],
   "source": [
    "max_sample_size = int(1e6)\n",
    "estimates, errors = run_experiments(1,max_sample_size)"
   ]
  },
  {
   "cell_type": "code",
   "execution_count": null,
   "metadata": {},
   "outputs": [],
   "source": [
    "def plot_experiment1(estimates, error):\n",
    "\n",
    "    true_val = true_val = math.sqrt(2)/4\n",
    "    \n",
    "    fig = plt.figure(figsize=(10, 8))\n",
    "    plt.subplot(2,1,1)\n",
    "    plt.plot(estimates.T, 'x', color='blue');\n",
    "    plt.axhline(y=true_val, color='r', linestyle='-')\n",
    "    plt.grid(True)\n",
    "    plt.xlabel('tamanho da amostra')\n",
    "    plt.ylabel('estimativa')\n",
    "    \n",
    "    plt.subplot(2,1,2)\n",
    "    plt.plot(error.T, 'x', color='blue');\n",
    "    plt.axhline(y=0, color='r', linestyle='-')\n",
    "    plt.grid(True)\n",
    "    plt.xlabel('tamanho da amostra')\n",
    "    plt.ylabel('mae')\n",
    "    \n",
    "    fig.subplots_adjust(top=0.85)\n",
    "    plt.show()"
   ]
  },
  {
   "cell_type": "code",
   "execution_count": null,
   "metadata": {},
   "outputs": [],
   "source": [
    "plot_experiment1(estimates, errors)"
   ]
  },
  {
   "cell_type": "code",
   "execution_count": null,
   "metadata": {},
   "outputs": [],
   "source": []
  }
 ],
 "metadata": {
  "kernelspec": {
   "display_name": "Python 3",
   "language": "python",
   "name": "python3"
  },
  "language_info": {
   "codemirror_mode": {
    "name": "ipython",
    "version": 3
   },
   "file_extension": ".py",
   "mimetype": "text/x-python",
   "name": "python",
   "nbconvert_exporter": "python",
   "pygments_lexer": "ipython3",
   "version": "3.7.3"
  }
 },
 "nbformat": 4,
 "nbformat_minor": 4
}
