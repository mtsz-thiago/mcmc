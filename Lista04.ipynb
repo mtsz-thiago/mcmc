{
 "cells": [
  {
   "cell_type": "markdown",
   "metadata": {},
   "source": [
    "lista 04 MCMC\n",
    "===\n",
    "**Thiago da Mota Souza - thiagosz@cos.ufrj.br**"
   ]
  },
  {
   "cell_type": "code",
   "execution_count": 16,
   "metadata": {},
   "outputs": [],
   "source": [
    "import numpy as np\n",
    "import matplotlib.pyplot as plt"
   ]
  },
  {
   "cell_type": "markdown",
   "metadata": {},
   "source": [
    "## Questão 1\n",
    "\n",
    "### Questão 1.1\n",
    "\n",
    "Pelo enunciado, o caixa tem dois possíveis estados: com cliente, 1, e sem cliente, 0. Portanto podemos modelar o problema usando a cadeia de Markov On-Off com probabilidade p de trânsição de Off para On e q de On para Off.\n",
    "\n",
    "$$\n",
    "p(t) = p(t-1)T = p(t-1) \\begin{bmatrix}\n",
    "(1-p) & p \\\\\n",
    "q & (1-q)\n",
    "\\end{bmatrix}\n",
    "$$"
   ]
  },
  {
   "cell_type": "markdown",
   "metadata": {},
   "source": [
    "### Questão 1.2\n",
    "\n",
    "O Estado estacionário da cadeia é dado por pelo auto-valor 1:\n",
    "\n",
    "$$\n",
    "\\pi(T - I) = \\begin{bmatrix} \\pi_0 & \\pi_1 \\end{bmatrix} \\begin{bmatrix}\n",
    "(1-p) - 1 & p \\\\\n",
    "q & (1-q) - 1\n",
    "\\end{bmatrix} = \\begin{bmatrix}\n",
    "0 & 0\n",
    "\\end{bmatrix} = \\begin{bmatrix}\n",
    "-p\\pi_0 + q\\pi_1 & p\\pi_0 - q\\pi_1\n",
    "\\end{bmatrix} \n",
    "$$\n",
    "\n",
    "logo temos as que:\n",
    "\n",
    "$$\n",
    "\\begin{split}\n",
    "-p\\pi_0 + q\\pi_1 = 0 \\\\\n",
    "\\pi_0 + \\pi_1 = 1\n",
    "\\end{split} \\implies \\pi = \\begin{bmatrix} \\frac{q}{p+q} & \\frac{p}{p+q} \\end{bmatrix}\n",
    "$$\n",
    "\n",
    "A restrição importa a questão $p < q$ restringe os valores dos possíveis estados estacionários"
   ]
  },
  {
   "cell_type": "markdown",
   "metadata": {},
   "source": [
    "### Questão 1.3\n",
    "\n",
    "O tempo em que o caixa fica ocioso é dado pelo tempo em que passa no estado 0. Sabemos que, uma vez que o sistema tenha atingido o estado estacionário, o tempo médio, medido em transições, que a rede leva para que seu estado saia de um estado $s_0$ e retorne a ele é dado por:\n",
    "\n",
    "$$\n",
    "\\tau_{s_0} = \\frac{1}{\\pi_{s_0}}\n",
    "$$\n",
    "\n",
    "logo, no caso da rede on-off:\n",
    "\n",
    "$$\n",
    "\\tau_{0} = \\frac{p+q}{q}, \\tau_{1} = \\frac{p+q}{p}\n",
    "$$\n",
    "\n",
    "Logo o tempo médio que a cadeia passa no estado 0, sem cliente, é dado por $\\tau_1$ que o tempo médio que a cadeia demora a voltar ao estado 1, com cliente, em trânsições discretas. Isso significa que\n",
    "\n",
    "$$\n",
    "\\textit{frac. de tempo do caixa ocioso} = \\frac{\\tau_1}{\\tau_1 + \\tau_0} = \\frac{q}{p+q}\n",
    "$$"
   ]
  },
  {
   "cell_type": "markdown",
   "metadata": {},
   "source": [
    "## Questão 2\n",
    "\n",
    "### Questão 2.1\n",
    "\n",
    "O andarilho criado transita entre os vértices i e j com probabilidade:\n",
    "\n",
    "$$\n",
    "p_{i,j} = \\frac{w_{i,j}}{\\sum_{k \\in V}w_{i,k}}\n",
    "$$\n",
    "\n",
    "Onde atribui-se $w_{i,j} = 0$ se j não há uma aresta incidente em i originada em j. Logo:\n",
    "\n",
    "$$\n",
    "\\sum_{j \\in V}p_{i,j} = \\sum_{j \\in V}\\frac{w_{i,j}}{\\sum_{k \\in V}w_{i,k}} = 1, \\forall i \\in V\n",
    "$$\n",
    "\n",
    "Já que foi restrito pelo enunciado que os pesos são positivos, a equação anterior significa que as probabilidades de transição de um vértice para outro respeitam as restrições impostas as probabilidades."
   ]
  },
  {
   "cell_type": "markdown",
   "metadata": {},
   "source": [
    "### Questão 2.2\n",
    "\n",
    "Induzido pelo andarilho não-enviesado, acredito que no estado estacionário a probabilidade do andarilho estar no vértice j é proporcional a soma dos pesos das arestas incidentes a j de forma que:\n",
    "\n",
    "\n",
    "$$\n",
    "\\pi_{chute}(k) = \\frac{\\sum_{j}w_{j,k}}{\\sum_{m}\\sum_{n}w_{m,n}}\n",
    "$$\n",
    "\n",
    "Para simplificar as equações: $S_W = \\sum_{j}\\sum_{k}w_{j,k}$ e $S_j = \\sum_{k}w_{j,k}$.\n",
    "\n",
    "Segue uma verificação do chute:\n",
    "\n",
    "$$\n",
    "\\pi_{chute}\\boldsymbol{P} = \\pi_{chute}\\begin{bmatrix} \\boldsymbol{p_1} \\\\ \\boldsymbol{p_2} \\\\ \\vdots \\\\ \\boldsymbol{p_n} \\end{bmatrix} = \\sum_{i}\\pi_{chute}(i)\\boldsymbol{p_i}\n",
    "$$\n",
    "\n",
    "Onde $p_i$ é a i-ésima linha de P. O que podemos desenvolver em:\n",
    "\n",
    "\n",
    "$$\n",
    "\\pi_{chute}P(k) = \\sum_{i}\\pi_{chute}(i)p_{i,k} = \\sum_{i}\\frac{\\sum_{j}w_{j,i}}{\\sum_{m}\\sum_{n}w_{m,n}}p_{i,k} = \\frac{1}{\\sum_{m}\\sum_{n}w_{m,n}}\\sum_i\\sum_jw_{j,i}p_{i,k} = \\frac{1}{\\sum_{m}\\sum_{n}w_{m,n}}\\sum_ip_{i,k}\\sum_jw_{j,i}\n",
    "$$\n",
    "\n",
    "usando a definção de $p_{i,k}$ na equação anterior e sendo a rede não-direcionada, $w_{i,j} = w_{j,i} \\implies \\sum_iw_{i,j} = \\sum_iw_{j,i}$:\n",
    "\n",
    "$$\n",
    "\\pi_{chute}P(k) = \\frac{1}{\\sum_{m}\\sum_{n}w_{m,n}}\\sum_i\\frac{w_{i,k}}{\\sum_lw_{i,l}}\\sum_jw_{j,i} = \\frac{1}{\\sum_{m}\\sum_{n}w_{m,n}}\\sum_iw_{i,k} \\pi_{chute}(k)\n",
    "$$\n",
    "\n",
    "Logo o chute está correto e podemos afirmar que:\n",
    "\n",
    "$$\n",
    "\\pi(k) = \\frac{\\sum_{j}w_{j,k}}{\\sum_{m}\\sum_{n}w_{m,n}}\n",
    "$$\n"
   ]
  },
  {
   "cell_type": "markdown",
   "metadata": {},
   "source": [
    "## Questão 2.3\n",
    "\n",
    "Usando a simetria da rede $w_{i,j} = w_{j,i} \\implies \\sum_iw_{i,j} = \\sum_iw_{j,i}$\n",
    "\n",
    "$$\n",
    "\\pi_ip_{i,j} = \\frac{\\sum_{j}w_{j,i}}{\\sum_{m}\\sum_{n}w_{m,n}}p_{i,j} = \\frac{\\sum_{j}w_{j,i}}{\\sum_{m}\\sum_{n}w_{m,n}}\\frac{w_{i,j}}{\\sum_{k \\in V}w_{i,k}} = \\frac{\\sum_{i}w_{i,j}}{\\sum_{m}\\sum_{n}w_{m,n}}\\frac{w_{j,i}}{\\sum_{k \\in V}w_{i,k}} = \\pi_jp_{j,i}\n",
    "$$"
   ]
  },
  {
   "cell_type": "code",
   "execution_count": null,
   "metadata": {},
   "outputs": [],
   "source": []
  }
 ],
 "metadata": {
  "kernelspec": {
   "display_name": "Python 3",
   "language": "python",
   "name": "python3"
  },
  "language_info": {
   "codemirror_mode": {
    "name": "ipython",
    "version": 3
   },
   "file_extension": ".py",
   "mimetype": "text/x-python",
   "name": "python",
   "nbconvert_exporter": "python",
   "pygments_lexer": "ipython3",
   "version": "3.7.3"
  }
 },
 "nbformat": 4,
 "nbformat_minor": 4
}
