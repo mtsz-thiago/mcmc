{
 "cells": [
  {
   "cell_type": "markdown",
   "metadata": {},
   "source": [
    "lista 04 MCMC\n",
    "===\n",
    "**Thiago da Mota Souza - thiagosz@cos.ufrj.br**"
   ]
  },
  {
   "cell_type": "code",
   "execution_count": 2,
   "metadata": {},
   "outputs": [],
   "source": [
    "import numpy as np\n",
    "import matplotlib.pyplot as plt\n",
    "from sklearn.metrics import mean_absolute_error\n",
    "from scipy.sparse import coo_matrix\n",
    "import math\n",
    "from numpy import linalg as la\n",
    "from tqdm import tqdm_notebook as tqdm\n",
    "import matplotlib.pyplot as plt"
   ]
  },
  {
   "cell_type": "markdown",
   "metadata": {},
   "source": [
    "## Questão 1\n",
    "\n",
    "### Questão 1.1\n",
    "\n",
    "Pelo enunciado, o caixa tem dois possíveis estados: com cliente, 1, e sem cliente, 0. Portanto podemos modelar o problema usando a cadeia de Markov On-Off com probabilidade p de trânsição de Off para On e q de On para Off.\n",
    "\n",
    "$$\n",
    "p(t) = p(t-1)T = p(t-1) \\begin{bmatrix}\n",
    "(1-p) & p \\\\\n",
    "q & (1-q)\n",
    "\\end{bmatrix}\n",
    "$$"
   ]
  },
  {
   "cell_type": "markdown",
   "metadata": {},
   "source": [
    "### Questão 1.2\n",
    "\n",
    "O Estado estacionário da cadeia é dado por pelo auto-valor 1:\n",
    "\n",
    "$$\n",
    "\\pi(T - I) = \\begin{bmatrix} \\pi_0 & \\pi_1 \\end{bmatrix} \\begin{bmatrix}\n",
    "(1-p) - 1 & p \\\\\n",
    "q & (1-q) - 1\n",
    "\\end{bmatrix} = \\begin{bmatrix}\n",
    "0 & 0\n",
    "\\end{bmatrix} = \\begin{bmatrix}\n",
    "-p\\pi_0 + q\\pi_1 & p\\pi_0 - q\\pi_1\n",
    "\\end{bmatrix} \n",
    "$$\n",
    "\n",
    "logo temos as que:\n",
    "\n",
    "$$\n",
    "\\begin{split}\n",
    "-p\\pi_0 + q\\pi_1 = 0 \\\\\n",
    "\\pi_0 + \\pi_1 = 1\n",
    "\\end{split} \\implies \\pi = \\begin{bmatrix} \\frac{q}{p+q} & \\frac{p}{p+q} \\end{bmatrix}\n",
    "$$\n",
    "\n",
    "A restrição importa a questão $p < q$ restringe os valores dos possíveis estados estacionários"
   ]
  },
  {
   "cell_type": "markdown",
   "metadata": {},
   "source": [
    "### Questão 1.3\n",
    "\n",
    "O tempo em que o caixa fica ocioso é dado pelo tempo em que passa no estado 0. Sabemos que, uma vez que o sistema tenha atingido o estado estacionário, o tempo médio, medido em transições, que a rede leva para que seu estado saia de um estado $s_0$ e retorne a ele é dado por:\n",
    "\n",
    "$$\n",
    "\\tau_{s_0} = \\frac{1}{\\pi_{s_0}}\n",
    "$$\n",
    "\n",
    "logo, no caso da rede on-off:\n",
    "\n",
    "$$\n",
    "\\tau_{0} = \\frac{p+q}{q}, \\tau_{1} = \\frac{p+q}{p}\n",
    "$$\n",
    "\n",
    "Logo o tempo médio que a cadeia passa no estado 0, sem cliente, é dado por $\\tau_1$ que o tempo médio que a cadeia demora a voltar ao estado 1, com cliente, em trânsições discretas. Isso significa que\n",
    "\n",
    "$$\n",
    "\\textit{frac. de tempo do caixa ocioso} = \\frac{\\tau_1}{\\tau_1 + \\tau_0} = \\frac{q}{p+q}\n",
    "$$"
   ]
  },
  {
   "cell_type": "markdown",
   "metadata": {},
   "source": [
    "## Questão 2\n",
    "\n",
    "### Questão 2.1\n",
    "\n",
    "O andarilho criado transita entre os vértices i e j com probabilidade:\n",
    "\n",
    "$$\n",
    "p_{i,j} = \\frac{w_{i,j}}{\\sum_{k \\in V}w_{i,k}}\n",
    "$$\n",
    "\n",
    "Onde atribui-se $w_{i,j} = 0$ se j não há uma aresta incidente em i originada em j. Logo:\n",
    "\n",
    "$$\n",
    "\\sum_{j \\in V}p_{i,j} = \\sum_{j \\in V}\\frac{w_{i,j}}{\\sum_{k \\in V}w_{i,k}} = 1, \\forall i \\in V\n",
    "$$\n",
    "\n",
    "Já que foi restrito pelo enunciado que os pesos são positivos, a equação anterior significa que as probabilidades de transição de um vértice para outro respeitam as restrições impostas as probabilidades."
   ]
  },
  {
   "cell_type": "markdown",
   "metadata": {},
   "source": [
    "### Questão 2.2\n",
    "\n",
    "Induzido pelo andarilho não-enviesado, acredito que no estado estacionário a probabilidade do andarilho estar no vértice j é proporcional a soma dos pesos das arestas incidentes a j de forma que:\n",
    "\n",
    "\n",
    "$$\n",
    "\\pi_{chute}(k) = \\frac{\\sum_{j}w_{j,k}}{\\sum_{m}\\sum_{n}w_{m,n}}\n",
    "$$\n",
    "\n",
    "Para simplificar as equações: $S_W = \\sum_{j}\\sum_{k}w_{j,k}$ e $S_j = \\sum_{k}w_{j,k}$.\n",
    "\n",
    "Segue uma verificação do chute:\n",
    "\n",
    "$$\n",
    "\\pi_{chute}\\boldsymbol{P} = \\pi_{chute}\\begin{bmatrix} \\boldsymbol{p_1} \\\\ \\boldsymbol{p_2} \\\\ \\vdots \\\\ \\boldsymbol{p_n} \\end{bmatrix} = \\sum_{i}\\pi_{chute}(i)\\boldsymbol{p_i}\n",
    "$$\n",
    "\n",
    "Onde $p_i$ é a i-ésima linha de P. O que podemos desenvolver em:\n",
    "\n",
    "\n",
    "$$\n",
    "\\pi_{chute}P(k) = \\sum_{i}\\pi_{chute}(i)p_{i,k} = \\sum_{i}\\frac{\\sum_{j}w_{j,i}}{\\sum_{m}\\sum_{n}w_{m,n}}p_{i,k} = \\frac{1}{\\sum_{m}\\sum_{n}w_{m,n}}\\sum_i\\sum_jw_{j,i}p_{i,k} = \\frac{1}{\\sum_{m}\\sum_{n}w_{m,n}}\\sum_ip_{i,k}\\sum_jw_{j,i}\n",
    "$$\n",
    "\n",
    "usando a definção de $p_{i,k}$ na equação anterior e sendo a rede não-direcionada, $w_{i,j} = w_{j,i} \\implies \\sum_iw_{i,j} = \\sum_iw_{j,i}$:\n",
    "\n",
    "$$\n",
    "\\pi_{chute}P(k) = \\frac{1}{\\sum_{m}\\sum_{n}w_{m,n}}\\sum_i\\frac{w_{i,k}}{\\sum_lw_{i,l}}\\sum_jw_{j,i} = \\frac{1}{\\sum_{m}\\sum_{n}w_{m,n}}\\sum_iw_{i,k} = \\pi_{chute}(k)\n",
    "$$\n",
    "\n",
    "Logo o chute está correto e podemos afirmar que:\n",
    "\n",
    "$$\n",
    "\\pi(k) = \\frac{\\sum_{j}w_{j,k}}{\\sum_{m}\\sum_{n}w_{m,n}}\n",
    "$$\n"
   ]
  },
  {
   "cell_type": "markdown",
   "metadata": {},
   "source": [
    "## Questão 2.3\n",
    "\n",
    "Usando a simetria da rede $w_{i,j} = w_{j,i} \\implies \\sum_iw_{i,j} = \\sum_iw_{j,i}$\n",
    "\n",
    "$$\n",
    "\\pi_ip_{i,j} = \\frac{\\sum_{j}w_{j,i}}{\\sum_{m}\\sum_{n}w_{m,n}}p_{i,j} = \\frac{\\sum_{j}w_{j,i}}{\\sum_{m}\\sum_{n}w_{m,n}}\\frac{w_{i,j}}{\\sum_{k \\in V}w_{i,k}} = \\frac{\\sum_{j}w_{i,j}}{\\sum_{m}\\sum_{n}w_{m,n}}\\frac{w_{j,i}}{\\sum_{k \\in V}w_{i,k}} = \\frac{w_{j,i}}{\\sum_{m}\\sum_{n}w_{m,n}} = \\frac{\\sum_{i}w_{i, j}}{\\sum_{m}\\sum_{n}w_{m,n}}\\frac{w_{j,i}}{\\sum_{i}w_{j,i}} - \\pi_j P_{j,i}\n",
    "$$"
   ]
  },
  {
   "cell_type": "markdown",
   "metadata": {},
   "source": [
    "## Questão 3\n",
    "\n",
    "### Questão 3.1\n",
    "\n",
    "#### Grafo em Anel\n",
    "\n",
    "$$\n",
    "p_{i,j} = \\begin{cases} 1/2, i=j \\\\ 1/4, j \\in \\{(j+1 \\mod n), (j-1 \\mod n)\\} \\\\ 0, \\text{outros casos} \\end{cases}\n",
    "$$\n",
    "\n",
    "#### Grafo em Árvore Compĺeta\n",
    "\n",
    "Considerando que os vértices serão rotulados usando um algoritmo de visitação esquerda-direita-raiz:"
   ]
  },
  {
   "cell_type": "code",
   "execution_count": 3,
   "metadata": {},
   "outputs": [],
   "source": [
    "class Tree:\n",
    "    left = None\n",
    "    right = None\n",
    "    def __init__(self, data=None, height=0):\n",
    "        self.data = data\n",
    "        if height > 0:\n",
    "            self.left = Tree(data, height-1)\n",
    "            self.right = Tree(data, height-1)"
   ]
  },
  {
   "cell_type": "code",
   "execution_count": 4,
   "metadata": {},
   "outputs": [],
   "source": [
    "def tree_collect_fun(left_result, right_result, node_result):\n",
    "    out = Tree()\n",
    "    out.data = node_result\n",
    "    out.left = left_result\n",
    "    out.right = right_result\n",
    "    return out\n",
    "\n",
    "def to_list_collect_fun(left_result, right_result, node_result):\n",
    "    if not left_result:\n",
    "        left_result = []\n",
    "    if right_result:\n",
    "        left_result.extend(right_result)\n",
    "    if node_result:\n",
    "        left_result.extend(node_result)\n",
    "    return left_result"
   ]
  },
  {
   "cell_type": "code",
   "execution_count": 5,
   "metadata": {},
   "outputs": [],
   "source": [
    "def internal_fun(**args):\n",
    "    print(args)\n",
    "    args[\"nova_par\"] = True\n",
    "    \n",
    "def my_fun(**args):\n",
    "    internal_fun(par=1.**args)\n",
    "    print(args)"
   ]
  },
  {
   "cell_type": "code",
   "execution_count": 6,
   "metadata": {},
   "outputs": [],
   "source": [
    "def visit_tree(tree, fun, collect_fun, **args):\n",
    "    \n",
    "    grandfather = args[\"father\"]\n",
    "    \n",
    "    left = tree.left\n",
    "    left_result = None\n",
    "    if not left:\n",
    "        node_result = fun.__call__(tree, **args)\n",
    "        return collect_fun.__call__(None, None, node_result)\n",
    "    args[\"father\"] = tree\n",
    "    left_result = visit_tree(left, fun, collect_fun, **args)\n",
    "    \n",
    "    right = tree.right\n",
    "    right_result = None\n",
    "    if right:\n",
    "        right_result = visit_tree(right, fun, collect_fun, **args)\n",
    "    \n",
    "    args[\"father\"] = grandfather\n",
    "    node_data = tree.data\n",
    "    node_result = fun.__call__(tree,**args)\n",
    "\n",
    "    return collect_fun.__call__(left_result, right_result, node_result)"
   ]
  },
  {
   "cell_type": "code",
   "execution_count": 7,
   "metadata": {},
   "outputs": [],
   "source": [
    "def dir_call(tree, fun, **args):\n",
    "    node_data = tree.data\n",
    "    return fun(node_data, **args)"
   ]
  },
  {
   "cell_type": "code",
   "execution_count": 8,
   "metadata": {},
   "outputs": [],
   "source": [
    "def assign_index(node, **kwargs):\n",
    "    kwargs[\"last_index\"][0] = kwargs[\"last_index\"][0] + 1\n",
    "    return kwargs[\"last_index\"][0]"
   ]
  },
  {
   "cell_type": "code",
   "execution_count": 9,
   "metadata": {},
   "outputs": [],
   "source": [
    "# tree = Tree(height=2)"
   ]
  },
  {
   "cell_type": "code",
   "execution_count": 10,
   "metadata": {},
   "outputs": [],
   "source": [
    "# li=[-1]\n",
    "# index_tree = visit_tree(tree, assign_index, tree_collect_fun, father=None, last_index=li)"
   ]
  },
  {
   "cell_type": "markdown",
   "metadata": {},
   "source": [
    "Usando o mesmo algoritmo de visitação podemos escrever uma função que lista os ramos do grafo"
   ]
  },
  {
   "cell_type": "code",
   "execution_count": 11,
   "metadata": {},
   "outputs": [],
   "source": [
    "def get_graph_branches(node, **kwargs):\n",
    "    \"\"\"Função que lista as transições de um grafo\"\"\"\n",
    "    out = []\n",
    "    if node.left:\n",
    "        left_branch = (node.left.data, node.data)\n",
    "        out.append(left_branch)\n",
    "    if node.right:\n",
    "        right_branch = (node.right.data, node.data)\n",
    "        out.append(right_branch)\n",
    "    return out"
   ]
  },
  {
   "cell_type": "code",
   "execution_count": 12,
   "metadata": {},
   "outputs": [],
   "source": [
    "# branches_list = visit_tree(index_tree, get_graph_branches, to_list_collect_fun, father=None)"
   ]
  },
  {
   "cell_type": "markdown",
   "metadata": {},
   "source": [
    "Para essa forma de indexar, esquerda-direita-raiz, com o primieiro ínidice em 0, se um nó de ínidice i está na altura h da árvore:\n",
    "\n",
    "* seu filho direito tem ínidice $i_{direito} = i-1$\n",
    "* seu filho esquerdo tem índice $i_{esquerdo} = i-2^h$, se\n",
    "* o nó mais alto da árvore tem índice $i_{max} = 2^{h_{max}} - 2$\n",
    "* o nó pai de um nó é tem índice $i_{pai} = \\begin{cases} \n",
    "i + 1 & \\text{se i filho direito} \\\\\n",
    "i + 2^{h+1} & \\text{se i filho esquerdo}\n",
    "\\end{cases}$, i é filho esquerdo caso $i < \\frac{2^{h+2}-1}{2}$ e direito em caso contrário.\n",
    "* $0 < i < i_{max} \\forall i$\n",
    "\n",
    "\n",
    "com isso podemos escrever a a matriz de transições analiticamente usando como vizinhança, V do nó seus filhos e seu pai, se existirem:\n",
    "\n",
    "$$\n",
    "p_{i,j} = \\begin{cases}\n",
    "1/2 & i = j \\\\\n",
    "\\frac{1}{2|V|} & j \\in V \\\\\n",
    "0 & \\text{outro caso}\n",
    "\\end{cases}\n",
    "$$"
   ]
  },
  {
   "cell_type": "markdown",
   "metadata": {},
   "source": [
    "#### Grafo em Reticulado\n",
    "\n",
    "No reticulado:\n",
    "\n",
    "$$\n",
    "i_{no} = j + i\\sqrt(n)\n",
    "$$\n",
    "\n",
    "se o ponto está n j-ésima coluna e i-ésima linha do grafo, $0 \\leq i,j \\leq \\sqrt(n)-1$. cada nó tem vizinhaça dada pelos pontos:\n",
    "\n",
    "* anterior na linha: $ j-1 + i\\sqrt{n}, \\text{ se } 1 < j < (\\sqrt{n} - 2)$\n",
    "* posterior na linha: $ j+1 + i\\sqrt{n}, \\text{ se } 1 < j < (\\sqrt{n} - 2)$\n",
    "* anteiror na coluna: $ j + (i-1)\\sqrt{n}, \\text{ se } 1 < i < (\\sqrt{n} - 2)$\n",
    "* posterior na coluna: $ j + (i+1)\\sqrt{n}, \\text{ se } 1 < i < (\\sqrt{n} - 2)$\n",
    "\n",
    "\n",
    "Assim podemos construir uma matriz de transição do nó i para o j:\n",
    "\n",
    "$$\n",
    "p_{i,j} = \\begin{cases}\n",
    "1/2 & i = j \\\\\n",
    "\\frac{1}{8} & j \\in V\n",
    "0 & \\text{outro caso}\n",
    "\\end{cases}\n",
    "$$"
   ]
  },
  {
   "cell_type": "markdown",
   "metadata": {},
   "source": [
    "### Questão 3.2\n",
    "\n",
    "Pode-se utilizar o resultado obtido na questão 2 par calcular o valor analítico do estado estacionário dos passeios no acima.\n",
    "\n",
    "#### Grafo em Anel\n",
    "\n",
    "È simético então o estado estacionário tem probabilidade uniforme para todos os estados.\n",
    "\n",
    "#### Grafo em Árvore completa:\n",
    "\n",
    "$$\n",
    "\\pi_i = \\begin{cases}\n",
    "\\alpha 4 & \\text{i sem pai} \\\\\n",
    "\\alpha 6 & \\text{i tem pai e filhos} \\\\\n",
    "\\alpha 2 & \\text{i sem filhos}\n",
    "\\end{cases}\n",
    "$$\n",
    "\n",
    "$\\alpha$ e um fator de normalização tal que $\\sum_i\\pi_i = 1$, sabendo que existem:\n",
    "\n",
    "* 1 nó sem pai no grafo\n",
    "* $2^{h_{max}}$ nós sem flho no grafo\n",
    "* os demais tem pai e filhos\n",
    "* $h_{max} = log_2(n+1) - 1 $\n",
    "\n",
    "\n",
    "logo\n",
    "\n",
    "$$\n",
    "\\sum_i\\pi_i 1 = \\alpha\\left(4 + 2\\frac{(n+1)}{2} + 6(n - \\frac{(n+1)}{2} - 1)\\right), n > 3 \\implies \\alpha = \\frac{1}{4(n-1)}, n > 3\n",
    "$$\n",
    "\n",
    "os casos n=3  e n=1 são simples e tem estado estacionário, respectivamente $\\pi = \\begin{bmatrix} 1/4 & 1/4 & 1/2\\end{bmatrix}$ e $\\pi = \\begin{bmatrix} 1 \\end{bmatrix}$ \n",
    "\n",
    "#### Grafo em reticulado\n",
    "\n",
    "no caso do reticulado:\n",
    "\n",
    "\n",
    "$$\n",
    "\\pi_i = \\begin{cases}\n",
    "\\alpha 4 & \\text{i na borda do reticulado} \\\\\n",
    "\\alpha 8 & \\text{outro caso} \\\\\n",
    "\\end{cases}\n",
    "$$\n",
    "\n",
    "Novamente $\\alpha$ normaliza $\\pi$\n",
    "\n",
    "$$\n",
    "\\sum_i\\pi_i 1 = \\alpha\\left(4(4\\sqrt{n}) + 8(n - 4\\sqrt{n}) \\right), n > 4 \\implies \\alpha = \\frac{1}{8\\left(n-2\\sqrt{n}\\right)}\n",
    "$$\n",
    "\n",
    "Os casos n=4 e n=1 são triviais pois todos os pontos estão na borda e portanto a rede é simétrica e a distribuição no estado estacionário da rede é uniforme"
   ]
  },
  {
   "cell_type": "markdown",
   "metadata": {},
   "source": [
    "### Questão 3.3"
   ]
  },
  {
   "cell_type": "code",
   "execution_count": 13,
   "metadata": {},
   "outputs": [],
   "source": [
    "def mae(x, x_true):\n",
    "    return mean_absolute_error(x, x_true)"
   ]
  },
  {
   "cell_type": "code",
   "execution_count": 14,
   "metadata": {},
   "outputs": [],
   "source": [
    "def pi_sample_mean(states_paths):\n",
    "    return np.mean(states_paths, axis=0)"
   ]
  },
  {
   "cell_type": "code",
   "execution_count": 15,
   "metadata": {},
   "outputs": [],
   "source": [
    "N = 100"
   ]
  },
  {
   "cell_type": "code",
   "execution_count": 16,
   "metadata": {},
   "outputs": [],
   "source": [
    "def get_ring_transition_matrix(num_vertices):\n",
    "    row = []\n",
    "    col = []\n",
    "    data = []\n",
    "    for i in range(num_vertices):\n",
    "        row.extend([i, i, i])\n",
    "        col.extend([i, (i-1) % num_vertices, (i+1) % num_vertices])\n",
    "        data.extend([.5, .25, .25])\n",
    "    return coo_matrix((data, (row, col)), shape=(num_vertices,num_vertices))"
   ]
  },
  {
   "cell_type": "code",
   "execution_count": 17,
   "metadata": {},
   "outputs": [],
   "source": [
    "def get_tree_graph_transition_matrix_coor_for_node(node, **kwargs):\n",
    "    \"\"\"Função que lista as transições de um nó do grafo em árvore para seus vizinhos\"\"\"\n",
    "    row = []\n",
    "    col = []\n",
    "    p = []\n",
    "    \n",
    "    if kwargs[\"father\"]:\n",
    "        row = [node.data]\n",
    "        col = [kwargs[\"father\"].data]\n",
    "        p.append(1)\n",
    "        \n",
    "    if node.left and node.right:\n",
    "        row.extend([node.data, node.data])\n",
    "        col.extend([node.left.data, node.right.data])\n",
    "        p.extend([1,1])\n",
    "    \n",
    "    row.extend([node.data])\n",
    "    col.extend([node.data])\n",
    "    p.append(len(p))\n",
    "    \n",
    "    p = np.array(p)\n",
    "    p = p/p.sum()\n",
    "    return p, row, col"
   ]
  },
  {
   "cell_type": "code",
   "execution_count": 18,
   "metadata": {},
   "outputs": [],
   "source": [
    "def to_lists_collect_fun(left_result, right_result, node_result):\n",
    "    if not left_result and not right_result:\n",
    "        return node_result\n",
    "        \n",
    "    def concat(l, r, n):\n",
    "        o = []\n",
    "        o.extend(l)\n",
    "        o.extend(r)\n",
    "        o.extend(n)\n",
    "        return o\n",
    "    \n",
    "    p = concat(left_result[0], right_result[0], node_result[0])\n",
    "    row = concat(left_result[1], right_result[1], node_result[1])\n",
    "    col = concat(left_result[2], right_result[2], node_result[2])\n",
    "    return p, row, col"
   ]
  },
  {
   "cell_type": "code",
   "execution_count": 19,
   "metadata": {},
   "outputs": [],
   "source": [
    "def get_tree_trasition_matrix(num_vertices):\n",
    "    \"\"\"Cria a matriz de transição do andarílio pedido na questão para o grafo em árvore completa\"\"\"\n",
    "    tree = Tree(height=math.log(num_vertices+1,2) -1)\n",
    "    li = [-1]\n",
    "    index_tree = visit_tree(tree, assign_index, tree_collect_fun, last_index=li, father=None)\n",
    "    p, row, col = visit_tree(index_tree, get_tree_graph_transition_matrix_coor_for_node, to_lists_collect_fun, father=None)\n",
    "    return coo_matrix((p, (row, col)), shape=(num_vertices,num_vertices))\n",
    "    "
   ]
  },
  {
   "cell_type": "code",
   "execution_count": 20,
   "metadata": {},
   "outputs": [],
   "source": [
    "def get_cartesian_transition_matrix(num_vertices):\n",
    "    p  = []\n",
    "    row = []\n",
    "    col = []\n",
    "    \n",
    "    max_coor = int(math.sqrt(num_vertices))\n",
    "    \n",
    "    for i in range(max_coor):\n",
    "        for j in range(max_coor):\n",
    "            p_node = []\n",
    "            row_node = []\n",
    "            col_node = []\n",
    "            \n",
    "            if j > 1:\n",
    "                p_node.append(1)\n",
    "                row_node.append(j+i*max_coor)\n",
    "                col_node.append(j+i*max_coor - 1)\n",
    "            if j < (max_coor - 1):\n",
    "                p_node.append(1)\n",
    "                row_node.append(j+i*max_coor)\n",
    "                col_node.append(j+i*max_coor + 1)\n",
    "                \n",
    "            if i > 1:\n",
    "                p_node.append(1)\n",
    "                row_node.append(j+i*max_coor)\n",
    "                col_node.append(j+(i-1)*max_coor)\n",
    "            if i < (max_coor - 1):\n",
    "                p_node.append(1)\n",
    "                row_node.append(j+i*max_coor)\n",
    "                col_node.append(j+(i+1)*max_coor)\n",
    "            \n",
    "            p_node.append(len(p_node))\n",
    "            p_node = np.array(p_node)\n",
    "            p_node = p_node/np.sum(p_node)\n",
    "            row_node.append(j+i*max_coor)\n",
    "            col_node.append(j+i*max_coor)\n",
    "            \n",
    "            p.extend(p_node)\n",
    "            row.extend(row_node)\n",
    "            col.extend(col_node)\n",
    "            \n",
    "        \n",
    "    return coo_matrix((p, (row, col)), shape=(num_vertices,num_vertices))\n"
   ]
  },
  {
   "cell_type": "markdown",
   "metadata": {},
   "source": [
    "Apesar do enunciado ter fixado o número de vértices em 100 para todos os casos, existem restrições para esse parãmetro para o reticulado e para a árvore cheia:\n",
    "\n",
    "* n árvore cheia: $n \\in \\{n \\in \\mathbb{Z}^+ | n = \\log_2(k) - 1, k \\in \\mathbb{Z}^+\\}$\n",
    "* n reticulado: $n \\in \\{n | n = k^2 , k \\in \\mathbb{Z}\\}$\n",
    "\n",
    "No caso da árvore, vou usar o menor grafo com n > 100, logo 127"
   ]
  },
  {
   "cell_type": "code",
   "execution_count": 21,
   "metadata": {},
   "outputs": [],
   "source": [
    "def theoretic_sationary_sate(M):\n",
    "    return (M**1000)[0,:]"
   ]
  },
  {
   "cell_type": "code",
   "execution_count": 22,
   "metadata": {},
   "outputs": [],
   "source": [
    "P_tree = get_tree_trasition_matrix(127)\n",
    "pi_tree_inf = theoretic_sationary_sate(P_tree)\n",
    "P_ring = get_ring_transition_matrix(100)\n",
    "pi_ring_inf = theoretic_sationary_sate(P_ring)\n",
    "P_ret = get_cartesian_transition_matrix(100)\n",
    "pi_ret_inf = theoretic_sationary_sate(P_ret)"
   ]
  },
  {
   "cell_type": "code",
   "execution_count": 23,
   "metadata": {},
   "outputs": [],
   "source": [
    "def vect_diff(x,y):\n",
    "    return np.abs(x-y).sum()"
   ]
  },
  {
   "cell_type": "code",
   "execution_count": 24,
   "metadata": {},
   "outputs": [],
   "source": [
    "def run_markov_chain_exp(P, t_range, pi, x_0=None):\n",
    "    dim = P.shape[0]\n",
    "    x = x_0\n",
    "    if not x:\n",
    "        x = np.zeros(dim)\n",
    "        x[0] = 1\n",
    "    \n",
    "    dist = []\n",
    "    for t in tqdm(t_range):\n",
    "        x = x*P\n",
    "        dist.append(vect_diff(pi, x))\n",
    "    \n",
    "    return dist"
   ]
  },
  {
   "cell_type": "code",
   "execution_count": 27,
   "metadata": {},
   "outputs": [
    {
     "name": "stderr",
     "output_type": "stream",
     "text": [
      "100%|██████████| 1000/1000 [00:00<00:00, 7387.71it/s]\n",
      "100%|██████████| 1000/1000 [00:00<00:00, 7489.05it/s]\n",
      "100%|██████████| 1000/1000 [00:00<00:00, 7877.06it/s]\n"
     ]
    }
   ],
   "source": [
    "t = range(0,1000)\n",
    "ring_history = run_markov_chain_exp(P_ring, t, pi_ring_inf)\n",
    "tree_history = run_markov_chain_exp(P_tree, t, pi_tree_inf)\n",
    "ret_history = run_markov_chain_exp(P_ret, t, pi_ret_inf)"
   ]
  },
  {
   "cell_type": "code",
   "execution_count": 28,
   "metadata": {},
   "outputs": [],
   "source": [
    "def plot_mc_history(dist_history_ring, dist_history_tree, dist_history_ret):\n",
    "    plt.figure(figsize=(8, 6))\n",
    "    plt.subplot(2,1,1)\n",
    "    plt.plot(dist_history_ring, '-', color='blue')\n",
    "    plt.plot(dist_history_tree, '-', color='black')\n",
    "    plt.plot(dist_history_ret, '-', color='green')\n",
    "    plt.grid(True)\n",
    "    plt.xlabel('t')\n",
    "    plt.legend([f\"ring\", \"tree\", \"ret\"])\n",
    "    plt.title(f'dist para o estado estacionário')\n",
    "    plt.ylabel(f'dist')\n",
    "    plt.subplot(2,1,2)\n",
    "    plt.plot(dist_history_ring, '-', color='blue')\n",
    "    plt.plot(dist_history_tree, '-', color='black')\n",
    "    plt.plot(dist_history_ret, '-', color='green')\n",
    "    plt.axhline(y=0, color='r', linestyle='-')\n",
    "    plt.grid(True)\n",
    "    plt.xlabel('t')\n",
    "    plt.yscale('log')\n",
    "    plt.legend([f\"ring\", \"tree\", \"ret\"])\n",
    "    plt.title(f'log dist para o estado estacionário')\n",
    "    plt.ylabel(f'dist')\n",
    "    plt.show()"
   ]
  },
  {
   "cell_type": "code",
   "execution_count": 29,
   "metadata": {},
   "outputs": [
    {
     "data": {
      "image/png": "[encoded data removed]",
      "text/plain": [
       "<Figure size 576x432 with 2 Axes>"
      ]
     },
     "metadata": {
      "needs_background": "light"
     },
     "output_type": "display_data"
    }
   ],
   "source": [
    "plot_mc_history(ring_history, tree_history, ret_history)"
   ]
  },
  {
   "cell_type": "markdown",
   "metadata": {},
   "source": [
    "### Questão 3.4\n",
    "\n",
    "O grafo em reticulado transita converge muito mais rapidamente para o estado estacionário. Seguido da árvore e do anel que não são tão diferentes assim"
   ]
  },
  {
   "cell_type": "markdown",
   "metadata": {},
   "source": [
    "## Questão 4\n",
    "\n",
    "Sabemos que o transiente é dominado pelo segundo maior autovalor $\\lambda_2$. O problema é achar a constante de proporcionalidade, $C$, que rege essa convergência expoencial e depois basta resolver a equação \n",
    "\n",
    "$$\n",
    "\\tau = \\log_{\\lambda_2}\\left(\\frac{1}{C\\epsilon}\\right)\n",
    "$$\n",
    "\n",
    "Em sala de aula vimos inequações que dão limitantes superiores e inferiores para o tempo de mistura.\n",
    "\n",
    "Para o caso da questão, conhecemos o estado estacionário e podemos fazer uma regressão a partir da simulação da rede e achar o parâmetro C que falta. "
   ]
  },
  {
   "cell_type": "code",
   "execution_count": 26,
   "metadata": {},
   "outputs": [],
   "source": [
    "def convergence_bound(P, pi_inf, epsilon):\n",
    "    eigs = np.sort(np.abs(np.linalg.eigvals(P)))\n",
    "    lambda_1 = eigs[-1]\n",
    "    lambda_2 = eigs[-2]\n",
    "    delta = lambda_1 - lambda_2\n",
    "    pi_0 = np.sort(pi_inf)[0]\n",
    "    t_min = math.log(1/(2*epsilon))/(2*delta)\n",
    "    t_max = math.log(1/(pi_0*epsilon))/delta\n",
    "    return t_min, t_max"
   ]
  },
  {
   "cell_type": "code",
   "execution_count": 28,
   "metadata": {},
   "outputs": [],
   "source": [
    "def thoretic_pi_ring(n):\n",
    "    return np.ones(n)/np.sum(n)\n",
    "\n",
    "def theoretic_pi_tree(num_vertices):\n",
    "    tree = Tree(height=math.log(num_vertices+1,2) -1)\n",
    "    \n",
    "    def get_node_unormalized_prob(node, **args):\n",
    "        if not args[\"father\"]:           \n",
    "            return [4]\n",
    "        elif (not node.left) and (not node.right):\n",
    "            return [2]\n",
    "        return [6]\n",
    "    \n",
    "    p = visit_tree(tree, get_node_unormalized_prob, to_list_collect_fun, father=None)\n",
    "    p = np.array(p)\n",
    "    p = p/p.sum()\n",
    "    return p\n",
    "\n",
    "\n",
    "def theoretic_pi_ret(n):\n",
    "    dim = int(math.sqrt(n))\n",
    "    p = np.zeros(n)\n",
    "    for i in range(0, dim):\n",
    "        for j in range(0,dim):\n",
    "            if i == 0 or i == (dim-1) or j == 0 or j == (dim-1):\n",
    "                p[j+i*dim] = 6\n",
    "            else:\n",
    "                p[j+i*dim] = 8\n",
    "                \n",
    "    p[0] = 4\n",
    "    p[n-1] = 4\n",
    "    p[dim-1] = 4\n",
    "    p[n - dim + 1] = 4\n",
    "    \n",
    "    p = np.array(p)\n",
    "    p = p/p.sum()\n",
    "    return p"
   ]
  },
  {
   "cell_type": "code",
   "execution_count": 29,
   "metadata": {},
   "outputs": [
    {
     "name": "stdout",
     "output_type": "stream",
     "text": [
      "Segundo os limitantes apresentados em sala de aulaa, 431487.46745393064 < $\\tau_ring$ < 1633109.902830743\n"
     ]
    }
   ],
   "source": [
    "P_ring = get_ring_transition_matrix(1000)\n",
    "pi_ring_inf = thoretic_pi_ring(1000)\n",
    "tau_min_ring, tau_max_ring = convergence_bound(P_ring.toarray(), pi_ring_inf, 1e-4)\n",
    "P_tree = theoretic_pi_tree(1023)\n",
    "# p_tree_inf = theoretic_sationary_sate(1023)\n",
    "# tau_min_tree, tau_max_tree = convergence_bound(P_tree.toarray(), pi_tree_inf, 1e-4)\n",
    "\n",
    "print(f\"Segundo os limitantes apresentados em sala de aulaa, {tau_min_ring} < $\\\\tau_ring$ < {tau_max_ring}\")\n",
    "# print(f\"Segundo os limitantes apresentados em sala de aulaa, {tau_min_tree} < $\\\\tau_tree$ < {tau_max_tree}\")"
   ]
  },
  {
   "cell_type": "code",
   "execution_count": 30,
   "metadata": {},
   "outputs": [],
   "source": [
    "def get_transient_eig(M):\n",
    "    l = np.linalg.eigvals(M.toarray())\n",
    "    l = np.sort(np.abs(l))\n",
    "    return l[-2]"
   ]
  },
  {
   "cell_type": "code",
   "execution_count": 42,
   "metadata": {},
   "outputs": [],
   "source": [
    "def run_transient_experiment_ring():\n",
    "    n_range = [10,50,100,300,700,1000]\n",
    "    t_range = range(0, int(2e6))\n",
    "    dists_graphs = [[]]*len(n_range)\n",
    "    for i,n in enumerate(n_range):\n",
    "        pi_ring_inf = thoretic_pi_ring(n)\n",
    "        P_ring = get_ring_transition_matrix(n)\n",
    "        dist = run_markov_chain_exp(P_ring, t_range, pi_ring_inf)\n",
    "        dists_graphs[i] = dist\n",
    "    return np.array(dists_graphs), n_range\n",
    "\n",
    "def run_transient_experiment_ret():\n",
    "    n_range = [9,49,100,484,676,961]\n",
    "    t_range = range(0, int(2e6))\n",
    "    dists_graphs = [[]]*len(n_range)\n",
    "    for i,n in enumerate(n_range):\n",
    "        pi_ret_inf = theoretic_pi_ret(n)\n",
    "        P_ret = get_cartesian_transition_matrix(n)\n",
    "        dist = run_markov_chain_exp(P_ret, t_range, pi_ret_inf)\n",
    "        dists_graphs[i] = dist\n",
    "    return np.array(dists_graphs), n_range\n",
    "\n",
    "def run_transient_experiment_tree():\n",
    "    n_range = [15,63,127,511,1023,2047]\n",
    "    t_range = range(0, int(2e6))\n",
    "    dists_graphs = [[]]*len(n_range)\n",
    "    for i,n in enumerate(n_range):\n",
    "        P_tree = get_ring_transition_matrix(n)\n",
    "        pi_tree_inf = theoretic_pi_tree(n)\n",
    "        dist = run_markov_chain_exp(P_tree, t_range, pi_tree_inf)\n",
    "        dists_graphs[i] = dist\n",
    "    return np.array(dists_graphs), n_range"
   ]
  },
  {
   "cell_type": "code",
   "execution_count": 43,
   "metadata": {},
   "outputs": [
    {
     "data": {
      "application/vnd.jupyter.widget-view+json": {
       "model_id": "e0daeac281fa4708bef9940aafc00af2",
       "version_major": 2,
       "version_minor": 0
      },
      "text/plain": [
       "HBox(children=(IntProgress(value=0, max=2000000), HTML(value='')))"
      ]
     },
     "metadata": {},
     "output_type": "display_data"
    },
    {
     "name": "stdout",
     "output_type": "stream",
     "text": [
      "\n"
     ]
    },
    {
     "data": {
      "application/vnd.jupyter.widget-view+json": {
       "model_id": "66d084fea7c048759574476b95d74900",
       "version_major": 2,
       "version_minor": 0
      },
      "text/plain": [
       "HBox(children=(IntProgress(value=0, max=2000000), HTML(value='')))"
      ]
     },
     "metadata": {},
     "output_type": "display_data"
    },
    {
     "name": "stdout",
     "output_type": "stream",
     "text": [
      "\n"
     ]
    },
    {
     "data": {
      "application/vnd.jupyter.widget-view+json": {
       "model_id": "dc600912e7714488aefcb39a0560237c",
       "version_major": 2,
       "version_minor": 0
      },
      "text/plain": [
       "HBox(children=(IntProgress(value=0, max=2000000), HTML(value='')))"
      ]
     },
     "metadata": {},
     "output_type": "display_data"
    },
    {
     "name": "stdout",
     "output_type": "stream",
     "text": [
      "\n"
     ]
    },
    {
     "data": {
      "application/vnd.jupyter.widget-view+json": {
       "model_id": "afe13fa168d34e2faba5d7418b1c047e",
       "version_major": 2,
       "version_minor": 0
      },
      "text/plain": [
       "HBox(children=(IntProgress(value=0, max=2000000), HTML(value='')))"
      ]
     },
     "metadata": {},
     "output_type": "display_data"
    },
    {
     "name": "stdout",
     "output_type": "stream",
     "text": [
      "\n"
     ]
    },
    {
     "data": {
      "application/vnd.jupyter.widget-view+json": {
       "model_id": "5d057af748ac4b3f81209b82b5b620c1",
       "version_major": 2,
       "version_minor": 0
      },
      "text/plain": [
       "HBox(children=(IntProgress(value=0, max=2000000), HTML(value='')))"
      ]
     },
     "metadata": {},
     "output_type": "display_data"
    },
    {
     "name": "stdout",
     "output_type": "stream",
     "text": [
      "\n"
     ]
    },
    {
     "data": {
      "application/vnd.jupyter.widget-view+json": {
       "model_id": "4273107f5fcc45029a5e3eb2a82b8819",
       "version_major": 2,
       "version_minor": 0
      },
      "text/plain": [
       "HBox(children=(IntProgress(value=0, max=2000000), HTML(value='')))"
      ]
     },
     "metadata": {},
     "output_type": "display_data"
    },
    {
     "name": "stdout",
     "output_type": "stream",
     "text": [
      "\n"
     ]
    }
   ],
   "source": [
    "dists_ret, n_range_ret = run_transient_experiment_ret()"
   ]
  },
  {
   "cell_type": "code",
   "execution_count": null,
   "metadata": {},
   "outputs": [],
   "source": [
    "dists_ring, n_range_ring = run_transient_experiment_ring()"
   ]
  },
  {
   "cell_type": "code",
   "execution_count": 127,
   "metadata": {},
   "outputs": [
    {
     "data": {
      "application/vnd.jupyter.widget-view+json": {
       "model_id": "4b113abf8acd41419f5a9c4bbf63f9a7",
       "version_major": 2,
       "version_minor": 0
      },
      "text/plain": [
       "HBox(children=(IntProgress(value=0, max=2000000), HTML(value='')))"
      ]
     },
     "metadata": {},
     "output_type": "display_data"
    },
    {
     "data": {
      "application/vnd.jupyter.widget-view+json": {
       "model_id": "de6560f978744baa8c7b9bed75912537",
       "version_major": 2,
       "version_minor": 0
      },
      "text/plain": [
       "HBox(children=(IntProgress(value=0, max=2000000), HTML(value='')))"
      ]
     },
     "metadata": {},
     "output_type": "display_data"
    },
    {
     "data": {
      "application/vnd.jupyter.widget-view+json": {
       "model_id": "9276bd3795c147598498bfa4a6ec5aa6",
       "version_major": 2,
       "version_minor": 0
      },
      "text/plain": [
       "HBox(children=(IntProgress(value=0, max=2000000), HTML(value='')))"
      ]
     },
     "metadata": {},
     "output_type": "display_data"
    },
    {
     "data": {
      "application/vnd.jupyter.widget-view+json": {
       "model_id": "0d486f219bf6498092b8860f61854770",
       "version_major": 2,
       "version_minor": 0
      },
      "text/plain": [
       "HBox(children=(IntProgress(value=0, max=2000000), HTML(value='')))"
      ]
     },
     "metadata": {},
     "output_type": "display_data"
    },
    {
     "data": {
      "application/vnd.jupyter.widget-view+json": {
       "model_id": "4490c73170dc4f7389559e9c07d4a7f0",
       "version_major": 2,
       "version_minor": 0
      },
      "text/plain": [
       "HBox(children=(IntProgress(value=0, max=2000000), HTML(value='')))"
      ]
     },
     "metadata": {},
     "output_type": "display_data"
    },
    {
     "data": {
      "application/vnd.jupyter.widget-view+json": {
       "model_id": "fb22d92137d0458f9dc3f384c6be3e60",
       "version_major": 2,
       "version_minor": 0
      },
      "text/plain": [
       "HBox(children=(IntProgress(value=0, max=2000000), HTML(value='')))"
      ]
     },
     "metadata": {},
     "output_type": "display_data"
    }
   ],
   "source": [
    "dists_tree, n_range_tree = run_transient_experiment_tree()"
   ]
  },
  {
   "cell_type": "code",
   "execution_count": 49,
   "metadata": {},
   "outputs": [],
   "source": [
    "def plot_transient_experiment(dists, n_range, graph_topology):\n",
    "    plt.figure(figsize=(8, 6))\n",
    "    legend = []\n",
    "    for d, n in zip(dists, n_range):\n",
    "        plt.plot(d, '-')\n",
    "        legend.append(f\"n={n}\")\n",
    "    plt.grid(True)\n",
    "    plt.xlabel('t', fontsize=15)\n",
    "#     plt.xscale(\"log\")\n",
    "#     plt.xlim(0,4000)\n",
    "    plt.ylabel(r'dist to $\\pi$', fontsize=15)\n",
    "    plt.yscale(\"log\")\n",
    "    plt.legend(legend)\n",
    "    plt.title(f'convergencia para grafo em {graph_topology}')"
   ]
  },
  {
   "cell_type": "code",
   "execution_count": 108,
   "metadata": {},
   "outputs": [],
   "source": [
    "# P_ring = get_ring_transition_matrix(1000)\n",
    "# pi_ring_inf = thoretic_pi_ring(1000)\n",
    "# convergence_bound(P_ring.toarray(), pi_ring_inf, 1e-4)"
   ]
  },
  {
   "cell_type": "code",
   "execution_count": 107,
   "metadata": {},
   "outputs": [
    {
     "data": {
      "image/png": "[encoded data removed]",
      "text/plain": [
       "<Figure size 576x432 with 1 Axes>"
      ]
     },
     "metadata": {
      "needs_background": "light"
     },
     "output_type": "display_data"
    }
   ],
   "source": [
    "plot_transient_experiment(dists_ring, n_range_ring)"
   ]
  },
  {
   "cell_type": "code",
   "execution_count": 48,
   "metadata": {},
   "outputs": [
    {
     "data": {
      "image/png": "[encoded data removed]",
      "text/plain": [
       "<Figure size 576x432 with 1 Axes>"
      ]
     },
     "metadata": {
      "needs_background": "light"
     },
     "output_type": "display_data"
    }
   ],
   "source": [
    "plot_transient_experiment(dists_ret, n_range_ret, \"ret\")"
   ]
  },
  {
   "cell_type": "markdown",
   "metadata": {},
   "source": [
    "> **Essa gráfico mostra um fenômenos bem interssante. Nestas redes há um \"overshoot\"..a distância para o estado estacionario não é montônicamente decrescente, mas a serie de distâncias mostra uma oscilação**. Nâo estou certoi que isso seja característica da rede ou problema númerico\n"
   ]
  },
  {
   "cell_type": "markdown",
   "metadata": {},
   "source": [
    "## Questão 6\n",
    "\n",
    "### Questão 6.1\n",
    "\n",
    "Podemos 3 nós do grafo original, caso formem um triângluo, matemos a amostra, caso contrário rejeitamos a amostra. Para garantir que a escolha dos 3 nós seja uniforme, podemos utilizar o algoritmo Knuth-shuffle; geramos uma permutação dos nós e ficamos apenas com os 3 primeiros. Muitos candidatos a triângulos serão rejeitados, uma vez que as escolhas a partir da distribuição uniforme tem \"pouca chance\" de realmente ger um triângulo\n",
    "\n",
    "### Questão 6.2\n",
    "\n",
    "Podemos induzir um andarilio sobre o grafo que transita entre vizinhos com probabilidade uniforme. Sabemos que no estado estacionário, esse andarilio visita os nós com probabilidade proporcional ao número de vizinhos, mas podemos utilizar Metropolis-Hasting para corrigir esse viés e fazer com que, no estado estacionári, cada nó seja visitado com probabilidade uniforme. Nesta nova cadeia, podemos achar os triângulos através dos caminhos amostrais. Já que cada nó foi visitado com igual probabilidade, os triângulos também serão\n",
    "\n",
    "## Questão 6.3\n",
    "\n",
    "Intuitivamente, parece que quanto mais conexo for o grafo, melhor o será o uso do segundo método, pois o tempo de mistura da Cadeia é menor como demonstrado na questão 3. O primeiro método deve ser melhor em grafos pouco conexos."
   ]
  },
  {
   "cell_type": "markdown",
   "metadata": {},
   "source": [
    "## Questão 7\n",
    "\n",
    "Podemos modelo o problema como sendo um problema de otmização sobre o espaço de todas os possíveis códigos sigma:\n",
    "\n",
    "$$\n",
    "\\sigma^* = \\arg \\max_{\\sigma}f(\\sigma)\n",
    "$$\n",
    "\n",
    "O código é uma permutação do alfabeto e pode ser representado como um vetor de tamabo N (número de letras no alfabeto). Para utilizar simulated annealing para este problemas, precisamos induzir uma Cadeia de Markov em que cada estado, $s$, seja uma das permutações que existem no espaço $\\sigma$ e criar transiões neste espaço e escolher uma estratégia de transição que garanta que a cadeia induzida seja aperiódica e irredutível\n",
    "\n",
    "1. Podemos representar o estado da Cadeia com vetores de tamanho N\n",
    "2. Podemos transitar na cadeia criando uma nova permutação usando uma iteração do Knuth-shuffle, ou seja, escolhendo uma das posições do código atual e trocando seu conteúdo com a última posição do código.\n",
    "3. Aplicamos a dostrinuição de boltzman para executar a transição\n",
    "\n",
    "A parte talvez mais difícil desse algoritmo é gerar a função f. Talvez procurando palavras dicionarizadas no texto decodificado pudéssemos encontrar uma boa f, ou comparar as frequências das letras da mensagem decodificada com as frequências esperada das letras em uma mensagem decodificada."
   ]
  },
  {
   "cell_type": "code",
   "execution_count": 169,
   "metadata": {},
   "outputs": [],
   "source": [
    "N_alphabet = 26\n",
    "def gen_code(N_alphabet=26):\n",
    "    alphabet = range(0, N_alphabet)\n",
    "    per = np.random.permutation(N_alphabet)\n",
    "    return {k: v for k,v in zip(alphabet, per)} \n",
    "\n",
    "def encode_msg(code, msg):\n",
    "    return [code[i] for i in msg]\n",
    "\n",
    "def decode_msg(code, msg):\n",
    "    inv_code = dict(zip(code.values(), code.keys()))\n",
    "    return encode_msg(inv_code, msg)"
   ]
  },
  {
   "cell_type": "code",
   "execution_count": 140,
   "metadata": {},
   "outputs": [],
   "source": [
    "unknown_code = gen_code(N_alphabet)"
   ]
  },
  {
   "cell_type": "code",
   "execution_count": 410,
   "metadata": {},
   "outputs": [],
   "source": [
    "msg = np.random.randint(0,N_alphabet, 100)\n",
    "encoded_msg = encode_msg(unknown_code, msg)"
   ]
  },
  {
   "cell_type": "code",
   "execution_count": 411,
   "metadata": {},
   "outputs": [],
   "source": [
    "def perfect_code_evaluator(code):\n",
    "    decode = decode_msg(code, encoded_msg)\n",
    "    return ( decode == msg).sum()/len(msg)"
   ]
  },
  {
   "cell_type": "code",
   "execution_count": 412,
   "metadata": {},
   "outputs": [],
   "source": [
    "def simulated_annealing_code_breaker(T_hist):\n",
    "\n",
    "    def generate_next_code(c):\n",
    "        p = np.random.randint(0, N_alphabet-1)\n",
    "        c1 = c.copy()\n",
    "        \n",
    "        temp = c[p]\n",
    "        c1[p] = c[N_alphabet-1]\n",
    "        c1[N_alphabet-1] = temp\n",
    "        \n",
    "        return c1\n",
    "    \n",
    "    code = gen_code(N_alphabet)\n",
    "    f_eval = perfect_code_evaluator(code)\n",
    "    f_hist = [f_eval]\n",
    "\n",
    "    def accept_code(f_eval1, t):\n",
    "#         print(t)\n",
    "#         print(f\"f_eval {f_eval} t {t}\")\n",
    "        p_accept = min(1, math.exp(f_eval1/t)/math.exp(f_eval/t))\n",
    "#         print(f\"prob accept {p_accept}\")\n",
    "        return np.random.uniform() <= p_accept\n",
    "    \n",
    "    for t in T_hist:\n",
    "        code1 = generate_next_code(code)\n",
    "        f_eval1 = perfect_code_evaluator(code1)\n",
    "#         print(f\"new f_eval {f_eval1}\")\n",
    "        if accept_code(f_eval1, t):\n",
    "            f_hist.append(f_eval1)\n",
    "#             print(\"accept\")\n",
    "            f_eval = f_eval1\n",
    "            code = code1\n",
    "    \n",
    "    return code, f_eval, f_hist\n",
    "    "
   ]
  },
  {
   "cell_type": "code",
   "execution_count": 413,
   "metadata": {},
   "outputs": [],
   "source": [
    "def linear_temperature():\n",
    "    T_i = .1\n",
    "    T_f = .5e-2\n",
    "    T_vet = np.linspace(T_i, T_f, 2000)\n",
    "    T_out = np.array([])\n",
    "    for t in tqdm(T_vet):\n",
    "        v = t*np.ones(100)\n",
    "        T_out = np.concatenate((T_out, v))\n",
    "    return T_out"
   ]
  },
  {
   "cell_type": "code",
   "execution_count": 414,
   "metadata": {},
   "outputs": [
    {
     "data": {
      "application/vnd.jupyter.widget-view+json": {
       "model_id": "55441b44453b43e7b0b0e6e07b90d247",
       "version_major": 2,
       "version_minor": 0
      },
      "text/plain": [
       "HBox(children=(IntProgress(value=0, max=2000), HTML(value='')))"
      ]
     },
     "metadata": {},
     "output_type": "display_data"
    }
   ],
   "source": [
    "T = linear_temperature()"
   ]
  },
  {
   "cell_type": "code",
   "execution_count": 415,
   "metadata": {},
   "outputs": [],
   "source": [
    "code, f_val, f_hist = simulated_annealing_code_breaker(T)"
   ]
  },
  {
   "cell_type": "code",
   "execution_count": 428,
   "metadata": {},
   "outputs": [],
   "source": [
    "def plot_optmization(f_hist):\n",
    "    \n",
    "    def movingaverage(interval, window_size):\n",
    "        window = np.ones(int(window_size))/float(window_size)\n",
    "        return np.convolve(interval, window, 'same')\n",
    "    \n",
    "    plt.figure(figsize=(8, 6))\n",
    "    plt.plot(f_hist, 'xb')\n",
    "    plt.plot(movingaverage(f_hist,100), '-g')\n",
    "    plt.xlabel(\"iteration\")\n",
    "    plt.ylabel(r\"f($\\sigma$)\")\n",
    "    plt.grid(True)\n",
    "    plt.title(\"code evaluation\")\n",
    "    plt.legend([\"f_eval\", \"moving avarage\"])\n",
    "    plt.show()"
   ]
  },
  {
   "cell_type": "code",
   "execution_count": 429,
   "metadata": {},
   "outputs": [
    {
     "data": {
      "image/png": "[encoded data removed]",
      "text/plain": [
       "<Figure size 576x432 with 1 Axes>"
      ]
     },
     "metadata": {
      "needs_background": "light"
     },
     "output_type": "display_data"
    }
   ],
   "source": [
    "plot_optmization(f_hist)"
   ]
  },
  {
   "cell_type": "code",
   "execution_count": null,
   "metadata": {},
   "outputs": [],
   "source": []
  }
 ],
 "metadata": {
  "kernelspec": {
   "display_name": "Python 3",
   "language": "python",
   "name": "python3"
  },
  "language_info": {
   "codemirror_mode": {
    "name": "ipython",
    "version": 3
   },
   "file_extension": ".py",
   "mimetype": "text/x-python",
   "name": "python",
   "nbconvert_exporter": "python",
   "pygments_lexer": "ipython3",
   "version": "3.7.3"
  }
 },
 "nbformat": 4,
 "nbformat_minor": 4
}
