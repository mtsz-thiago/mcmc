{
 "cells": [
  {
   "cell_type": "markdown",
   "metadata": {},
   "source": [
    "lista 04 MCMC\n",
    "===\n",
    "**Thiago da Mota Souza - thiagosz@cos.ufrj.br**"
   ]
  },
  {
   "cell_type": "code",
   "execution_count": 16,
   "metadata": {},
   "outputs": [],
   "source": [
    "import numpy as np\n",
    "import matplotlib.pyplot as plt"
   ]
  },
  {
   "cell_type": "markdown",
   "metadata": {},
   "source": [
    "## Questão 1\n",
    "\n",
    "### Questão 1.1\n",
    "\n",
    "Pelo enunciado, o caixa tem dois possíveis estados: com cliente, 1, e sem cliente, 0. Portanto podemos modelar o problema usando a cadeia de Markov On-Off com probabilidade p de trânsição de Off para On e q de On para Off.\n",
    "\n",
    "$$\n",
    "p(t) = p(t-1)T = p(t-1) \\begin{bmatrix}\n",
    "(1-p) & p \\\\\n",
    "q & (1-q)\n",
    "\\end{bmatrix}\n",
    "$$"
   ]
  },
  {
   "cell_type": "markdown",
   "metadata": {},
   "source": [
    "### Questão 1.2\n",
    "\n",
    "O Estado estacionário da cadeia é dado por pelo auto-valor 1:\n",
    "\n",
    "$$\n",
    "\\pi(T - I) = \\begin{bmatrix} \\pi_0 & \\pi_1 \\end{bmatrix} \\begin{bmatrix}\n",
    "(1-p) - 1 & p \\\\\n",
    "q & (1-q) - 1\n",
    "\\end{bmatrix} = \\begin{bmatrix}\n",
    "0 & 0\n",
    "\\end{bmatrix} = \\begin{bmatrix}\n",
    "-p\\pi_0 + q\\pi_1 & p\\pi_0 - q\\pi_1\n",
    "\\end{bmatrix} \n",
    "$$\n",
    "\n",
    "logo temos as que:\n",
    "\n",
    "$$\n",
    "\\begin{split}\n",
    "-p\\pi_0 + q\\pi_1 = 0 \\\\\n",
    "\\pi_0 + \\pi_1 = 1\n",
    "\\end{split} \\implies \\pi = \\begin{bmatrix} \\frac{q}{p+q} & \\frac{p}{p+q} \\end{bmatrix}\n",
    "$$\n",
    "\n",
    "A restrição importa a questão $p < q$ restringe os valores dos possíveis estados estacionários"
   ]
  },
  {
   "cell_type": "markdown",
   "metadata": {},
   "source": [
    "### Questão 1.3\n",
    "\n",
    "O tempo em que o caixa fica ocioso é dado pelo tempo em que passa no estado 0. Sabemos que, uma vez que o sistema tenha atingido o estado estacionário, o tempo médio, medido em transições, que a rede leva para que seu estado saia de um estado $s_0$ e retorne a ele é dado por:\n",
    "\n",
    "$$\n",
    "\\tau_{s_0} = \\frac{1}{\\pi_{s_0}}\n",
    "$$\n",
    "\n",
    "logo, no caso da rede on-off:\n",
    "\n",
    "$$\n",
    "\\tau_{0} = \\frac{p+q}{q}, \\tau_{1} = \\frac{p+q}{p}\n",
    "$$\n",
    "\n",
    "Logo o tempo médio que a cadeia passa no estado 0, sem cliente, é dado por $\\tau_1$ que o tempo médio que a cadeia demora a voltar ao estado 1, com cliente, em trânsições discretas. Isso significa que\n",
    "\n",
    "$$\n",
    "\\textit{frac. de tempo do caixa ocioso} = \\frac{\\tau_1}{\\tau_1 + \\tau_0} = \\frac{q}{p+q}\n",
    "$$"
   ]
  },
  {
   "cell_type": "markdown",
   "metadata": {},
   "source": [
    "## Questão 2\n",
    "\n",
    "### Questão 2.1\n",
    "\n",
    "O andarilho criado transita entre os vértices i e j com probabilidade:\n",
    "\n",
    "$$\n",
    "p_{i,j} = \\frac{w_{i,j}}{\\sum_{k \\in V}w_{i,k}}\n",
    "$$\n",
    "\n",
    "Onde atribui-se $w_{i,j} = 0$ se j não há uma aresta incidente em i originada em j. Logo:\n",
    "\n",
    "$$\n",
    "\\sum_{j \\in V}p_{i,j} = \\sum_{j \\in V}\\frac{w_{i,j}}{\\sum_{k \\in V}w_{i,k}} = 1, \\forall i \\in V\n",
    "$$\n",
    "\n",
    "Já que foi restrito pelo enunciado que os pesos são positivos, a equação anterior significa que as probabilidades de transição de um vértice para outro respeitam as restrições impostas as probabilidades."
   ]
  },
  {
   "cell_type": "markdown",
   "metadata": {},
   "source": [
    "### Questão 2.2\n",
    "\n",
    "Induzido pelo andarilho não-enviesado, acredito que no estado estacionário a probabilidade do andarilho estar no vértice j é proporcional a soma dos pesos das arestas incidentes a j de forma que:\n",
    "\n",
    "\n",
    "$$\n",
    "\\pi_{chute}(k) = \\frac{\\sum_{j}w_{j,k}}{\\sum_{m}\\sum_{n}w_{m,n}}\n",
    "$$\n",
    "\n",
    "Para simplificar as equações: $S_W = \\sum_{j}\\sum_{k}w_{j,k}$ e $S_j = \\sum_{k}w_{j,k}$.\n",
    "\n",
    "Segue uma verificação do chute:\n",
    "\n",
    "$$\n",
    "\\pi_{chute}\\boldsymbol{P} = \\pi_{chute}\\begin{bmatrix} \\boldsymbol{p_1} \\\\ \\boldsymbol{p_2} \\\\ \\vdots \\\\ \\boldsymbol{p_n} \\end{bmatrix} = \\sum_{i}\\pi_{chute}(i)\\boldsymbol{p_i}\n",
    "$$\n",
    "\n",
    "Onde $p_i$ é a i-ésima linha de P. O que podemos desenvolver em:\n",
    "\n",
    "\n",
    "$$\n",
    "\\pi_{chute}P(k) = \\sum_{i}\\pi_{chute}(i)p_{i,k} = \\sum_{i}\\frac{\\sum_{j}w_{j,i}}{\\sum_{m}\\sum_{n}w_{m,n}}p_{i,k} = \\frac{1}{\\sum_{m}\\sum_{n}w_{m,n}}\\sum_i\\sum_jw_{j,i}p_{i,k} = \\frac{1}{\\sum_{m}\\sum_{n}w_{m,n}}\\sum_ip_{i,k}\\sum_jw_{j,i}\n",
    "$$\n",
    "\n",
    "usando a definção de $p_{i,k}$ na equação anterior e sendo a rede não-direcionada, $w_{i,j} = w_{j,i} \\implies \\sum_iw_{i,j} = \\sum_iw_{j,i}$:\n",
    "\n",
    "$$\n",
    "\\pi_{chute}P(k) = \\frac{1}{\\sum_{m}\\sum_{n}w_{m,n}}\\sum_i\\frac{w_{i,k}}{\\sum_lw_{i,l}}\\sum_jw_{j,i} = \\frac{1}{\\sum_{m}\\sum_{n}w_{m,n}}\\sum_iw_{i,k} = \\pi_{chute}(k)\n",
    "$$\n",
    "\n",
    "Logo o chute está correto e podemos afirmar que:\n",
    "\n",
    "$$\n",
    "\\pi(k) = \\frac{\\sum_{j}w_{j,k}}{\\sum_{m}\\sum_{n}w_{m,n}}\n",
    "$$\n"
   ]
  },
  {
   "cell_type": "markdown",
   "metadata": {},
   "source": [
    "## Questão 2.3\n",
    "\n",
    "Usando a simetria da rede $w_{i,j} = w_{j,i} \\implies \\sum_iw_{i,j} = \\sum_iw_{j,i}$\n",
    "\n",
    "$$\n",
    "\\pi_ip_{i,j} = \\frac{\\sum_{j}w_{j,i}}{\\sum_{m}\\sum_{n}w_{m,n}}p_{i,j} = \\frac{\\sum_{j}w_{j,i}}{\\sum_{m}\\sum_{n}w_{m,n}}\\frac{w_{i,j}}{\\sum_{k \\in V}w_{i,k}} = \\frac{\\sum_{j}w_{i,j}}{\\sum_{m}\\sum_{n}w_{m,n}}\\frac{w_{j,i}}{\\sum_{k \\in V}w_{i,k}} = \\frac{w_{j,i}}{\\sum_{m}\\sum_{n}w_{m,n}} = \\frac{\\sum_{i}w_{i, j}}{\\sum_{m}\\sum_{n}w_{m,n}}\\frac{w_{j,i}}{\\sum_{i}w_{j,i}} - \\pi_j P_{j,i}\n",
    "$$"
   ]
  },
  {
   "cell_type": "markdown",
   "metadata": {},
   "source": [
    "## Questão 3\n",
    "\n",
    "### Questão 3.1\n",
    "\n",
    "#### Grafo em Anel\n",
    "\n",
    "$$\n",
    "p_{i,j} = \\begin{cases} 1/2, i=j \\\\ 1/4, j \\in \\{(j+1 \\mod n), (j-1 \\mod n)\\} \\\\ 0, \\text{outros casos} \\end{cases}\n",
    "$$\n",
    "\n",
    "#### Grafo em Árvore Compĺeta\n",
    "\n",
    "Considerando que os vértices serão rotulados usando um algoritmo de visitação esquerda-direita-raiz:"
   ]
  },
  {
   "cell_type": "code",
   "execution_count": 1,
   "metadata": {},
   "outputs": [],
   "source": [
    "class Tree:\n",
    "    left = None\n",
    "    right = None\n",
    "    def __init__(self, data=None, height=0):\n",
    "        self.data = data\n",
    "        if height > 0:\n",
    "            self.left = Tree(data, height-1)\n",
    "            self.right = Tree(data, height-1)"
   ]
  },
  {
   "cell_type": "code",
   "execution_count": 43,
   "metadata": {},
   "outputs": [],
   "source": [
    "def tree_collect_fun(left_result, right_result, node_result):\n",
    "    out = Tree()\n",
    "    out.data = node_result\n",
    "    out.left = left_result\n",
    "    out.right = right_result\n",
    "    return out\n",
    "\n",
    "def to_list_collect_fun(left_result, right_result, node_result):\n",
    "    if not left_result:\n",
    "        left_result = []\n",
    "    if right_result:\n",
    "        left_result.extend(right_result)\n",
    "    if node_result:\n",
    "        left_result.extend(node_result)\n",
    "    return left_result"
   ]
  },
  {
   "cell_type": "code",
   "execution_count": 30,
   "metadata": {},
   "outputs": [],
   "source": [
    "def visit_tree(tree, fun, collect_fun, **args):\n",
    "    \n",
    "    left = tree.left\n",
    "    if not left:\n",
    "        node_result = fun.__call__(tree, **args)\n",
    "        return collect_fun.__call__(None, None, node_result)\n",
    "    \n",
    "    left_result = visit_tree(left, fun, collect_fun, **args)\n",
    "    \n",
    "    right = tree.right\n",
    "    right_result = None\n",
    "    if right:\n",
    "        right_result = visit_tree(right, fun, collect_fun, **args)\n",
    "    \n",
    "    node_data = tree.data\n",
    "    node_result = fun.__call__(tree,**args)\n",
    "\n",
    "    return collect_fun.__call__(left_result, right_result, node_result)"
   ]
  },
  {
   "cell_type": "code",
   "execution_count": 31,
   "metadata": {},
   "outputs": [],
   "source": [
    "def dir_call(tree, fun, **args):\n",
    "    node_data = tree.data\n",
    "    return fun(node_data, **args)"
   ]
  },
  {
   "cell_type": "code",
   "execution_count": 32,
   "metadata": {},
   "outputs": [],
   "source": [
    "def assign_index(node, **kwargs):\n",
    "    kwargs[\"last_index\"][0] = kwargs[\"last_index\"][0] + 1\n",
    "    return kwargs[\"last_index\"][0]"
   ]
  },
  {
   "cell_type": "code",
   "execution_count": 48,
   "metadata": {},
   "outputs": [],
   "source": [
    "tree = Tree(height=3)"
   ]
  },
  {
   "cell_type": "code",
   "execution_count": 49,
   "metadata": {},
   "outputs": [],
   "source": [
    "li = [-1]\n",
    "index_tree = visit_tree(tree, assign_index, tree_collect_fun, last_index=li, only_visit=False)"
   ]
  },
  {
   "cell_type": "markdown",
   "metadata": {},
   "source": [
    "Usando o mesmo algoritmo de visitação podemos escrever uma função que lista os ramos do grafo"
   ]
  },
  {
   "cell_type": "code",
   "execution_count": 54,
   "metadata": {},
   "outputs": [],
   "source": [
    "def get_graph_branches(node, **kwargs):\n",
    "    \"\"\"Função que lista as transições de um grafo\"\"\"\n",
    "    out = []\n",
    "    if node.left:\n",
    "        left_branch = (node.left.data, node.data)\n",
    "        out.append(left_branch)\n",
    "    if node.right:\n",
    "        right_branch = (node.right.data, node.data)\n",
    "        out.append(right_branch)\n",
    "    return out"
   ]
  },
  {
   "cell_type": "code",
   "execution_count": 55,
   "metadata": {},
   "outputs": [],
   "source": [
    "branches_list = visit_tree(index_tree, get_graph_branches, to_list_collect_fun)"
   ]
  },
  {
   "cell_type": "markdown",
   "metadata": {},
   "source": [
    "Para essa forma de indexar, esquerda-direita-raiz, com o primieiro ínidice em 0, se um nó de ínidice i está na altura h da árvore:\n",
    "\n",
    "* seu filho direito tem ínidice $i_{direito} = i-1$\n",
    "* seu filho esquerdo tem índice $i_{esquerdo} = i-2^h$, se\n",
    "* o nó mais alto da árvore tem índice $i_{max} = 2^{h_{max}} - 2$\n",
    "* o nó pai de um nó é tem índice $i_{pai} = \\begin{cases} \n",
    "i + 1 & \\text{se i filho direito} \\\\\n",
    "i + 2^{h+1} & \\text{se i filho esquerdo}\n",
    "\\end{cases}$, i é filho esquerdo caso $i < \\frac{2^{h+2}-1}{2}$ e direito em caso contrário.\n",
    "* $0 < i < i_{max} \\forall i$\n",
    "\n",
    "\n",
    "com isso podemos escrever a a matriz de transições analiticamente usando como vizinhança, V do nó seus filhos e seu pai, se existirem:\n",
    "\n",
    "$$\n",
    "p_{i,j} = \\begin{cases}\n",
    "1/2 & i = j \\\\\n",
    "\\frac{1}{2|V|} & j \\in V \\\\\n",
    "0 & \\text{outro caso}\n",
    "\\end{cases}\n",
    "$$"
   ]
  },
  {
   "cell_type": "markdown",
   "metadata": {},
   "source": [
    "#### Grafo em Reticulado\n",
    "\n",
    "No reticulado:\n",
    "\n",
    "$$\n",
    "i_{no} = j + i\\sqrt(n)\n",
    "$$\n",
    "\n",
    "se o ponto está n j-ésima coluna e i-ésima linha do grafo, $0 \\leq i,j \\leq \\sqrt(n)-1$. cada nó tem vizinhaça dada pelos pontos:\n",
    "\n",
    "* anterior na linha: $ j-1 + i\\sqrt{n}, \\text{ se } 1 < j < (\\sqrt{n} - 2)$\n",
    "* posterior na linha: $ j+1 + i\\sqrt{n}, \\text{ se } 1 < j < (\\sqrt{n} - 2)$\n",
    "* anteiror na coluna: $ j + (i-1)\\sqrt{n}, \\text{ se } 1 < i < (\\sqrt{n} - 2)$\n",
    "* posterior na coluna: $ j + (i+1)\\sqrt{n}, \\text{ se } 1 < i < (\\sqrt{n} - 2)$\n",
    "\n",
    "\n",
    "Assim podemos construir uma matriz de transição do nó i para o j:\n",
    "\n",
    "$$\n",
    "p_{i,j} = \\begin{cases}\n",
    "1/2 & i = j \\\\\n",
    "\\frac{1}{8} & j \\in V\n",
    "0 & \\text{outro caso}\n",
    "\\end{cases}\n",
    "$$"
   ]
  },
  {
   "cell_type": "markdown",
   "metadata": {},
   "source": [
    "### Questão 3.2\n",
    "\n",
    "Pode-se utilizar o resultado obtido na questão 2 par calcular o valor analítico do estado estacionário dos passeios no acima.\n",
    "\n",
    "#### Grafo em Anel\n",
    "\n",
    "È simético então o estado estacionário tem probabilidade uniforme para todos os estados.\n",
    "\n",
    "#### Grafo em Árvore completa:\n",
    "\n",
    "$$\n",
    "\\pi_i = \\begin{cases}\n",
    "\\alpha 4 & \\text{i sem pai} \\\\\n",
    "\\alpha 6 & \\text{i tem pai e filhos} \\\\\n",
    "\\alpha 2 & \\text{i sem filhos}\n",
    "\\end{cases}\n",
    "$$\n",
    "\n",
    "$\\alpha$ e um fator de normalização tal que $\\sum_i\\pi_i = 1$, sabendo que existem:\n",
    "\n",
    "* 1 nó sem pai no grafo\n",
    "* $2^{h_{max}}$ nós sem flho no grafo\n",
    "* os demais tem pai e filhos\n",
    "* $h_{max} = log_2(n+1) - 1 $\n",
    "\n",
    "\n",
    "logo\n",
    "\n",
    "$$\n",
    "\\sum_i\\pi_i 1 = \\alpha\\left(4 + 2\\frac{(n+1)}{2} + 6(n - \\frac{(n+1)}{2} - 1)\\right), n > 3 \\implies \\alpha = \\frac{1}{4(n-1)}, n > 3\n",
    "$$\n",
    "\n",
    "os casos n=3  e n=1 são simples e tem estado estacionário, respectivamente $\\pi = \\begin{bmatrix} 1/4 & 1/4 & 1/2\\end{bmatrix}$ e $\\pi = \\begin{bmatrix} 1 \\end{bmatrix}$ \n",
    "\n",
    "#### Grafo em reticulado\n",
    "\n",
    "no caso do reticulado:\n",
    "\n",
    "\n",
    "$$\n",
    "\\pi_i = \\begin{cases}\n",
    "\\alpha 4 & \\text{i na borda do reticulado} \\\\\n",
    "\\alpha 8 & \\text{outro caso} \\\\\n",
    "\\end{cases}\n",
    "$$\n",
    "\n",
    "Novamente $\\alpha$ normaliza $\\pi$\n",
    "\n",
    "$$\n",
    "\\sum_i\\pi_i 1 = \\alpha\\left(4(4\\sqrt{n}) + 8(n - 4\\sqrt{n}) \\right), n > 4 \\implies \\alpha = \\frac{1}{8\\left(n-2\\sqrt{n}\\right)}\n",
    "$$\n",
    "\n",
    "Os casos n=4 e n=1 são triviais pois todos os pontos estão na borda e portanto a rede é simétrica e a distribuição no estado estacionário da rede é uniforme"
   ]
  },
  {
   "cell_type": "markdown",
   "metadata": {},
   "source": [
    "### Questão 3.3\n",
    "\n",
    "Vou"
   ]
  },
  {
   "cell_type": "code",
   "execution_count": null,
   "metadata": {},
   "outputs": [],
   "source": []
  }
 ],
 "metadata": {
  "kernelspec": {
   "display_name": "Python 3",
   "language": "python",
   "name": "python3"
  },
  "language_info": {
   "codemirror_mode": {
    "name": "ipython",
    "version": 3
   },
   "file_extension": ".py",
   "mimetype": "text/x-python",
   "name": "python",
   "nbconvert_exporter": "python",
   "pygments_lexer": "ipython3",
   "version": "3.7.3"
  }
 },
 "nbformat": 4,
 "nbformat_minor": 4
}
