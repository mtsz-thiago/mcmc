{
 "cells": [
  {
   "cell_type": "markdown",
   "metadata": {},
   "source": [
    "lista 04 MCMC\n",
    "===\n",
    "**Thiago da Mota Souza - thiagosz@cos.ufrj.br**"
   ]
  },
  {
   "cell_type": "code",
   "execution_count": 16,
   "metadata": {},
   "outputs": [],
   "source": [
    "import numpy as np\n",
    "import matplotlib.pyplot as plt"
   ]
  },
  {
   "cell_type": "markdown",
   "metadata": {},
   "source": [
    "## Questão 1\n",
    "\n",
    "### Questão 1.1\n",
    "\n",
    "Pelo enunciado, o caixa tem dois possíveis estados: com cliente, 1, e sem cliente, 0. Portanto podemos modelar o problema usando a cadeia de Markov On-Off com probabilidade p de trânsição de Off para On e q de On para Off.\n",
    "\n",
    "$$\n",
    "p(t) = p(t-1)T = p(t-1) \\begin{bmatrix}\n",
    "(1-p) & p \\\\\n",
    "q & (1-q)\n",
    "\\end{bmatrix}\n",
    "$$"
   ]
  },
  {
   "cell_type": "markdown",
   "metadata": {},
   "source": [
    "### Questão 1.2\n",
    "\n",
    "O Estado estacionário da cadeia é dado por pelo auto-valor 1:\n",
    "\n",
    "$$\n",
    "\\pi(T - I) = \\begin{bmatrix} \\pi_0 & \\pi_1 \\end{bmatrix} \\begin{bmatrix}\n",
    "(1-p) - 1 & p \\\\\n",
    "q & (1-q) - 1\n",
    "\\end{bmatrix} = \\begin{bmatrix}\n",
    "0 & 0\n",
    "\\end{bmatrix} = \\begin{bmatrix}\n",
    "-p\\pi_0 + q\\pi_1 & p\\pi_0 - q\\pi_1\n",
    "\\end{bmatrix} \n",
    "$$\n",
    "\n",
    "logo temos as que:\n",
    "\n",
    "$$\n",
    "\\begin{split}\n",
    "-p\\pi_0 + q\\pi_1 = 0 \\\\\n",
    "\\pi_0 + \\pi_1 = 1\n",
    "\\end{split} \\implies \\pi = \\begin{bmatrix} \\frac{q}{p+q} & \\frac{p}{p+q} \\end{bmatrix}\n",
    "$$\n",
    "\n",
    "A restrição importa a questão $p < q$ restringe os valores dos possíveis estados estacionários"
   ]
  },
  {
   "cell_type": "markdown",
   "metadata": {},
   "source": [
    "### Questão 1.3\n",
    "\n",
    "O tempo em que o caixa fica ocioso é dado pelo tempo em que passa no estado 0. Sabemos que, uma vez que o sistema tenha atingido o estado estacionário, o tempo médio, medido em transições, que a rede leva para que seu estado saia de um estado $s_0$ e retorne a ele é dado por:\n",
    "\n",
    "$$\n",
    "\\tau_{s_0} = \\frac{1}{\\pi_{s_0}}\n",
    "$$\n",
    "\n",
    "logo, no caso da rede on-off:\n",
    "\n",
    "$$\n",
    "\\tau_{0} = \\frac{p+q}{q}, \\tau_{1} = \\frac{p+q}{p}\n",
    "$$\n",
    "\n",
    "Logo o tempo médio que a cadeia passa no estado 0, sem cliente, é dado por $\\tau_1$ que o tempo médio que a cadeia demora a voltar ao estado 1, com cliente, em trânsições discretas. Isso significa que\n",
    "\n",
    "$$\n",
    "\\textit{frac. de tempo do caixa ocioso} = \\frac{\\tau_1}{\\tau_1 + \\tau_0} = \\frac{q}{p+q}\n",
    "$$"
   ]
  },
  {
   "cell_type": "code",
   "execution_count": null,
   "metadata": {},
   "outputs": [],
   "source": []
  }
 ],
 "metadata": {
  "kernelspec": {
   "display_name": "Python 3",
   "language": "python",
   "name": "python3"
  },
  "language_info": {
   "codemirror_mode": {
    "name": "ipython",
    "version": 3
   },
   "file_extension": ".py",
   "mimetype": "text/x-python",
   "name": "python",
   "nbconvert_exporter": "python",
   "pygments_lexer": "ipython3",
   "version": "3.7.3"
  }
 },
 "nbformat": 4,
 "nbformat_minor": 4
}
